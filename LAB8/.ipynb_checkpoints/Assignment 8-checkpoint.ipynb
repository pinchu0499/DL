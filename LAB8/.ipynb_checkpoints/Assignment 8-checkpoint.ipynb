{
 "cells": [
  {
   "cell_type": "code",
   "execution_count": null,
   "metadata": {
    "id": "C3QqLHFSYxXW"
   },
   "outputs": [],
   "source": [
    "import cv2\n",
    "import pandas as pd\n",
    "import matplotlib.pyplot as plt\n",
    "import numpy as np\n",
    "\n",
    "from keras.layers import Dense,Dropout,Flatten\n",
    "from keras.models import Sequential\n",
    "from sklearn.model_selection import train_test_split"
   ]
  },
  {
   "cell_type": "code",
   "execution_count": null,
   "metadata": {
    "id": "MA68R8SwcUcU"
   },
   "outputs": [],
   "source": [
    "from google.colab import drive\n",
    "drive.mount('/content/drive')"
   ]
  },
  {
   "cell_type": "code",
   "execution_count": null,
   "metadata": {
    "id": "hsIhI6lAcVS5"
   },
   "outputs": [],
   "source": [
    "path = \"/content/drive/My Drive/Colab Notebooks/Deep Learning/Assignment 8\""
   ]
  },
  {
   "cell_type": "code",
   "execution_count": null,
   "metadata": {
    "id": "k2P27tpucjNK"
   },
   "outputs": [],
   "source": [
    "output_file = pd.read_csv(path+\"/output.csv\")\n",
    "y = output_file[:].values\n",
    "y = y.reshape(40,2)\n",
    "y[:5]"
   ]
  },
  {
   "cell_type": "code",
   "execution_count": null,
   "metadata": {
    "id": "qRH8BHqTcpg6"
   },
   "outputs": [],
   "source": [
    "image = cv2.imread(path+\"/dogs/dog.1.jpg\")\n",
    "image = cv2.cvtColor(image,cv2.COLOR_BGR2RGB)\n",
    "plt.imshow(image)"
   ]
  },
  {
   "cell_type": "code",
   "execution_count": null,
   "metadata": {
    "id": "BisAw-FneF-2"
   },
   "outputs": [],
   "source": [
    "#Since all the images are of different dimensions, we need to make all the images to same size\n",
    "def returnX(inputsize):\n",
    "        \n",
    "    X = []\n",
    "\n",
    "    for i in range(1,21):\n",
    "        image = cv2.imread(path+\"/cats/cat.\"+str(i)+\".jpg\")\n",
    "        image = cv2.cvtColor(image,cv2.COLOR_BGR2RGB)\n",
    "        image = cv2.resize(image,(inputsize,inputsize))\n",
    "        X.append(image)\n",
    "\n",
    "        image = cv2.imread(path+\"/dogs/dog.\"+str(i)+\".jpg\")\n",
    "        image = cv2.cvtColor(image,cv2.COLOR_BGR2RGB)\n",
    "        image = cv2.resize(image,(inputsize,inputsize))\n",
    "        X.append(image)\n",
    "        \n",
    "    X = np.array(X)\n",
    "    print(f\"Shape of X: {X.shape}\")\n",
    "\n",
    "    return X"
   ]
  },
  {
   "cell_type": "markdown",
   "metadata": {
    "id": "Ss21pv4pSPyD"
   },
   "source": [
    "#Xception"
   ]
  },
  {
   "cell_type": "code",
   "execution_count": null,
   "metadata": {
    "id": "ChC-JWtm2foC"
   },
   "outputs": [],
   "source": [
    "from keras.applications.xception import Xception"
   ]
  },
  {
   "cell_type": "code",
   "execution_count": null,
   "metadata": {
    "id": "29NlMOMlTBtJ"
   },
   "outputs": [],
   "source": [
    "X = returnX(299)\n",
    "X_train,X_test,y_train,y_test = train_test_split(X,y,test_size=0.3)"
   ]
  },
  {
   "cell_type": "code",
   "execution_count": null,
   "metadata": {
    "id": "t8IV3QjWTWS4"
   },
   "outputs": [],
   "source": [
    "xception = Xception(weights='imagenet',include_top=False,input_shape=(299,299,3))"
   ]
  },
  {
   "cell_type": "code",
   "execution_count": null,
   "metadata": {
    "id": "yPNt7YuhTwKb"
   },
   "outputs": [],
   "source": [
    "#with 1 layer\n",
    "model = Sequential()\n",
    "model.add(xception)\n",
    "model.add(Flatten())\n",
    "model.add(Dense(1024,activation='relu'))\n",
    "model.add(Dropout(0.5))\n",
    "model.add(Dense(2,activation='softmax'))\n",
    "\n",
    "model.compile(optimizer='adam',loss='categorical_crossentropy',metrics=['accuracy'])\n",
    "model.fit(X_train,y_train)\n",
    "\n",
    "_,train_accuracy = model.evaluate(X_train,y_train)\n",
    "print(f\"Training accuracy: {train_accuracy*100}%\")\n",
    "_,test_accuracy = model.evaluate(X_test,y_test)\n",
    "print(f\"Testing accuracy: {test_accuracy*100}%\")"
   ]
  },
  {
   "cell_type": "code",
   "execution_count": null,
   "metadata": {
    "id": "I3jfqsUSTs6h"
   },
   "outputs": [],
   "source": [
    "#with 2 layers\n",
    "model = Sequential()\n",
    "model.add(xception)\n",
    "model.add(Flatten())\n",
    "model.add(Dense(1024,activation='relu'))\n",
    "model.add(Dropout(0.5))\n",
    "model.add(Dense(1024,activation='relu'))\n",
    "model.add(Dropout(0.5))\n",
    "model.add(Dense(2,activation='softmax'))\n",
    "\n",
    "model.compile(optimizer='adam',loss='categorical_crossentropy',metrics=['accuracy'])\n",
    "model.fit(X_train,y_train)\n",
    "\n",
    "_,train_accuracy = model.evaluate(X_train,y_train)\n",
    "print(f\"Training accuracy: {train_accuracy*100}%\")\n",
    "_,test_accuracy = model.evaluate(X_test,y_test)\n",
    "print(f\"Testing accuracy: {test_accuracy*100}%\")"
   ]
  },
  {
   "cell_type": "code",
   "execution_count": null,
   "metadata": {
    "id": "V9Gn5z1iTpo7"
   },
   "outputs": [],
   "source": [
    "#with 3 layers\n",
    "model = Sequential()\n",
    "model.add(xception)\n",
    "model.add(Flatten())\n",
    "model.add(Dense(1024,activation='relu'))\n",
    "model.add(Dropout(0.5))\n",
    "model.add(Dense(1024,activation='relu'))\n",
    "model.add(Dropout(0.5))\n",
    "model.add(Dense(1024,activation='relu'))\n",
    "model.add(Dropout(0.5))\n",
    "model.add(Dense(2,activation='softmax'))\n",
    "\n",
    "model.compile(optimizer='adam',loss='categorical_crossentropy',metrics=['accuracy'])\n",
    "model.fit(X_train,y_train)\n",
    "\n",
    "_,train_accuracy = model.evaluate(X_train,y_train)\n",
    "print(f\"Training accuracy: {train_accuracy*100}%\")\n",
    "_,test_accuracy = model.evaluate(X_test,y_test)\n",
    "print(f\"Testing accuracy: {test_accuracy*100}%\")"
   ]
  },
  {
   "cell_type": "code",
   "execution_count": null,
   "metadata": {
    "id": "fUqKRbakTWbR"
   },
   "outputs": [],
   "source": [
    "#with 4 layers\n",
    "model = Sequential()\n",
    "model.add(xception)\n",
    "model.add(Flatten())\n",
    "model.add(Dense(1024,activation='relu'))\n",
    "model.add(Dropout(0.5))\n",
    "model.add(Dense(1024,activation='relu'))\n",
    "model.add(Dropout(0.5))\n",
    "model.add(Dense(1024,activation='relu'))\n",
    "model.add(Dropout(0.5))\n",
    "model.add(Dense(1024,activation='relu'))\n",
    "model.add(Dropout(0.5))\n",
    "model.add(Dense(2,activation='softmax'))\n",
    "\n",
    "model.compile(optimizer='adam',loss='categorical_crossentropy',metrics=['accuracy'])\n",
    "model.fit(X_train,y_train)\n",
    "\n",
    "_,train_accuracy = model.evaluate(X_train,y_train)\n",
    "print(f\"Training accuracy: {train_accuracy*100}%\")\n",
    "_,test_accuracy = model.evaluate(X_test,y_test)\n",
    "print(f\"Testing accuracy: {test_accuracy*100}%\")"
   ]
  },
  {
   "cell_type": "code",
   "execution_count": null,
   "metadata": {
    "id": "Zne10tnHgKqV"
   },
   "outputs": [],
   "source": [
    "#with 25% freezing\n",
    "for layer in xception.layers[:34]:\n",
    "    layer.trainable = False\n",
    "\n",
    "model = Sequential()\n",
    "model.add(xception)\n",
    "model.add(Flatten())\n",
    "model.add(Dense(1024,activation='relu'))\n",
    "model.add(Dropout(0.5))\n",
    "model.add(Dense(2,activation='softmax'))\n",
    "\n",
    "model.compile(optimizer='adam',loss='categorical_crossentropy',metrics=['accuracy'])\n",
    "model.fit(X_train,y_train)\n",
    "\n",
    "_,train_accuracy = model.evaluate(X_train,y_train)\n",
    "print(f\"Training accuracy: {train_accuracy*100}%\")\n",
    "_,test_accuracy = model.evaluate(X_test,y_test)\n",
    "print(f\"Testing accuracy: {test_accuracy*100}%\")"
   ]
  },
  {
   "cell_type": "code",
   "execution_count": null,
   "metadata": {
    "id": "88C2tcAEgiMo"
   },
   "outputs": [],
   "source": [
    "#with 50% freezing\n",
    "for layer in xception.layers[34:67]:\n",
    "    layer.trainable = False\n",
    "\n",
    "model = Sequential()\n",
    "model.add(xception)\n",
    "model.add(Flatten())\n",
    "model.add(Dense(1024,activation='relu'))\n",
    "model.add(Dropout(0.5))\n",
    "model.add(Dense(2,activation='softmax'))\n",
    "\n",
    "model.compile(optimizer='adam',loss='categorical_crossentropy',metrics=['accuracy'])\n",
    "model.fit(X_train,y_train)\n",
    "\n",
    "_,train_accuracy = model.evaluate(X_train,y_train)\n",
    "print(f\"Training accuracy: {train_accuracy*100}%\")\n",
    "_,test_accuracy = model.evaluate(X_test,y_test)\n",
    "print(f\"Testing accuracy: {test_accuracy*100}%\")"
   ]
  },
  {
   "cell_type": "code",
   "execution_count": null,
   "metadata": {
    "id": "9itZOm6QgrgF"
   },
   "outputs": [],
   "source": [
    "#with 75% freezing\n",
    "for layer in xception.layers[67:99]:\n",
    "    layer.trainable = False\n",
    "\n",
    "model = Sequential()\n",
    "model.add(xception)\n",
    "model.add(Flatten())\n",
    "model.add(Dense(1024,activation='relu'))\n",
    "model.add(Dropout(0.5))\n",
    "model.add(Dense(2,activation='softmax'))\n",
    "\n",
    "model.compile(optimizer='adam',loss='categorical_crossentropy',metrics=['accuracy'])\n",
    "model.fit(X_train,y_train)\n",
    "\n",
    "_,train_accuracy = model.evaluate(X_train,y_train)\n",
    "print(f\"Training accuracy: {train_accuracy*100}%\")\n",
    "_,test_accuracy = model.evaluate(X_test,y_test)\n",
    "print(f\"Testing accuracy: {test_accuracy*100}%\")"
   ]
  },
  {
   "cell_type": "code",
   "execution_count": null,
   "metadata": {
    "id": "w4r36VNdSZu9"
   },
   "outputs": [],
   "source": [
    "#with 100% freezing\n",
    "for layer in xception.layers[99:]:\n",
    "    layer.trainable = False\n",
    "\n",
    "model = Sequential()\n",
    "model.add(xception)\n",
    "model.add(Flatten())\n",
    "model.add(Dense(1024,activation='relu'))\n",
    "model.add(Dropout(0.5))\n",
    "model.add(Dense(2,activation='softmax'))\n",
    "\n",
    "model.compile(optimizer='adam',loss='categorical_crossentropy',metrics=['accuracy'])\n",
    "model.fit(X_train,y_train)\n",
    "\n",
    "_,train_accuracy = model.evaluate(X_train,y_train)\n",
    "print(f\"Training accuracy: {train_accuracy*100}%\")\n",
    "_,test_accuracy = model.evaluate(X_test,y_test)\n",
    "print(f\"Testing accuracy: {test_accuracy*100}%\")"
   ]
  },
  {
   "cell_type": "markdown",
   "metadata": {
    "id": "Fa8FmwAOWUBl"
   },
   "source": [
    "#VGG19"
   ]
  },
  {
   "cell_type": "code",
   "execution_count": null,
   "metadata": {
    "id": "OA8SbLj3SfCV"
   },
   "outputs": [],
   "source": [
    "from keras.applications.vgg19 import VGG19"
   ]
  },
  {
   "cell_type": "code",
   "execution_count": null,
   "metadata": {
    "id": "HG_Tl-QLWqZ2"
   },
   "outputs": [],
   "source": [
    "X = returnX(224)\n",
    "X_train,X_test,y_train,y_test = train_test_split(X,y,test_size=0.3)"
   ]
  },
  {
   "cell_type": "code",
   "execution_count": null,
   "metadata": {
    "id": "vRG6geH3WssK"
   },
   "outputs": [],
   "source": [
    "vgg19 = VGG19(weights='imagenet',include_top=False,input_shape=(224,224,3))"
   ]
  },
  {
   "cell_type": "code",
   "execution_count": null,
   "metadata": {
    "id": "n1hatPtFXZjx"
   },
   "outputs": [],
   "source": [
    "#with 1 layer\n",
    "model = Sequential()\n",
    "model.add(vgg19)\n",
    "model.add(Flatten())\n",
    "model.add(Dense(1024,activation='relu'))\n",
    "model.add(Dropout(0.5))\n",
    "model.add(Dense(2,activation='softmax'))\n",
    "\n",
    "model.compile(optimizer='adam',loss='categorical_crossentropy',metrics=['accuracy'])\n",
    "model.fit(X_train,y_train)\n",
    "\n",
    "_,train_accuracy = model.evaluate(X_train,y_train)\n",
    "print(f\"Training accuracy: {train_accuracy*100}%\")\n",
    "_,test_accuracy = model.evaluate(X_test,y_test)\n",
    "print(f\"Testing accuracy: {test_accuracy*100}%\")"
   ]
  },
  {
   "cell_type": "code",
   "execution_count": null,
   "metadata": {
    "id": "h6uut5zUXRLX"
   },
   "outputs": [],
   "source": [
    "#with 2 layers\n",
    "model = Sequential()\n",
    "model.add(vgg19)\n",
    "model.add(Flatten())\n",
    "model.add(Dense(1024,activation='relu'))\n",
    "model.add(Dropout(0.5))\n",
    "model.add(Dense(1024,activation='relu'))\n",
    "model.add(Dropout(0.5))\n",
    "model.add(Dense(2,activation='softmax'))\n",
    "\n",
    "model.compile(optimizer='adam',loss='categorical_crossentropy',metrics=['accuracy'])\n",
    "model.fit(X_train,y_train)\n",
    "\n",
    "_,train_accuracy = model.evaluate(X_train,y_train)\n",
    "print(f\"Training accuracy: {train_accuracy*100}%\")\n",
    "_,test_accuracy = model.evaluate(X_test,y_test)\n",
    "print(f\"Testing accuracy: {test_accuracy*100}%\")"
   ]
  },
  {
   "cell_type": "code",
   "execution_count": null,
   "metadata": {
    "id": "haZCzhuAXNEN"
   },
   "outputs": [],
   "source": [
    "#with 3 layers\n",
    "model = Sequential()\n",
    "model.add(vgg19)\n",
    "model.add(Flatten())\n",
    "model.add(Dense(1024,activation='relu'))\n",
    "model.add(Dropout(0.5))\n",
    "model.add(Dense(1024,activation='relu'))\n",
    "model.add(Dropout(0.5))\n",
    "model.add(Dense(1024,activation='relu'))\n",
    "model.add(Dropout(0.5))\n",
    "model.add(Dense(2,activation='softmax'))\n",
    "\n",
    "model.compile(optimizer='adam',loss='categorical_crossentropy',metrics=['accuracy'])\n",
    "model.fit(X_train,y_train)\n",
    "\n",
    "_,train_accuracy = model.evaluate(X_train,y_train)\n",
    "print(f\"Training accuracy: {train_accuracy*100}%\")\n",
    "_,test_accuracy = model.evaluate(X_test,y_test)\n",
    "print(f\"Testing accuracy: {test_accuracy*100}%\")"
   ]
  },
  {
   "cell_type": "code",
   "execution_count": null,
   "metadata": {
    "id": "lw6dkEfeXCJ5"
   },
   "outputs": [],
   "source": [
    "#with 4 layers\n",
    "model = Sequential()\n",
    "model.add(vgg19)\n",
    "model.add(Flatten())\n",
    "model.add(Dense(1024,activation='relu'))\n",
    "model.add(Dropout(0.5))\n",
    "model.add(Dense(1024,activation='relu'))\n",
    "model.add(Dropout(0.5))\n",
    "model.add(Dense(1024,activation='relu'))\n",
    "model.add(Dropout(0.5))\n",
    "model.add(Dense(1024,activation='relu'))\n",
    "model.add(Dropout(0.5))\n",
    "model.add(Dense(2,activation='softmax'))\n",
    "\n",
    "model.compile(optimizer='adam',loss='categorical_crossentropy',metrics=['accuracy'])\n",
    "model.fit(X_train,y_train)\n",
    "\n",
    "_,train_accuracy = model.evaluate(X_train,y_train)\n",
    "print(f\"Training accuracy: {train_accuracy*100}%\")\n",
    "_,test_accuracy = model.evaluate(X_test,y_test)\n",
    "print(f\"Testing accuracy: {test_accuracy*100}%\")"
   ]
  },
  {
   "cell_type": "code",
   "execution_count": null,
   "metadata": {
    "id": "JzodNQK9XwcR"
   },
   "outputs": [],
   "source": [
    "#with 25% freezing\n",
    "for layer in vgg19.layers[:6]:\n",
    "    layer.trainable = False\n",
    "\n",
    "model = Sequential()\n",
    "model.add(vgg19)\n",
    "model.add(Flatten())\n",
    "model.add(Dense(1024,activation='relu'))\n",
    "model.add(Dropout(0.5))\n",
    "model.add(Dense(2,activation='softmax'))\n",
    "\n",
    "model.compile(optimizer='adam',loss='categorical_crossentropy',metrics=['accuracy'])\n",
    "model.fit(X_train,y_train)\n",
    "\n",
    "_,train_accuracy = model.evaluate(X_train,y_train)\n",
    "print(f\"Training accuracy: {train_accuracy*100}%\")\n",
    "_,test_accuracy = model.evaluate(X_test,y_test)\n",
    "print(f\"Testing accuracy: {test_accuracy*100}%\")"
   ]
  },
  {
   "cell_type": "code",
   "execution_count": null,
   "metadata": {
    "id": "_9oIQRmYXvhd"
   },
   "outputs": [],
   "source": [
    "#with 50% freezing\n",
    "for layer in vgg19.layers[6:12]:\n",
    "    layer.trainable = False\n",
    "\n",
    "model = Sequential()\n",
    "model.add(vgg19)\n",
    "model.add(Flatten())\n",
    "model.add(Dense(1024,activation='relu'))\n",
    "model.add(Dropout(0.5))\n",
    "model.add(Dense(2,activation='softmax'))\n",
    "\n",
    "model.compile(optimizer='adam',loss='categorical_crossentropy',metrics=['accuracy'])\n",
    "model.fit(X_train,y_train)\n",
    "\n",
    "_,train_accuracy = model.evaluate(X_train,y_train)\n",
    "print(f\"Training accuracy: {train_accuracy*100}%\")\n",
    "_,test_accuracy = model.evaluate(X_test,y_test)\n",
    "print(f\"Testing accuracy: {test_accuracy*100}%\")"
   ]
  },
  {
   "cell_type": "code",
   "execution_count": null,
   "metadata": {
    "id": "kbwmyfi3Xuj4"
   },
   "outputs": [],
   "source": [
    "#with 75% freezing\n",
    "for layer in vgg19.layers[12:17]:\n",
    "    layer.trainable = False\n",
    "\n",
    "model = Sequential()\n",
    "model.add(vgg19)\n",
    "model.add(Flatten())\n",
    "model.add(Dense(1024,activation='relu'))\n",
    "model.add(Dropout(0.5))\n",
    "model.add(Dense(2,activation='softmax'))\n",
    "\n",
    "model.compile(optimizer='adam',loss='categorical_crossentropy',metrics=['accuracy'])\n",
    "model.fit(X_train,y_train)\n",
    "\n",
    "_,train_accuracy = model.evaluate(X_train,y_train)\n",
    "print(f\"Training accuracy: {train_accuracy*100}%\")\n",
    "_,test_accuracy = model.evaluate(X_test,y_test)\n",
    "print(f\"Testing accuracy: {test_accuracy*100}%\")"
   ]
  },
  {
   "cell_type": "code",
   "execution_count": null,
   "metadata": {
    "id": "c1v7Zuw4Wlu2"
   },
   "outputs": [],
   "source": [
    "#with 100% freezing\n",
    "for layer in vgg19.layers[17:]:\n",
    "    layer.trainable = False\n",
    "\n",
    "model = Sequential()\n",
    "model.add(vgg19)\n",
    "model.add(Flatten())\n",
    "model.add(Dense(1024,activation='relu'))\n",
    "model.add(Dropout(0.5))\n",
    "model.add(Dense(2,activation='softmax'))\n",
    "\n",
    "model.compile(optimizer='adam',loss='categorical_crossentropy',metrics=['accuracy'])\n",
    "model.fit(X_train,y_train)\n",
    "\n",
    "_,train_accuracy = model.evaluate(X_train,y_train)\n",
    "print(f\"Training accuracy: {train_accuracy*100}%\")\n",
    "_,test_accuracy = model.evaluate(X_test,y_test)\n",
    "print(f\"Testing accuracy: {test_accuracy*100}%\")"
   ]
  },
  {
   "cell_type": "markdown",
   "metadata": {
    "id": "zl_R9QSAYj-k"
   },
   "source": [
    "#ResNet50"
   ]
  },
  {
   "cell_type": "code",
   "execution_count": null,
   "metadata": {
    "id": "oUmKWDphYYGI"
   },
   "outputs": [],
   "source": [
    "from keras.applications.resnet50 import ResNet50"
   ]
  },
  {
   "cell_type": "code",
   "execution_count": null,
   "metadata": {
    "id": "PycUYWmCY9mN"
   },
   "outputs": [],
   "source": [
    "X = returnX(224)\n",
    "X_train,X_test,y_train,y_test = train_test_split(X,y,test_size=0.3)"
   ]
  },
  {
   "cell_type": "code",
   "execution_count": null,
   "metadata": {
    "id": "8fdQuzlYZJ_S"
   },
   "outputs": [],
   "source": [
    "resnet50 = ResNet50(weights='imagenet',include_top=False,input_shape=(224,224,3))"
   ]
  },
  {
   "cell_type": "code",
   "execution_count": null,
   "metadata": {
    "id": "HBrybU4cZzsx"
   },
   "outputs": [],
   "source": [
    "#with 1 layer\n",
    "model = Sequential()\n",
    "model.add(resnet50)\n",
    "model.add(Flatten())\n",
    "model.add(Dense(1024,activation='relu'))\n",
    "model.add(Dropout(0.5))\n",
    "model.add(Dense(2,activation='softmax'))\n",
    "\n",
    "model.compile(optimizer='adam',loss='categorical_crossentropy',metrics=['accuracy'])\n",
    "model.fit(X_train,y_train)\n",
    "\n",
    "_,train_accuracy = model.evaluate(X_train,y_train)\n",
    "print(f\"Training accuracy: {train_accuracy*100}%\")\n",
    "_,test_accuracy = model.evaluate(X_test,y_test)\n",
    "print(f\"Testing accuracy: {test_accuracy*100}%\")"
   ]
  },
  {
   "cell_type": "code",
   "execution_count": null,
   "metadata": {
    "id": "HDMpbIAnZnwv"
   },
   "outputs": [],
   "source": [
    "#with 2 layers\n",
    "model = Sequential()\n",
    "model.add(resnet50)\n",
    "model.add(Flatten())\n",
    "model.add(Dense(1024,activation='relu'))\n",
    "model.add(Dropout(0.5))\n",
    "model.add(Dense(1024,activation='relu'))\n",
    "model.add(Dropout(0.5))\n",
    "model.add(Dense(2,activation='softmax'))\n",
    "\n",
    "model.compile(optimizer='adam',loss='categorical_crossentropy',metrics=['accuracy'])\n",
    "model.fit(X_train,y_train)\n",
    "\n",
    "_,train_accuracy = model.evaluate(X_train,y_train)\n",
    "print(f\"Training accuracy: {train_accuracy*100}%\")\n",
    "_,test_accuracy = model.evaluate(X_test,y_test)\n",
    "print(f\"Testing accuracy: {test_accuracy*100}%\")"
   ]
  },
  {
   "cell_type": "code",
   "execution_count": null,
   "metadata": {
    "id": "jLKJGwa9Zi_U"
   },
   "outputs": [],
   "source": [
    "#with 3 layers\n",
    "model = Sequential()\n",
    "model.add(resnet50)\n",
    "model.add(Flatten())\n",
    "model.add(Dense(1024,activation='relu'))\n",
    "model.add(Dropout(0.5))\n",
    "model.add(Dense(1024,activation='relu'))\n",
    "model.add(Dropout(0.5))\n",
    "model.add(Dense(1024,activation='relu'))\n",
    "model.add(Dropout(0.5))\n",
    "model.add(Dense(2,activation='softmax'))\n",
    "\n",
    "model.compile(optimizer='adam',loss='categorical_crossentropy',metrics=['accuracy'])\n",
    "model.fit(X_train,y_train)\n",
    "\n",
    "_,train_accuracy = model.evaluate(X_train,y_train)\n",
    "print(f\"Training accuracy: {train_accuracy*100}%\")\n",
    "_,test_accuracy = model.evaluate(X_test,y_test)\n",
    "print(f\"Testing accuracy: {test_accuracy*100}%\")"
   ]
  },
  {
   "cell_type": "code",
   "execution_count": null,
   "metadata": {
    "id": "N9WHLVS9YwK7"
   },
   "outputs": [],
   "source": [
    "#with 4 layers\n",
    "model = Sequential()\n",
    "model.add(resnet50)\n",
    "model.add(Flatten())\n",
    "model.add(Dense(1024,activation='relu'))\n",
    "model.add(Dropout(0.5))\n",
    "model.add(Dense(1024,activation='relu'))\n",
    "model.add(Dropout(0.5))\n",
    "model.add(Dense(1024,activation='relu'))\n",
    "model.add(Dropout(0.5))\n",
    "model.add(Dense(1024,activation='relu'))\n",
    "model.add(Dropout(0.5))\n",
    "model.add(Dense(2,activation='softmax'))\n",
    "\n",
    "model.compile(optimizer='adam',loss='categorical_crossentropy',metrics=['accuracy'])\n",
    "model.fit(X_train,y_train)\n",
    "\n",
    "_,train_accuracy = model.evaluate(X_train,y_train)\n",
    "print(f\"Training accuracy: {train_accuracy*100}%\")\n",
    "_,test_accuracy = model.evaluate(X_test,y_test)\n",
    "print(f\"Testing accuracy: {test_accuracy*100}%\")"
   ]
  },
  {
   "cell_type": "code",
   "execution_count": null,
   "metadata": {
    "id": "e8nkBkSGZh_f"
   },
   "outputs": [],
   "source": [
    "#with 25% freezing\n",
    "for layer in resnet50.layers[:44]:\n",
    "    layer.trainable = False\n",
    "\n",
    "model = Sequential()\n",
    "model.add(resnet50)\n",
    "model.add(Flatten())\n",
    "model.add(Dense(1024,activation='relu'))\n",
    "model.add(Dropout(0.5))\n",
    "model.add(Dense(2,activation='softmax'))\n",
    "\n",
    "model.compile(optimizer='adam',loss='categorical_crossentropy',metrics=['accuracy'])\n",
    "model.fit(X_train,y_train)\n",
    "\n",
    "_,train_accuracy = model.evaluate(X_train,y_train)\n",
    "print(f\"Training accuracy: {train_accuracy*100}%\")\n",
    "_,test_accuracy = model.evaluate(X_test,y_test)\n",
    "print(f\"Testing accuracy: {test_accuracy*100}%\")"
   ]
  },
  {
   "cell_type": "code",
   "execution_count": null,
   "metadata": {
    "id": "2_BgEB6ka0q3"
   },
   "outputs": [],
   "source": [
    "#with 50% freezing\n",
    "for layer in resnet50.layers[44:88]:\n",
    "    layer.trainable = False\n",
    "\n",
    "model = Sequential()\n",
    "model.add(resnet50)\n",
    "model.add(Flatten())\n",
    "model.add(Dense(1024,activation='relu'))\n",
    "model.add(Dropout(0.5))\n",
    "model.add(Dense(2,activation='softmax'))\n",
    "\n",
    "model.compile(optimizer='adam',loss='categorical_crossentropy',metrics=['accuracy'])\n",
    "model.fit(X_train,y_train)\n",
    "\n",
    "_,train_accuracy = model.evaluate(X_train,y_train)\n",
    "print(f\"Training accuracy: {train_accuracy*100}%\")\n",
    "_,test_accuracy = model.evaluate(X_test,y_test)\n",
    "print(f\"Testing accuracy: {test_accuracy*100}%\")"
   ]
  },
  {
   "cell_type": "code",
   "execution_count": null,
   "metadata": {
    "id": "gvCMc8T9a8l5"
   },
   "outputs": [],
   "source": [
    "#with 75% freezing\n",
    "for layer in resnet50.layers[88:132]:\n",
    "    layer.trainable = False\n",
    "\n",
    "model = Sequential()\n",
    "model.add(resnet50)\n",
    "model.add(Flatten())\n",
    "model.add(Dense(1024,activation='relu'))\n",
    "model.add(Dropout(0.5))\n",
    "model.add(Dense(2,activation='softmax'))\n",
    "\n",
    "model.compile(optimizer='adam',loss='categorical_crossentropy',metrics=['accuracy'])\n",
    "model.fit(X_train,y_train)\n",
    "\n",
    "_,train_accuracy = model.evaluate(X_train,y_train)\n",
    "print(f\"Training accuracy: {train_accuracy*100}%\")\n",
    "_,test_accuracy = model.evaluate(X_test,y_test)\n",
    "print(f\"Testing accuracy: {test_accuracy*100}%\")"
   ]
  },
  {
   "cell_type": "code",
   "execution_count": null,
   "metadata": {
    "id": "j_oNv2uTbDsl"
   },
   "outputs": [],
   "source": [
    "#with 100% freezing\n",
    "for layer in resnet50.layers[132:]:\n",
    "    layer.trainable = False\n",
    "\n",
    "model = Sequential()\n",
    "model.add(resnet50)\n",
    "model.add(Flatten())\n",
    "model.add(Dense(1024,activation='relu'))\n",
    "model.add(Dropout(0.5))\n",
    "model.add(Dense(2,activation='softmax'))\n",
    "\n",
    "model.compile(optimizer='adam',loss='categorical_crossentropy',metrics=['accuracy'])\n",
    "model.fit(X_train,y_train)\n",
    "\n",
    "_,train_accuracy = model.evaluate(X_train,y_train)\n",
    "print(f\"Training accuracy: {train_accuracy*100}%\")\n",
    "_,test_accuracy = model.evaluate(X_test,y_test)\n",
    "print(f\"Testing accuracy: {test_accuracy*100}%\")"
   ]
  },
  {
   "cell_type": "markdown",
   "metadata": {
    "id": "XMdF9M-VcR6K"
   },
   "source": [
    "#InceptionV3"
   ]
  },
  {
   "cell_type": "code",
   "execution_count": null,
   "metadata": {
    "id": "65n8hbgBeogd"
   },
   "outputs": [],
   "source": [
    "from keras.applications.inception_v3 import InceptionV3"
   ]
  },
  {
   "cell_type": "code",
   "execution_count": null,
   "metadata": {
    "id": "uRFE6Ve6fHB8"
   },
   "outputs": [],
   "source": [
    "X = returnX(299)\n",
    "X_train,X_test,y_train,y_test = train_test_split(X,y,test_size=0.3)"
   ]
  },
  {
   "cell_type": "code",
   "execution_count": null,
   "metadata": {
    "id": "S1vr_i74fTtR"
   },
   "outputs": [],
   "source": [
    "inceptionv3 = InceptionV3(include_top=False,weights='imagenet',input_shape=(299,299,3))"
   ]
  },
  {
   "cell_type": "code",
   "execution_count": null,
   "metadata": {
    "id": "jaxB1yjMgH6E"
   },
   "outputs": [],
   "source": [
    "#with 1 layer\n",
    "model = Sequential()\n",
    "model.add(inceptionv3)\n",
    "model.add(Flatten())\n",
    "model.add(Dense(1024,activation='relu'))\n",
    "model.add(Dropout(0.5))\n",
    "model.add(Dense(2,activation='softmax'))\n",
    "\n",
    "model.compile(optimizer='adam',loss='categorical_crossentropy',metrics=['accuracy'])\n",
    "model.fit(X_train,y_train)\n",
    "\n",
    "_,train_accuracy = model.evaluate(X_train,y_train)\n",
    "print(f\"Training accuracy: {train_accuracy*100}%\")\n",
    "_,test_accuracy = model.evaluate(X_test,y_test)\n",
    "print(f\"Testing accuracy: {test_accuracy*100}%\")"
   ]
  },
  {
   "cell_type": "code",
   "execution_count": null,
   "metadata": {
    "id": "qS5R0mpbgBhw"
   },
   "outputs": [],
   "source": [
    "#with 2 layers\n",
    "model = Sequential()\n",
    "model.add(inceptionv3)\n",
    "model.add(Flatten())\n",
    "model.add(Dense(1024,activation='relu'))\n",
    "model.add(Dropout(0.5))\n",
    "model.add(Dense(1024,activation='relu'))\n",
    "model.add(Dropout(0.5))\n",
    "model.add(Dense(2,activation='softmax'))\n",
    "\n",
    "model.compile(optimizer='adam',loss='categorical_crossentropy',metrics=['accuracy'])\n",
    "model.fit(X_train,y_train)\n",
    "\n",
    "_,train_accuracy = model.evaluate(X_train,y_train)\n",
    "print(f\"Training accuracy: {train_accuracy*100}%\")\n",
    "_,test_accuracy = model.evaluate(X_test,y_test)\n",
    "print(f\"Testing accuracy: {test_accuracy*100}%\")"
   ]
  },
  {
   "cell_type": "code",
   "execution_count": null,
   "metadata": {
    "id": "n7KtBMNKf9S4"
   },
   "outputs": [],
   "source": [
    "#with 3 layers\n",
    "model = Sequential()\n",
    "model.add(inceptionv3)\n",
    "model.add(Flatten())\n",
    "model.add(Dense(1024,activation='relu'))\n",
    "model.add(Dropout(0.5))\n",
    "model.add(Dense(1024,activation='relu'))\n",
    "model.add(Dropout(0.5))\n",
    "model.add(Dense(1024,activation='relu'))\n",
    "model.add(Dropout(0.5))\n",
    "model.add(Dense(2,activation='softmax'))\n",
    "\n",
    "model.compile(optimizer='adam',loss='categorical_crossentropy',metrics=['accuracy'])\n",
    "model.fit(X_train,y_train)\n",
    "\n",
    "_,train_accuracy = model.evaluate(X_train,y_train)\n",
    "print(f\"Training accuracy: {train_accuracy*100}%\")\n",
    "_,test_accuracy = model.evaluate(X_test,y_test)\n",
    "print(f\"Testing accuracy: {test_accuracy*100}%\")"
   ]
  },
  {
   "cell_type": "code",
   "execution_count": null,
   "metadata": {
    "id": "0q6w5kBpf0p7"
   },
   "outputs": [],
   "source": [
    "#with 4 layers\n",
    "model = Sequential()\n",
    "model.add(inceptionv3)\n",
    "model.add(Flatten())\n",
    "model.add(Dense(1024,activation='relu'))\n",
    "model.add(Dropout(0.5))\n",
    "model.add(Dense(1024,activation='relu'))\n",
    "model.add(Dropout(0.5))\n",
    "model.add(Dense(1024,activation='relu'))\n",
    "model.add(Dropout(0.5))\n",
    "model.add(Dense(1024,activation='relu'))\n",
    "model.add(Dropout(0.5))\n",
    "model.add(Dense(2,activation='softmax'))\n",
    "\n",
    "model.compile(optimizer='adam',loss='categorical_crossentropy',metrics=['accuracy'])\n",
    "model.fit(X_train,y_train)\n",
    "\n",
    "_,train_accuracy = model.evaluate(X_train,y_train)\n",
    "print(f\"Training accuracy: {train_accuracy*100}%\")\n",
    "_,test_accuracy = model.evaluate(X_test,y_test)\n",
    "print(f\"Testing accuracy: {test_accuracy*100}%\")"
   ]
  },
  {
   "cell_type": "code",
   "execution_count": null,
   "metadata": {
    "id": "87Z6Bq5wf7Cz"
   },
   "outputs": [],
   "source": [
    "#with 25% freezing\n",
    "for layer in inceptionv3.layers[:78]:\n",
    "    layer.trainable = False\n",
    "\n",
    "model = Sequential()\n",
    "model.add(inceptionv3)\n",
    "model.add(Flatten())\n",
    "model.add(Dense(1024,activation='relu'))\n",
    "model.add(Dropout(0.5))\n",
    "model.add(Dense(2,activation='softmax'))\n",
    "\n",
    "model.compile(optimizer='adam',loss='categorical_crossentropy',metrics=['accuracy'])\n",
    "model.fit(X_train,y_train)\n",
    "\n",
    "_,train_accuracy = model.evaluate(X_train,y_train)\n",
    "print(f\"Training accuracy: {train_accuracy*100}%\")\n",
    "_,test_accuracy = model.evaluate(X_test,y_test)\n",
    "print(f\"Testing accuracy: {test_accuracy*100}%\")"
   ]
  },
  {
   "cell_type": "code",
   "execution_count": null,
   "metadata": {
    "id": "vmy1oDsFgSp8"
   },
   "outputs": [],
   "source": [
    "#with 50% freezing\n",
    "for layer in inceptionv3.layers[78:156]:\n",
    "    layer.trainable = False\n",
    "\n",
    "model = Sequential()\n",
    "model.add(inceptionv3)\n",
    "model.add(Flatten())\n",
    "model.add(Dense(1024,activation='relu'))\n",
    "model.add(Dropout(0.5))\n",
    "model.add(Dense(2,activation='softmax'))\n",
    "\n",
    "model.compile(optimizer='adam',loss='categorical_crossentropy',metrics=['accuracy'])\n",
    "model.fit(X_train,y_train)\n",
    "\n",
    "_,train_accuracy = model.evaluate(X_train,y_train)\n",
    "print(f\"Training accuracy: {train_accuracy*100}%\")\n",
    "_,test_accuracy = model.evaluate(X_test,y_test)\n",
    "print(f\"Testing accuracy: {test_accuracy*100}%\")"
   ]
  },
  {
   "cell_type": "code",
   "execution_count": null,
   "metadata": {
    "id": "mHaA07tngWMx"
   },
   "outputs": [],
   "source": [
    "#with 75% freezing\n",
    "for layer in inceptionv3.layers[156:234]:\n",
    "    layer.trainable = False\n",
    "\n",
    "model = Sequential()\n",
    "model.add(inceptionv3)\n",
    "model.add(Flatten())\n",
    "model.add(Dense(1024,activation='relu'))\n",
    "model.add(Dropout(0.5))\n",
    "model.add(Dense(2,activation='softmax'))\n",
    "\n",
    "model.compile(optimizer='adam',loss='categorical_crossentropy',metrics=['accuracy'])\n",
    "model.fit(X_train,y_train)\n",
    "\n",
    "_,train_accuracy = model.evaluate(X_train,y_train)\n",
    "print(f\"Training accuracy: {train_accuracy*100}%\")\n",
    "_,test_accuracy = model.evaluate(X_test,y_test)\n",
    "print(f\"Testing accuracy: {test_accuracy*100}%\")"
   ]
  },
  {
   "cell_type": "code",
   "execution_count": null,
   "metadata": {
    "id": "agxDdFQegXEt"
   },
   "outputs": [],
   "source": [
    "#with 100% freezing\n",
    "for layer in inceptionv3.layers[234:]:\n",
    "    layer.trainable = False\n",
    "\n",
    "model = Sequential()\n",
    "model.add(inceptionv3)\n",
    "model.add(Flatten())\n",
    "model.add(Dense(1024,activation='relu'))\n",
    "model.add(Dropout(0.5))\n",
    "model.add(Dense(2,activation='softmax'))\n",
    "\n",
    "model.compile(optimizer='adam',loss='categorical_crossentropy',metrics=['accuracy'])\n",
    "model.fit(X_train,y_train)\n",
    "\n",
    "_,train_accuracy = model.evaluate(X_train,y_train)\n",
    "print(f\"Training accuracy: {train_accuracy*100}%\")\n",
    "_,test_accuracy = model.evaluate(X_test,y_test)\n",
    "print(f\"Testing accuracy: {test_accuracy*100}%\")"
   ]
  },
  {
   "cell_type": "markdown",
   "metadata": {
    "id": "zunlfgBohscQ"
   },
   "source": [
    "#InceptionResNetV2"
   ]
  },
  {
   "cell_type": "code",
   "execution_count": null,
   "metadata": {
    "id": "Pb4qFgx2g_Wg"
   },
   "outputs": [],
   "source": [
    "from keras.applications.inception_resnet_v2 import InceptionResNetV2"
   ]
  },
  {
   "cell_type": "code",
   "execution_count": null,
   "metadata": {
    "id": "Vl_EaAI1iOZL"
   },
   "outputs": [],
   "source": [
    "X = returnX(299)\n",
    "X_train,X_test,y_train,y_test = train_test_split(X,y,test_size=0.3)"
   ]
  },
  {
   "cell_type": "code",
   "execution_count": null,
   "metadata": {
    "id": "NSvU8pM5iYS2"
   },
   "outputs": [],
   "source": [
    "inceptionresnetv2 = InceptionResNetV2(include_top=False,weights='imagenet',input_shape=(299,299,3))"
   ]
  },
  {
   "cell_type": "code",
   "execution_count": null,
   "metadata": {
    "id": "eCcRpZUUio7e"
   },
   "outputs": [],
   "source": [
    "#with 1 layer\n",
    "model = Sequential()\n",
    "model.add(inceptionresnetv2)\n",
    "model.add(Flatten())\n",
    "model.add(Dense(1024,activation='relu'))\n",
    "model.add(Dropout(0.5))\n",
    "model.add(Dense(2,activation='softmax'))\n",
    "\n",
    "model.compile(optimizer='adam',loss='categorical_crossentropy',metrics=['accuracy'])\n",
    "model.fit(X_train,y_train)\n",
    "\n",
    "_,train_accuracy = model.evaluate(X_train,y_train)\n",
    "print(f\"Training accuracy: {train_accuracy*100}%\")\n",
    "_,test_accuracy = model.evaluate(X_test,y_test)\n",
    "print(f\"Testing accuracy: {test_accuracy*100}%\")"
   ]
  },
  {
   "cell_type": "code",
   "execution_count": null,
   "metadata": {
    "id": "EWYw-6ObisC6"
   },
   "outputs": [],
   "source": [
    "#with 2 layers\n",
    "model = Sequential()\n",
    "model.add(inceptionresnetv2)\n",
    "model.add(Flatten())\n",
    "model.add(Dense(1024,activation='relu'))\n",
    "model.add(Dropout(0.5))\n",
    "model.add(Dense(1024,activation='relu'))\n",
    "model.add(Dropout(0.5))\n",
    "model.add(Dense(2,activation='softmax'))\n",
    "\n",
    "model.compile(optimizer='adam',loss='categorical_crossentropy',metrics=['accuracy'])\n",
    "model.fit(X_train,y_train)\n",
    "\n",
    "_,train_accuracy = model.evaluate(X_train,y_train)\n",
    "print(f\"Training accuracy: {train_accuracy*100}%\")\n",
    "_,test_accuracy = model.evaluate(X_test,y_test)\n",
    "print(f\"Testing accuracy: {test_accuracy*100}%\")"
   ]
  },
  {
   "cell_type": "code",
   "execution_count": null,
   "metadata": {
    "id": "anuMM9nGis2V"
   },
   "outputs": [],
   "source": [
    "#with 3 layers\n",
    "model = Sequential()\n",
    "model.add(inceptionresnetv2)\n",
    "model.add(Flatten())\n",
    "model.add(Dense(1024,activation='relu'))\n",
    "model.add(Dropout(0.5))\n",
    "model.add(Dense(1024,activation='relu'))\n",
    "model.add(Dropout(0.5))\n",
    "model.add(Dense(1024,activation='relu'))\n",
    "model.add(Dropout(0.5))\n",
    "model.add(Dense(2,activation='softmax'))\n",
    "\n",
    "model.compile(optimizer='adam',loss='categorical_crossentropy',metrics=['accuracy'])\n",
    "model.fit(X_train,y_train)\n",
    "\n",
    "_,train_accuracy = model.evaluate(X_train,y_train)\n",
    "print(f\"Training accuracy: {train_accuracy*100}%\")\n",
    "_,test_accuracy = model.evaluate(X_test,y_test)\n",
    "print(f\"Testing accuracy: {test_accuracy*100}%\")"
   ]
  },
  {
   "cell_type": "code",
   "execution_count": null,
   "metadata": {
    "id": "VQaDpRfeitY8"
   },
   "outputs": [],
   "source": [
    "#with 4 layers\n",
    "model = Sequential()\n",
    "model.add(inceptionresnetv2)\n",
    "model.add(Flatten())\n",
    "model.add(Dense(1024,activation='relu'))\n",
    "model.add(Dropout(0.5))\n",
    "model.add(Dense(1024,activation='relu'))\n",
    "model.add(Dropout(0.5))\n",
    "model.add(Dense(1024,activation='relu'))\n",
    "model.add(Dropout(0.5))\n",
    "model.add(Dense(1024,activation='relu'))\n",
    "model.add(Dropout(0.5))\n",
    "model.add(Dense(2,activation='softmax'))\n",
    "\n",
    "model.compile(optimizer='adam',loss='categorical_crossentropy',metrics=['accuracy'])\n",
    "model.fit(X_train,y_train)\n",
    "\n",
    "_,train_accuracy = model.evaluate(X_train,y_train)\n",
    "print(f\"Training accuracy: {train_accuracy*100}%\")\n",
    "_,test_accuracy = model.evaluate(X_test,y_test)\n",
    "print(f\"Testing accuracy: {test_accuracy*100}%\")"
   ]
  },
  {
   "cell_type": "code",
   "execution_count": null,
   "metadata": {
    "id": "xj4Y1gXUjDky"
   },
   "outputs": [],
   "source": [
    "#with 25% freezing\n",
    "for layer in inceptionresnetv2.layers[:196]:\n",
    "    layer.trainable = False\n",
    "\n",
    "model = Sequential()\n",
    "model.add(inceptionresnetv2)\n",
    "model.add(Flatten())\n",
    "model.add(Dense(1024,activation='relu'))\n",
    "model.add(Dropout(0.5))\n",
    "model.add(Dense(2,activation='softmax'))\n",
    "\n",
    "model.compile(optimizer='adam',loss='categorical_crossentropy',metrics=['accuracy'])\n",
    "model.fit(X_train,y_train)\n",
    "\n",
    "_,train_accuracy = model.evaluate(X_train,y_train)\n",
    "print(f\"Training accuracy: {train_accuracy*100}%\")\n",
    "_,test_accuracy = model.evaluate(X_test,y_test)\n",
    "print(f\"Testing accuracy: {test_accuracy*100}%\")"
   ]
  },
  {
   "cell_type": "code",
   "execution_count": null,
   "metadata": {
    "id": "XC6B5UNbjGGt"
   },
   "outputs": [],
   "source": [
    "#with 50% freezing\n",
    "for layer in inceptionresnetv2.layers[196:391]:\n",
    "    layer.trainable = False\n",
    "\n",
    "model = Sequential()\n",
    "model.add(inceptionresnetv2)\n",
    "model.add(Flatten())\n",
    "model.add(Dense(1024,activation='relu'))\n",
    "model.add(Dropout(0.5))\n",
    "model.add(Dense(2,activation='softmax'))\n",
    "\n",
    "model.compile(optimizer='adam',loss='categorical_crossentropy',metrics=['accuracy'])\n",
    "model.fit(X_train,y_train)\n",
    "\n",
    "_,train_accuracy = model.evaluate(X_train,y_train)\n",
    "print(f\"Training accuracy: {train_accuracy*100}%\")\n",
    "_,test_accuracy = model.evaluate(X_test,y_test)\n",
    "print(f\"Testing accuracy: {test_accuracy*100}%\")"
   ]
  },
  {
   "cell_type": "code",
   "execution_count": null,
   "metadata": {
    "id": "R69adntkjJsp"
   },
   "outputs": [],
   "source": [
    "#with 75% freezing\n",
    "for layer in inceptionresnetv2.layers[391:586]:\n",
    "    layer.trainable = False\n",
    "\n",
    "model = Sequential()\n",
    "model.add(inceptionresnetv2)\n",
    "model.add(Flatten())\n",
    "model.add(Dense(1024,activation='relu'))\n",
    "model.add(Dropout(0.5))\n",
    "model.add(Dense(2,activation='softmax'))\n",
    "\n",
    "model.compile(optimizer='adam',loss='categorical_crossentropy',metrics=['accuracy'])\n",
    "model.fit(X_train,y_train)\n",
    "\n",
    "_,train_accuracy = model.evaluate(X_train,y_train)\n",
    "print(f\"Training accuracy: {train_accuracy*100}%\")\n",
    "_,test_accuracy = model.evaluate(X_test,y_test)\n",
    "print(f\"Testing accuracy: {test_accuracy*100}%\")"
   ]
  },
  {
   "cell_type": "code",
   "execution_count": null,
   "metadata": {
    "id": "V3EtK4_6jKc8"
   },
   "outputs": [],
   "source": [
    "#with 100% freezing\n",
    "for layer in inceptionresnetv2.layers[586:]:\n",
    "    layer.trainable = False\n",
    "\n",
    "model = Sequential()\n",
    "model.add(inceptionresnetv2)\n",
    "model.add(Flatten())\n",
    "model.add(Dense(1024,activation='relu'))\n",
    "model.add(Dropout(0.5))\n",
    "model.add(Dense(2,activation='softmax'))\n",
    "\n",
    "model.compile(optimizer='adam',loss='categorical_crossentropy',metrics=['accuracy'])\n",
    "model.fit(X_train,y_train)\n",
    "\n",
    "_,train_accuracy = model.evaluate(X_train,y_train)\n",
    "print(f\"Training accuracy: {train_accuracy*100}%\")\n",
    "_,test_accuracy = model.evaluate(X_test,y_test)\n",
    "print(f\"Testing accuracy: {test_accuracy*100}%\")"
   ]
  },
  {
   "cell_type": "markdown",
   "metadata": {
    "id": "aa2E3v0Y7qsQ"
   },
   "source": [
    "#MobileNet"
   ]
  },
  {
   "cell_type": "code",
   "execution_count": null,
   "metadata": {
    "id": "DREnwXuc7syt"
   },
   "outputs": [],
   "source": [
    "from keras.applications.mobilenet import MobileNet"
   ]
  },
  {
   "cell_type": "code",
   "execution_count": null,
   "metadata": {
    "id": "VgQMurv7HZ90"
   },
   "outputs": [],
   "source": [
    "X = returnX(224)\n",
    "X_train,X_test,y_train,y_test = train_test_split(X,y,test_size=0.3)"
   ]
  },
  {
   "cell_type": "code",
   "execution_count": null,
   "metadata": {
    "id": "JlOt_d2GAT8l"
   },
   "outputs": [],
   "source": [
    "mobilenet = MobileNet(weights='imagenet',include_top=False,input_shape=(224,224,3))"
   ]
  },
  {
   "cell_type": "code",
   "execution_count": null,
   "metadata": {
    "id": "1C-fe1lFBfj3"
   },
   "outputs": [],
   "source": [
    "#with 1 layer\n",
    "model = Sequential()\n",
    "model.add(mobilenet)\n",
    "model.add(Flatten())\n",
    "model.add(Dense(1024,activation='relu'))\n",
    "model.add(Dropout(0.5))\n",
    "model.add(Dense(2,activation='softmax'))\n",
    "\n",
    "model.compile(optimizer='adam',loss='categorical_crossentropy',metrics=['accuracy'])\n",
    "model.fit(X_train,y_train)\n",
    "\n",
    "_,train_accuracy = model.evaluate(X_train,y_train)\n",
    "print(f\"Training accuracy: {train_accuracy*100}%\")\n",
    "_,test_accuracy = model.evaluate(X_test,y_test)\n",
    "print(f\"Testing accuracy: {test_accuracy*100}%\")"
   ]
  },
  {
   "cell_type": "code",
   "execution_count": null,
   "metadata": {
    "id": "KcKzdaGeJxpB"
   },
   "outputs": [],
   "source": [
    "#with 2 layers\n",
    "model = Sequential()\n",
    "model.add(mobilenet)\n",
    "model.add(Flatten())\n",
    "model.add(Dense(1024,activation='relu'))\n",
    "model.add(Dropout(0.5))\n",
    "model.add(Dense(1024,activation='relu'))\n",
    "model.add(Dropout(0.5))\n",
    "model.add(Dense(2,activation='softmax'))\n",
    "\n",
    "model.compile(optimizer='adam',loss='categorical_crossentropy',metrics=['accuracy'])\n",
    "model.fit(X_train,y_train)\n",
    "\n",
    "_,train_accuracy = model.evaluate(X_train,y_train)\n",
    "print(f\"Training accuracy: {train_accuracy*100}%\")\n",
    "_,test_accuracy = model.evaluate(X_test,y_test)\n",
    "print(f\"Testing accuracy: {test_accuracy*100}%\")"
   ]
  },
  {
   "cell_type": "code",
   "execution_count": null,
   "metadata": {
    "id": "XyP4wDJNJ0O4"
   },
   "outputs": [],
   "source": [
    "#with 3 layers\n",
    "model = Sequential()\n",
    "model.add(mobilenet)\n",
    "model.add(Flatten())\n",
    "model.add(Dense(1024,activation='relu'))\n",
    "model.add(Dropout(0.5))\n",
    "model.add(Dense(1024,activation='relu'))\n",
    "model.add(Dropout(0.5))\n",
    "model.add(Dense(1024,activation='relu'))\n",
    "model.add(Dropout(0.5))\n",
    "model.add(Dense(2,activation='softmax'))\n",
    "\n",
    "model.compile(optimizer='adam',loss='categorical_crossentropy',metrics=['accuracy'])\n",
    "model.fit(X_train,y_train)\n",
    "\n",
    "_,train_accuracy = model.evaluate(X_train,y_train)\n",
    "print(f\"Training accuracy: {train_accuracy*100}%\")\n",
    "_,test_accuracy = model.evaluate(X_test,y_test)\n",
    "print(f\"Testing accuracy: {test_accuracy*100}%\")"
   ]
  },
  {
   "cell_type": "code",
   "execution_count": null,
   "metadata": {
    "id": "-wV9lmXOJ2nR"
   },
   "outputs": [],
   "source": [
    "#with 4 layers\n",
    "model = Sequential()\n",
    "model.add(mobilenet)\n",
    "model.add(Flatten())\n",
    "model.add(Dense(1024,activation='relu'))\n",
    "model.add(Dropout(0.5))\n",
    "model.add(Dense(1024,activation='relu'))\n",
    "model.add(Dropout(0.5))\n",
    "model.add(Dense(1024,activation='relu'))\n",
    "model.add(Dropout(0.5))\n",
    "model.add(Dense(1024,activation='relu'))\n",
    "model.add(Dropout(0.5))\n",
    "model.add(Dense(2,activation='softmax'))\n",
    "\n",
    "model.compile(optimizer='adam',loss='categorical_crossentropy',metrics=['accuracy'])\n",
    "model.fit(X_train,y_train)\n",
    "\n",
    "_,train_accuracy = model.evaluate(X_train,y_train)\n",
    "print(f\"Training accuracy: {train_accuracy*100}%\")\n",
    "_,test_accuracy = model.evaluate(X_test,y_test)\n",
    "print(f\"Testing accuracy: {test_accuracy*100}%\")"
   ]
  },
  {
   "cell_type": "code",
   "execution_count": null,
   "metadata": {
    "id": "22nNieaNKkEl"
   },
   "outputs": [],
   "source": [
    "#with 25% freezing\n",
    "for layer in mobilenet.layers[:22]:\n",
    "    layer.trainable = False\n",
    "\n",
    "model = Sequential()\n",
    "model.add(mobilenet)\n",
    "model.add(Flatten())\n",
    "model.add(Dense(1024,activation='relu'))\n",
    "model.add(Dropout(0.5))\n",
    "model.add(Dense(2,activation='softmax'))\n",
    "\n",
    "model.compile(optimizer='adam',loss='categorical_crossentropy',metrics=['accuracy'])\n",
    "model.fit(X_train,y_train)\n",
    "\n",
    "_,train_accuracy = model.evaluate(X_train,y_train)\n",
    "print(f\"Training accuracy: {train_accuracy*100}%\")\n",
    "_,test_accuracy = model.evaluate(X_test,y_test)\n",
    "print(f\"Testing accuracy: {test_accuracy*100}%\")"
   ]
  },
  {
   "cell_type": "code",
   "execution_count": null,
   "metadata": {
    "id": "IxG9iD0eIc7s"
   },
   "outputs": [],
   "source": [
    "#with 50% freezing\n",
    "for layer in mobilenet.layers[22:44]:\n",
    "    layer.trainable = False\n",
    "\n",
    "model = Sequential()\n",
    "model.add(mobilenet)\n",
    "model.add(Flatten())\n",
    "model.add(Dense(1024,activation='relu'))\n",
    "model.add(Dropout(0.5))\n",
    "model.add(Dense(2,activation='softmax'))\n",
    "\n",
    "model.compile(optimizer='adam',loss='categorical_crossentropy',metrics=['accuracy'])\n",
    "model.fit(X_train,y_train)\n",
    "\n",
    "_,train_accuracy = model.evaluate(X_train,y_train)\n",
    "print(f\"Training accuracy: {train_accuracy*100}%\")\n",
    "_,test_accuracy = model.evaluate(X_test,y_test)\n",
    "print(f\"Testing accuracy: {test_accuracy*100}%\")"
   ]
  },
  {
   "cell_type": "code",
   "execution_count": null,
   "metadata": {
    "id": "b76Tb0VHNSzv"
   },
   "outputs": [],
   "source": [
    "#with 75% freezing\n",
    "for layer in mobilenet.layers[44:66]:\n",
    "    layer.trainable = False\n",
    "\n",
    "model = Sequential()\n",
    "model.add(mobilenet)\n",
    "model.add(Flatten())\n",
    "model.add(Dense(1024,activation='relu'))\n",
    "model.add(Dropout(0.5))\n",
    "model.add(Dense(2,activation='softmax'))\n",
    "\n",
    "model.compile(optimizer='adam',loss='categorical_crossentropy',metrics=['accuracy'])\n",
    "model.fit(X_train,y_train)\n",
    "\n",
    "_,train_accuracy = model.evaluate(X_train,y_train)\n",
    "print(f\"Training accuracy: {train_accuracy*100}%\")\n",
    "_,test_accuracy = model.evaluate(X_test,y_test)\n",
    "print(f\"Testing accuracy: {test_accuracy*100}%\")"
   ]
  },
  {
   "cell_type": "code",
   "execution_count": null,
   "metadata": {
    "id": "DTTcNZXnNaQ4"
   },
   "outputs": [],
   "source": [
    "#with 100% freezing\n",
    "for layer in mobilenet.layers[66:]:\n",
    "    layer.trainable = False\n",
    "\n",
    "model = Sequential()\n",
    "model.add(mobilenet)\n",
    "model.add(Flatten())\n",
    "model.add(Dense(1024,activation='relu'))\n",
    "model.add(Dropout(0.5))\n",
    "model.add(Dense(2,activation='softmax'))\n",
    "\n",
    "model.compile(optimizer='adam',loss='categorical_crossentropy',metrics=['accuracy'])\n",
    "model.fit(X_train,y_train)\n",
    "\n",
    "_,train_accuracy = model.evaluate(X_train,y_train)\n",
    "print(f\"Training accuracy: {train_accuracy*100}%\")\n",
    "_,test_accuracy = model.evaluate(X_test,y_test)\n",
    "print(f\"Testing accuracy: {test_accuracy*100}%\")"
   ]
  },
  {
   "cell_type": "markdown",
   "metadata": {
    "id": "0hJLLQyZkIlW"
   },
   "source": [
    "#DenseNet"
   ]
  },
  {
   "cell_type": "code",
   "execution_count": null,
   "metadata": {
    "id": "-7yqU5Jfjdi2"
   },
   "outputs": [],
   "source": [
    "from keras.applications.densenet import DenseNet201"
   ]
  },
  {
   "cell_type": "code",
   "execution_count": null,
   "metadata": {
    "id": "-SSTaVUIklZ8"
   },
   "outputs": [],
   "source": [
    "X = returnX(224)\n",
    "X_train,X_test,y_train,y_test = train_test_split(X,y,test_size=0.3)"
   ]
  },
  {
   "cell_type": "code",
   "execution_count": null,
   "metadata": {
    "id": "L0xyfCMnkvon"
   },
   "outputs": [],
   "source": [
    "densenet = DenseNet201(weights='imagenet',include_top=False,input_shape=(224,224,3))"
   ]
  },
  {
   "cell_type": "code",
   "execution_count": null,
   "metadata": {
    "id": "dE_0Po5RlWJJ"
   },
   "outputs": [],
   "source": [
    "#with 1 layer\n",
    "model = Sequential()\n",
    "model.add(densenet)\n",
    "model.add(Flatten())\n",
    "model.add(Dense(1024,activation='relu'))\n",
    "model.add(Dropout(0.5))\n",
    "model.add(Dense(2,activation='softmax'))\n",
    "\n",
    "model.compile(optimizer='adam',loss='categorical_crossentropy',metrics=['accuracy'])\n",
    "model.fit(X_train,y_train)\n",
    "\n",
    "_,train_accuracy = model.evaluate(X_train,y_train)\n",
    "print(f\"Training accuracy: {train_accuracy*100}%\")\n",
    "_,test_accuracy = model.evaluate(X_test,y_test)\n",
    "print(f\"Testing accuracy: {test_accuracy*100}%\")"
   ]
  },
  {
   "cell_type": "code",
   "execution_count": null,
   "metadata": {
    "id": "0388pagylb3W"
   },
   "outputs": [],
   "source": [
    "#with 2 layers\n",
    "model = Sequential()\n",
    "model.add(densenet)\n",
    "model.add(Flatten())\n",
    "model.add(Dense(1024,activation='relu'))\n",
    "model.add(Dropout(0.5))\n",
    "model.add(Dense(1024,activation='relu'))\n",
    "model.add(Dropout(0.5))\n",
    "model.add(Dense(2,activation='softmax'))\n",
    "\n",
    "model.compile(optimizer='adam',loss='categorical_crossentropy',metrics=['accuracy'])\n",
    "model.fit(X_train,y_train)\n",
    "\n",
    "_,train_accuracy = model.evaluate(X_train,y_train)\n",
    "print(f\"Training accuracy: {train_accuracy*100}%\")\n",
    "_,test_accuracy = model.evaluate(X_test,y_test)\n",
    "print(f\"Testing accuracy: {test_accuracy*100}%\")"
   ]
  },
  {
   "cell_type": "code",
   "execution_count": null,
   "metadata": {
    "id": "6U6CmcpulfEs"
   },
   "outputs": [],
   "source": [
    "#with 3 layers\n",
    "model = Sequential()\n",
    "model.add(densenet)\n",
    "model.add(Flatten())\n",
    "model.add(Dense(1024,activation='relu'))\n",
    "model.add(Dropout(0.5))\n",
    "model.add(Dense(1024,activation='relu'))\n",
    "model.add(Dropout(0.5))\n",
    "model.add(Dense(1024,activation='relu'))\n",
    "model.add(Dropout(0.5))\n",
    "model.add(Dense(2,activation='softmax'))\n",
    "\n",
    "model.compile(optimizer='adam',loss='categorical_crossentropy',metrics=['accuracy'])\n",
    "model.fit(X_train,y_train)\n",
    "\n",
    "_,train_accuracy = model.evaluate(X_train,y_train)\n",
    "print(f\"Training accuracy: {train_accuracy*100}%\")\n",
    "_,test_accuracy = model.evaluate(X_test,y_test)\n",
    "print(f\"Testing accuracy: {test_accuracy*100}%\")"
   ]
  },
  {
   "cell_type": "code",
   "execution_count": null,
   "metadata": {
    "id": "5vGMqdoHlflv"
   },
   "outputs": [],
   "source": [
    "#with 4 layers\n",
    "model = Sequential()\n",
    "model.add(densenet)\n",
    "model.add(Flatten())\n",
    "model.add(Dense(1024,activation='relu'))\n",
    "model.add(Dropout(0.5))\n",
    "model.add(Dense(1024,activation='relu'))\n",
    "model.add(Dropout(0.5))\n",
    "model.add(Dense(1024,activation='relu'))\n",
    "model.add(Dropout(0.5))\n",
    "model.add(Dense(1024,activation='relu'))\n",
    "model.add(Dropout(0.5))\n",
    "model.add(Dense(2,activation='softmax'))\n",
    "\n",
    "model.compile(optimizer='adam',loss='categorical_crossentropy',metrics=['accuracy'])\n",
    "model.fit(X_train,y_train)\n",
    "\n",
    "_,train_accuracy = model.evaluate(X_train,y_train)\n",
    "print(f\"Training accuracy: {train_accuracy*100}%\")\n",
    "_,test_accuracy = model.evaluate(X_test,y_test)\n",
    "print(f\"Testing accuracy: {test_accuracy*100}%\")"
   ]
  },
  {
   "cell_type": "code",
   "execution_count": null,
   "metadata": {
    "id": "j5aGi07flz1Q"
   },
   "outputs": [],
   "source": [
    "#with 25% freezing\n",
    "for layer in densenet.layers[:177]:\n",
    "    layer.trainable = False\n",
    "\n",
    "model = Sequential()\n",
    "model.add(densenet)\n",
    "model.add(Flatten())\n",
    "model.add(Dense(1024,activation='relu'))\n",
    "model.add(Dropout(0.5))\n",
    "model.add(Dense(2,activation='softmax'))\n",
    "\n",
    "model.compile(optimizer='adam',loss='categorical_crossentropy',metrics=['accuracy'])\n",
    "model.fit(X_train,y_train)\n",
    "\n",
    "_,train_accuracy = model.evaluate(X_train,y_train)\n",
    "print(f\"Training accuracy: {train_accuracy*100}%\")\n",
    "_,test_accuracy = model.evaluate(X_test,y_test)\n",
    "print(f\"Testing accuracy: {test_accuracy*100}%\")"
   ]
  },
  {
   "cell_type": "code",
   "execution_count": null,
   "metadata": {
    "id": "TNdr5Fvfl1dM"
   },
   "outputs": [],
   "source": [
    "#with 50% freezing\n",
    "for layer in densenet.layers[177:354]:\n",
    "    layer.trainable = False\n",
    "\n",
    "model = Sequential()\n",
    "model.add(densenet)\n",
    "model.add(Flatten())\n",
    "model.add(Dense(1024,activation='relu'))\n",
    "model.add(Dropout(0.5))\n",
    "model.add(Dense(2,activation='softmax'))\n",
    "\n",
    "model.compile(optimizer='adam',loss='categorical_crossentropy',metrics=['accuracy'])\n",
    "model.fit(X_train,y_train)\n",
    "\n",
    "_,train_accuracy = model.evaluate(X_train,y_train)\n",
    "print(f\"Training accuracy: {train_accuracy*100}%\")\n",
    "_,test_accuracy = model.evaluate(X_test,y_test)\n",
    "print(f\"Testing accuracy: {test_accuracy*100}%\")"
   ]
  },
  {
   "cell_type": "code",
   "execution_count": null,
   "metadata": {
    "id": "3CaVD4gkl2Dl"
   },
   "outputs": [],
   "source": [
    "#with 75% freezing\n",
    "for layer in densenet.layers[354:531]:\n",
    "    layer.trainable = False\n",
    "\n",
    "model = Sequential()\n",
    "model.add(densenet)\n",
    "model.add(Flatten())\n",
    "model.add(Dense(1024,activation='relu'))\n",
    "model.add(Dropout(0.5))\n",
    "model.add(Dense(2,activation='softmax'))\n",
    "\n",
    "model.compile(optimizer='adam',loss='categorical_crossentropy',metrics=['accuracy'])\n",
    "model.fit(X_train,y_train)\n",
    "\n",
    "_,train_accuracy = model.evaluate(X_train,y_train)\n",
    "print(f\"Training accuracy: {train_accuracy*100}%\")\n",
    "_,test_accuracy = model.evaluate(X_test,y_test)\n",
    "print(f\"Testing accuracy: {test_accuracy*100}%\")"
   ]
  },
  {
   "cell_type": "code",
   "execution_count": null,
   "metadata": {
    "id": "cMi7sVb8l2dx"
   },
   "outputs": [],
   "source": [
    "#with 100% freezing\n",
    "for layer in densenet.layers[531:]:\n",
    "    layer.trainable = False\n",
    "\n",
    "model = Sequential()\n",
    "model.add(densenet)\n",
    "model.add(Flatten())\n",
    "model.add(Dense(1024,activation='relu'))\n",
    "model.add(Dropout(0.5))\n",
    "model.add(Dense(2,activation='softmax'))\n",
    "\n",
    "model.compile(optimizer='adam',loss='categorical_crossentropy',metrics=['accuracy'])\n",
    "model.fit(X_train,y_train)\n",
    "\n",
    "_,train_accuracy = model.evaluate(X_train,y_train)\n",
    "print(f\"Training accuracy: {train_accuracy*100}%\")\n",
    "_,test_accuracy = model.evaluate(X_test,y_test)\n",
    "print(f\"Testing accuracy: {test_accuracy*100}%\")"
   ]
  },
  {
   "cell_type": "markdown",
   "metadata": {
    "id": "vw8ebG_Fmp3m"
   },
   "source": [
    "#NASNET"
   ]
  },
  {
   "cell_type": "code",
   "execution_count": null,
   "metadata": {
    "id": "BNhSmlosl7k0"
   },
   "outputs": [],
   "source": [
    "from keras.applications.nasnet import NASNetLarge"
   ]
  },
  {
   "cell_type": "code",
   "execution_count": null,
   "metadata": {
    "id": "X_k8CkYNm2ca"
   },
   "outputs": [],
   "source": [
    "X = returnX(331)\n",
    "X_train,X_test,y_train,y_test = train_test_split(X,y,test_size=0.3)"
   ]
  },
  {
   "cell_type": "code",
   "execution_count": null,
   "metadata": {
    "id": "uAwp5w-JnEKg"
   },
   "outputs": [],
   "source": [
    "nasnet = NASNetLarge(include_top=False,input_shape=(331,331,3),weights='imagenet')"
   ]
  },
  {
   "cell_type": "code",
   "execution_count": null,
   "metadata": {
    "id": "B3rtd3b1nUPy"
   },
   "outputs": [],
   "source": [
    "#with 1 layer\n",
    "model = Sequential()\n",
    "model.add(nasnet)\n",
    "model.add(Flatten())\n",
    "model.add(Dense(1024,activation='relu'))\n",
    "model.add(Dropout(0.5))\n",
    "model.add(Dense(2,activation='softmax'))\n",
    "\n",
    "model.compile(optimizer='adam',loss='categorical_crossentropy',metrics=['accuracy'])\n",
    "model.fit(X_train,y_train)\n",
    "\n",
    "_,train_accuracy = model.evaluate(X_train,y_train)\n",
    "print(f\"Training accuracy: {train_accuracy*100}%\")\n",
    "_,test_accuracy = model.evaluate(X_test,y_test)\n",
    "print(f\"Testing accuracy: {test_accuracy*100}%\")"
   ]
  },
  {
   "cell_type": "code",
   "execution_count": null,
   "metadata": {
    "id": "Q603FtN1naCr"
   },
   "outputs": [],
   "source": [
    "#with 2 layers\n",
    "model = Sequential()\n",
    "model.add(nasnet)\n",
    "model.add(Flatten())\n",
    "model.add(Dense(1024,activation='relu'))\n",
    "model.add(Dropout(0.5))\n",
    "model.add(Dense(1024,activation='relu'))\n",
    "model.add(Dropout(0.5))\n",
    "model.add(Dense(2,activation='softmax'))\n",
    "\n",
    "model.compile(optimizer='adam',loss='categorical_crossentropy',metrics=['accuracy'])\n",
    "model.fit(X_train,y_train)\n",
    "\n",
    "_,train_accuracy = model.evaluate(X_train,y_train)\n",
    "print(f\"Training accuracy: {train_accuracy*100}%\")\n",
    "_,test_accuracy = model.evaluate(X_test,y_test)\n",
    "print(f\"Testing accuracy: {test_accuracy*100}%\")"
   ]
  },
  {
   "cell_type": "code",
   "execution_count": null,
   "metadata": {
    "id": "PvtPy-mpnfXz"
   },
   "outputs": [],
   "source": [
    "#with 3 layers\n",
    "model = Sequential()\n",
    "model.add(nasnet)\n",
    "model.add(Flatten())\n",
    "model.add(Dense(1024,activation='relu'))\n",
    "model.add(Dropout(0.5))\n",
    "model.add(Dense(1024,activation='relu'))\n",
    "model.add(Dropout(0.5))\n",
    "model.add(Dense(1024,activation='relu'))\n",
    "model.add(Dropout(0.5))\n",
    "model.add(Dense(2,activation='softmax'))\n",
    "\n",
    "model.compile(optimizer='adam',loss='categorical_crossentropy',metrics=['accuracy'])\n",
    "model.fit(X_train,y_train)\n",
    "\n",
    "_,train_accuracy = model.evaluate(X_train,y_train)\n",
    "print(f\"Training accuracy: {train_accuracy*100}%\")\n",
    "_,test_accuracy = model.evaluate(X_test,y_test)\n",
    "print(f\"Testing accuracy: {test_accuracy*100}%\")"
   ]
  },
  {
   "cell_type": "code",
   "execution_count": null,
   "metadata": {
    "id": "GI8BsGXDngAw"
   },
   "outputs": [],
   "source": [
    "#with 4 layers\n",
    "model = Sequential()\n",
    "model.add(nasnet)\n",
    "model.add(Flatten())\n",
    "model.add(Dense(1024,activation='relu'))\n",
    "model.add(Dropout(0.5))\n",
    "model.add(Dense(1024,activation='relu'))\n",
    "model.add(Dropout(0.5))\n",
    "model.add(Dense(1024,activation='relu'))\n",
    "model.add(Dropout(0.5))\n",
    "model.add(Dense(1024,activation='relu'))\n",
    "model.add(Dropout(0.5))\n",
    "model.add(Dense(2,activation='softmax'))\n",
    "\n",
    "model.compile(optimizer='adam',loss='categorical_crossentropy',metrics=['accuracy'])\n",
    "model.fit(X_train,y_train)\n",
    "\n",
    "_,train_accuracy = model.evaluate(X_train,y_train)\n",
    "print(f\"Training accuracy: {train_accuracy*100}%\")\n",
    "_,test_accuracy = model.evaluate(X_test,y_test)\n",
    "print(f\"Testing accuracy: {test_accuracy*100}%\")"
   ]
  },
  {
   "cell_type": "code",
   "execution_count": null,
   "metadata": {
    "id": "aVOutA_Dn1oJ"
   },
   "outputs": [],
   "source": [
    "#with 25% freezing\n",
    "for layer in nasnet.layers[:260]:\n",
    "    layer.trainable = False\n",
    "\n",
    "model = Sequential()\n",
    "model.add(nasnet)\n",
    "model.add(Flatten())\n",
    "model.add(Dense(1024,activation='relu'))\n",
    "model.add(Dropout(0.5))\n",
    "model.add(Dense(2,activation='softmax'))\n",
    "\n",
    "model.compile(optimizer='adam',loss='categorical_crossentropy',metrics=['accuracy'])\n",
    "model.fit(X_train,y_train)\n",
    "\n",
    "_,train_accuracy = model.evaluate(X_train,y_train)\n",
    "print(f\"Training accuracy: {train_accuracy*100}%\")\n",
    "_,test_accuracy = model.evaluate(X_test,y_test)\n",
    "print(f\"Testing accuracy: {test_accuracy*100}%\")"
   ]
  },
  {
   "cell_type": "code",
   "execution_count": null,
   "metadata": {
    "id": "KmHWrjBnn-Zr"
   },
   "outputs": [],
   "source": [
    "#with 50% freezing\n",
    "for layer in nasnet.layers[260:520]:\n",
    "    layer.trainable = False\n",
    "\n",
    "model = Sequential()\n",
    "model.add(nasnet)\n",
    "model.add(Flatten())\n",
    "model.add(Dense(1024,activation='relu'))\n",
    "model.add(Dropout(0.5))\n",
    "model.add(Dense(2,activation='softmax'))\n",
    "\n",
    "model.compile(optimizer='adam',loss='categorical_crossentropy',metrics=['accuracy'])\n",
    "model.fit(X_train,y_train)\n",
    "\n",
    "_,train_accuracy = model.evaluate(X_train,y_train)\n",
    "print(f\"Training accuracy: {train_accuracy*100}%\")\n",
    "_,test_accuracy = model.evaluate(X_test,y_test)\n",
    "print(f\"Testing accuracy: {test_accuracy*100}%\")"
   ]
  },
  {
   "cell_type": "code",
   "execution_count": null,
   "metadata": {
    "id": "w1OwyrGGoKJW"
   },
   "outputs": [],
   "source": [
    "#with 75% freezing\n",
    "for layer in nasnet.layers[520:780]:\n",
    "    layer.trainable = False\n",
    "\n",
    "model = Sequential()\n",
    "model.add(nasnet)\n",
    "model.add(Flatten())\n",
    "model.add(Dense(1024,activation='relu'))\n",
    "model.add(Dropout(0.5))\n",
    "model.add(Dense(2,activation='softmax'))\n",
    "\n",
    "model.compile(optimizer='adam',loss='categorical_crossentropy',metrics=['accuracy'])\n",
    "model.fit(X_train,y_train)\n",
    "\n",
    "_,train_accuracy = model.evaluate(X_train,y_train)\n",
    "print(f\"Training accuracy: {train_accuracy*100}%\")\n",
    "_,test_accuracy = model.evaluate(X_test,y_test)\n",
    "print(f\"Testing accuracy: {test_accuracy*100}%\")"
   ]
  },
  {
   "cell_type": "code",
   "execution_count": null,
   "metadata": {
    "id": "_CqcUtNHobUg"
   },
   "outputs": [],
   "source": [
    "#with 100% freezing\n",
    "for layer in nasnet.layers[760:]:\n",
    "    layer.trainable = False\n",
    "\n",
    "model = Sequential()\n",
    "model.add(nasnet)\n",
    "model.add(Flatten())\n",
    "model.add(Dense(1024,activation='relu'))\n",
    "model.add(Dropout(0.5))\n",
    "model.add(Dense(2,activation='softmax'))\n",
    "\n",
    "model.compile(optimizer='adam',loss='categorical_crossentropy',metrics=['accuracy'])\n",
    "model.fit(X_train,y_train)\n",
    "\n",
    "_,train_accuracy = model.evaluate(X_train,y_train)\n",
    "print(f\"Training accuracy: {train_accuracy*100}%\")\n",
    "_,test_accuracy = model.evaluate(X_test,y_test)\n",
    "print(f\"Testing accuracy: {test_accuracy*100}%\")"
   ]
  },
  {
   "cell_type": "code",
   "execution_count": null,
   "metadata": {
    "id": "FXCPdSuoofc5"
   },
   "outputs": [],
   "source": [
    ""
   ]
  }
 ],
 "metadata": {
  "accelerator": "GPU",
  "colab": {
   "collapsed_sections": [
    "aa2E3v0Y7qsQ",
    "Ss21pv4pSPyD",
    "Fa8FmwAOWUBl"
   ],
   "name": "Assignment 8.ipynb",
   "provenance": []
  },
  "kernelspec": {
   "display_name": "Python 3",
   "name": "python3"
  }
 },
 "nbformat": 4,
 "nbformat_minor": 0
}
