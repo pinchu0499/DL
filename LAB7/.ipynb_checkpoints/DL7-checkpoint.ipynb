{
 "cells": [
  {
   "cell_type": "code",
   "execution_count": 80,
   "metadata": {
    "colab": {
     "base_uri": "https://localhost:8080/",
     "height": 374
    },
    "colab_type": "code",
    "id": "T69QojZUqFGx",
    "outputId": "0c56fbd9-73de-4225-86ab-2ec8747b09e5"
   },
   "outputs": [
    {
     "name": "stdout",
     "output_type": "stream",
     "text": [
      "Epoch 1/10\n",
      "300/300 [==============================] - 29s 98ms/step - loss: 0.2381 - accuracy: 0.9308 - val_loss: 0.0774 - val_accuracy: 0.9775\n",
      "Epoch 2/10\n",
      "300/300 [==============================] - 29s 97ms/step - loss: 0.0726 - accuracy: 0.9788 - val_loss: 0.0503 - val_accuracy: 0.9846\n",
      "Epoch 3/10\n",
      "300/300 [==============================] - 29s 97ms/step - loss: 0.0534 - accuracy: 0.9836 - val_loss: 0.0434 - val_accuracy: 0.9862\n",
      "Epoch 4/10\n",
      "300/300 [==============================] - 29s 97ms/step - loss: 0.0409 - accuracy: 0.9874 - val_loss: 0.0376 - val_accuracy: 0.9880\n",
      "Epoch 5/10\n",
      "300/300 [==============================] - 29s 97ms/step - loss: 0.0327 - accuracy: 0.9898 - val_loss: 0.0441 - val_accuracy: 0.9859\n",
      "Epoch 6/10\n",
      "300/300 [==============================] - 29s 97ms/step - loss: 0.0263 - accuracy: 0.9916 - val_loss: 0.0364 - val_accuracy: 0.9884\n",
      "Epoch 7/10\n",
      "300/300 [==============================] - 30s 102ms/step - loss: 0.0218 - accuracy: 0.9931 - val_loss: 0.0358 - val_accuracy: 0.9886\n",
      "Epoch 8/10\n",
      "300/300 [==============================] - 29s 96ms/step - loss: 0.0180 - accuracy: 0.9944 - val_loss: 0.0381 - val_accuracy: 0.9883\n",
      "Epoch 9/10\n",
      "300/300 [==============================] - 30s 99ms/step - loss: 0.0155 - accuracy: 0.9948 - val_loss: 0.0349 - val_accuracy: 0.9891\n",
      "Epoch 10/10\n",
      "300/300 [==============================] - 29s 96ms/step - loss: 0.0141 - accuracy: 0.9954 - val_loss: 0.0310 - val_accuracy: 0.9909\n",
      "CNN Error: 0.91%\n"
     ]
    }
   ],
   "source": [
    "\n",
    "from keras.datasets import mnist\n",
    "from keras.models import Sequential\n",
    "from keras.layers import Dense\n",
    "from keras.layers import Dropout\n",
    "from keras.layers import Flatten\n",
    "from keras.layers.convolutional import Conv2D\n",
    "from keras.layers.convolutional import MaxPooling2D\n",
    "from keras.utils import np_utils\n",
    "# load data\n",
    "(X_train, y_train), (X_test, y_test) = mnist.load_data()\n",
    "# reshape to be [samples][width][height][channels]\n",
    "X_train = X_train.reshape((X_train.shape[0], 28, 28, 1)).astype('float32')\n",
    "X_test = X_test.reshape((X_test.shape[0], 28, 28, 1)).astype('float32')\n",
    "# normalize inputs from 0-255 to 0-1\n",
    "X_train = X_train / 255\n",
    "X_test = X_test / 255\n",
    "# one hot encode outputs\n",
    "y_train = np_utils.to_categorical(y_train)\n",
    "y_test = np_utils.to_categorical(y_test)\n",
    "num_classes = y_test.shape[1]\n",
    "# define a simple CNN model\n",
    "def baseline_model():\n",
    "\t# create model\n",
    "\tmodel = Sequential()\n",
    "\tmodel.add(Conv2D(32, (3, 3), input_shape=(28, 28, 1), activation='relu'))\n",
    "\tmodel.add(MaxPooling2D())\n",
    "\tmodel.add(Dropout(0.2))\n",
    "\tmodel.add(Flatten())\n",
    "\tmodel.add(Dense(128, activation='relu'))\n",
    "\tmodel.add(Dense(num_classes, activation='softmax'))\n",
    "\t# Compile model\n",
    "\tmodel.compile(loss='categorical_crossentropy', optimizer='adam', metrics=['accuracy'])\n",
    "\treturn model\n",
    "# build the model\n",
    "model = baseline_model()\n",
    "# Fit the model\n",
    "model.fit(X_train, y_train, validation_data=(X_test, y_test), epochs=10, batch_size=200)\n",
    "# Final evaluation of the model\n",
    "scores = model.evaluate(X_test, y_test, verbose=0)\n",
    "print(\"CNN Error: %.2f%%\" % (100-scores[1]*100))"
   ]
  },
  {
   "cell_type": "code",
   "execution_count": 85,
   "metadata": {
    "colab": {
     "base_uri": "https://localhost:8080/",
     "height": 68
    },
    "colab_type": "code",
    "id": "DsaWaNgyJ5Hu",
    "outputId": "0332c2fa-d71b-4dce-ab24-7a57791a80e4"
   },
   "outputs": [
    {
     "name": "stdout",
     "output_type": "stream",
     "text": [
      "1875/1875 [==============================] - 12s 7ms/step - loss: 0.0063 - accuracy: 0.9985\n",
      "Training loss :  0.006288602482527494\n",
      "Training accuracy :  0.9984999895095825\n"
     ]
    }
   ],
   "source": [
    "score = model.evaluate(X_train, y_train)\n",
    "print(\"Training loss : \", score[0])\n",
    "print(\"Training accuracy : \", score[1])\n",
    "a=(score[1])*100"
   ]
  },
  {
   "cell_type": "code",
   "execution_count": 86,
   "metadata": {
    "colab": {
     "base_uri": "https://localhost:8080/",
     "height": 34
    },
    "colab_type": "code",
    "id": "JwkuXwriJ5zN",
    "outputId": "854a7d5a-e8b8-4cfe-f63d-b1ce06948d9c"
   },
   "outputs": [
    {
     "name": "stdout",
     "output_type": "stream",
     "text": [
      "accuracy  99.00999999999999\n"
     ]
    }
   ],
   "source": [
    "from sklearn.metrics import accuracy_score\n",
    "y_pred = (model.predict(X_test)>0.5).astype(\"int32\")\n",
    "b = accuracy_score(y_pred,y_test)\n",
    "print(\"accuracy \",b*100)"
   ]
  },
  {
   "cell_type": "code",
   "execution_count": 87,
   "metadata": {
    "colab": {
     "base_uri": "https://localhost:8080/",
     "height": 204
    },
    "colab_type": "code",
    "id": "lBi2MOPKq2oR",
    "outputId": "36275c1b-a622-42e2-bdba-b79fba0ca0f0"
   },
   "outputs": [
    {
     "name": "stdout",
     "output_type": "stream",
     "text": [
      "Epoch 1/5\n",
      "600/600 [==============================] - 14s 24ms/step - loss: 0.3313 - accuracy: 0.9065 - val_loss: 0.1340 - val_accuracy: 0.9607\n",
      "Epoch 2/5\n",
      "600/600 [==============================] - 14s 23ms/step - loss: 0.1197 - accuracy: 0.9653 - val_loss: 0.0869 - val_accuracy: 0.9744\n",
      "Epoch 3/5\n",
      "600/600 [==============================] - 14s 24ms/step - loss: 0.0848 - accuracy: 0.9746 - val_loss: 0.0739 - val_accuracy: 0.9776\n",
      "Epoch 4/5\n",
      "600/600 [==============================] - 14s 24ms/step - loss: 0.0662 - accuracy: 0.9802 - val_loss: 0.0673 - val_accuracy: 0.9767\n",
      "Epoch 5/5\n",
      "600/600 [==============================] - 14s 24ms/step - loss: 0.0535 - accuracy: 0.9833 - val_loss: 0.0702 - val_accuracy: 0.9783\n",
      "CNN Error: 2.17%\n"
     ]
    }
   ],
   "source": [
    "def baseline_model():\n",
    "\t# create model\n",
    "\tmodel = Sequential()\n",
    "\tmodel.add(Conv2D(4, (3, 3), input_shape=(28, 28, 1), activation='relu'))\n",
    "\tmodel.add(MaxPooling2D())\n",
    "\t#model.add(Dropout(0.2))\n",
    "\tmodel.add(Flatten())\n",
    "\tmodel.add(Dense(128, activation='relu'))\n",
    "\tmodel.add(Dense(num_classes, activation='softmax'))\n",
    "\t# Compile model\n",
    "\tmodel.compile(loss='categorical_crossentropy', optimizer='adam', metrics=['accuracy'])\n",
    "\treturn model\n",
    "# build the model\n",
    "model = baseline_model()\n",
    "# Fit the model\n",
    "model.fit(X_train, y_train, validation_data=(X_test, y_test), epochs=5, batch_size=100)\n",
    "# Final evaluation of the model\n",
    "scores = model.evaluate(X_test, y_test, verbose=0)\n",
    "print(\"CNN Error: %.2f%%\" % (100-scores[1]*100))\n"
   ]
  },
  {
   "cell_type": "code",
   "execution_count": 88,
   "metadata": {
    "colab": {
     "base_uri": "https://localhost:8080/",
     "height": 68
    },
    "colab_type": "code",
    "id": "YJJTTs2Cq6RB",
    "outputId": "572d9d69-bd86-41e6-eac8-ca2d49923034"
   },
   "outputs": [
    {
     "name": "stdout",
     "output_type": "stream",
     "text": [
      "1875/1875 [==============================] - 10s 5ms/step - loss: 0.0500 - accuracy: 0.9840\n",
      "Training loss :  0.05001327395439148\n",
      "Training accuracy :  0.9839833378791809\n"
     ]
    }
   ],
   "source": [
    "score = model.evaluate(X_train, y_train)\n",
    "print(\"Training loss : \", score[0])\n",
    "print(\"Training accuracy : \", score[1])\n",
    "a1=(score[1])*100"
   ]
  },
  {
   "cell_type": "code",
   "execution_count": 89,
   "metadata": {
    "colab": {
     "base_uri": "https://localhost:8080/",
     "height": 34
    },
    "colab_type": "code",
    "id": "w-7YP41qq60K",
    "outputId": "a9ec0626-d1a8-4d45-ec67-698d734a03a5"
   },
   "outputs": [
    {
     "name": "stdout",
     "output_type": "stream",
     "text": [
      "accuracy  97.59\n"
     ]
    }
   ],
   "source": [
    "from sklearn.metrics import accuracy_score\n",
    "y_pred = (model.predict(X_test)>0.5).astype(\"int32\")\n",
    "b = accuracy_score(y_pred,y_test)\n",
    "print(\"accuracy \",b*100)\n"
   ]
  },
  {
   "cell_type": "code",
   "execution_count": 90,
   "metadata": {
    "colab": {
     "base_uri": "https://localhost:8080/",
     "height": 204
    },
    "colab_type": "code",
    "id": "aMv7iZZjq7RX",
    "outputId": "60f84588-b4f6-456a-d97f-645a205b12b9"
   },
   "outputs": [
    {
     "name": "stdout",
     "output_type": "stream",
     "text": [
      "Epoch 1/5\n",
      "600/600 [==============================] - 72s 121ms/step - loss: 0.1628 - accuracy: 0.9503 - val_loss: 0.0594 - val_accuracy: 0.9805\n",
      "Epoch 2/5\n",
      "600/600 [==============================] - 71s 119ms/step - loss: 0.0521 - accuracy: 0.9844 - val_loss: 0.0461 - val_accuracy: 0.9844\n",
      "Epoch 3/5\n",
      "600/600 [==============================] - 72s 120ms/step - loss: 0.0328 - accuracy: 0.9898 - val_loss: 0.0443 - val_accuracy: 0.9850\n",
      "Epoch 4/5\n",
      "600/600 [==============================] - 71s 118ms/step - loss: 0.0232 - accuracy: 0.9929 - val_loss: 0.0483 - val_accuracy: 0.9854\n",
      "Epoch 5/5\n",
      "600/600 [==============================] - 73s 121ms/step - loss: 0.0151 - accuracy: 0.9953 - val_loss: 0.0433 - val_accuracy: 0.9870\n",
      "CNN Error: 1.30%\n"
     ]
    }
   ],
   "source": [
    "def baseline_model():\n",
    "\t# create model\n",
    "\tmodel = Sequential()\n",
    "\tmodel.add(Conv2D(128, (3, 3), input_shape=(28, 28, 1), activation='relu'))\n",
    "\tmodel.add(MaxPooling2D())\n",
    "\t#model.add(Dropout(0.2))\n",
    "\tmodel.add(Flatten())\n",
    "\tmodel.add(Dense(128, activation='relu'))\n",
    "\tmodel.add(Dense(num_classes, activation='softmax'))\n",
    "\t# Compile model\n",
    "\tmodel.compile(loss='categorical_crossentropy', optimizer='adam', metrics=['accuracy'])\n",
    "\treturn model\n",
    "# build the model\n",
    "model = baseline_model()\n",
    "# Fit the model\n",
    "model.fit(X_train, y_train, validation_data=(X_test, y_test), epochs=5, batch_size=100)\n",
    "# Final evaluation of the model\n",
    "scores = model.evaluate(X_test, y_test, verbose=0)\n",
    "print(\"CNN Error: %.2f%%\" % (100-scores[1]*100))"
   ]
  },
  {
   "cell_type": "code",
   "execution_count": 91,
   "metadata": {
    "colab": {
     "base_uri": "https://localhost:8080/",
     "height": 68
    },
    "colab_type": "code",
    "id": "kHPczjpbq71h",
    "outputId": "dfa917b7-5bee-4a9e-dd76-32e87f4b5b6f"
   },
   "outputs": [
    {
     "name": "stdout",
     "output_type": "stream",
     "text": [
      "1875/1875 [==============================] - 23s 12ms/step - loss: 0.0079 - accuracy: 0.9980\n",
      "Training loss :  0.007912274450063705\n",
      "Training accuracy :  0.9979666471481323\n"
     ]
    }
   ],
   "source": [
    "score = model.evaluate(X_train, y_train)\n",
    "print(\"Training loss : \", score[0])\n",
    "print(\"Training accuracy : \", score[1])\n",
    "a2=(score[1])*100"
   ]
  },
  {
   "cell_type": "code",
   "execution_count": 92,
   "metadata": {
    "colab": {
     "base_uri": "https://localhost:8080/",
     "height": 34
    },
    "colab_type": "code",
    "id": "B12_S3Ff1p0m",
    "outputId": "165e44dc-c90f-4275-e686-b61888b21c01"
   },
   "outputs": [
    {
     "name": "stdout",
     "output_type": "stream",
     "text": [
      "accuracy  98.6\n"
     ]
    }
   ],
   "source": [
    "from sklearn.metrics import accuracy_score\n",
    "y_pred = (model.predict(X_test)>0.5).astype(\"int32\")\n",
    "b2 = accuracy_score(y_pred,y_test)\n",
    "print(\"accuracy \",b2*100)"
   ]
  },
  {
   "cell_type": "code",
   "execution_count": 93,
   "metadata": {
    "colab": {
     "base_uri": "https://localhost:8080/",
     "height": 204
    },
    "colab_type": "code",
    "id": "83sRT9FgrlV5",
    "outputId": "7af0ccb3-f1a1-4bd3-ed43-91c1aeb1592e"
   },
   "outputs": [
    {
     "name": "stdout",
     "output_type": "stream",
     "text": [
      "Epoch 1/5\n",
      "600/600 [==============================] - 138s 230ms/step - loss: 0.1495 - accuracy: 0.9553 - val_loss: 0.0673 - val_accuracy: 0.9787\n",
      "Epoch 2/5\n",
      "600/600 [==============================] - 138s 231ms/step - loss: 0.0471 - accuracy: 0.9858 - val_loss: 0.0522 - val_accuracy: 0.9819\n",
      "Epoch 3/5\n",
      "600/600 [==============================] - 137s 228ms/step - loss: 0.0290 - accuracy: 0.9909 - val_loss: 0.0449 - val_accuracy: 0.9841\n",
      "Epoch 4/5\n",
      "600/600 [==============================] - 137s 228ms/step - loss: 0.0184 - accuracy: 0.9942 - val_loss: 0.0508 - val_accuracy: 0.9847\n",
      "Epoch 5/5\n",
      "600/600 [==============================] - 139s 232ms/step - loss: 0.0127 - accuracy: 0.9960 - val_loss: 0.0406 - val_accuracy: 0.9865\n",
      "CNN Error: 1.35%\n"
     ]
    }
   ],
   "source": [
    "def baseline_model():\n",
    "\t# create model\n",
    "\tmodel = Sequential()\n",
    "\tmodel.add(Conv2D(256, (3, 3), input_shape=(28, 28, 1), activation='relu'))\n",
    "\tmodel.add(MaxPooling2D())\n",
    "\t#model.add(Dropout(0.2))\n",
    "\tmodel.add(Flatten())\n",
    "\tmodel.add(Dense(128, activation='relu'))\n",
    "\tmodel.add(Dense(num_classes, activation='softmax'))\n",
    "\t# Compile model\n",
    "\tmodel.compile(loss='categorical_crossentropy', optimizer='adam', metrics=['accuracy'])\n",
    "\treturn model\n",
    "# build the model\n",
    "model = baseline_model()\n",
    "# Fit the model\n",
    "model.fit(X_train, y_train, validation_data=(X_test, y_test), epochs=5, batch_size=100)\n",
    "# Final evaluation of the model\n",
    "scores = model.evaluate(X_test, y_test, verbose=0)\n",
    "print(\"CNN Error: %.2f%%\" % (100-scores[1]*100))"
   ]
  },
  {
   "cell_type": "code",
   "execution_count": 94,
   "metadata": {
    "colab": {
     "base_uri": "https://localhost:8080/",
     "height": 68
    },
    "colab_type": "code",
    "id": "adnnghwkr_6n",
    "outputId": "ffa9e8ae-8ff5-46ae-c137-d0675ebb5dce"
   },
   "outputs": [
    {
     "name": "stdout",
     "output_type": "stream",
     "text": [
      "1875/1875 [==============================] - 40s 22ms/step - loss: 0.0079 - accuracy: 0.9978\n",
      "Training loss :  0.007913585752248764\n",
      "Training accuracy :  0.9978333115577698\n"
     ]
    }
   ],
   "source": [
    "score = model.evaluate(X_train, y_train)\n",
    "print(\"Training loss : \", score[0])\n",
    "print(\"Training accuracy : \", score[1])\n",
    "a3=(score[1])*100"
   ]
  },
  {
   "cell_type": "code",
   "execution_count": 95,
   "metadata": {
    "colab": {
     "base_uri": "https://localhost:8080/",
     "height": 34
    },
    "colab_type": "code",
    "id": "ut0VBAvWN_Fn",
    "outputId": "0d95be71-5f5f-426e-bf83-bd232888077e"
   },
   "outputs": [
    {
     "name": "stdout",
     "output_type": "stream",
     "text": [
      "accuracy  98.56\n"
     ]
    }
   ],
   "source": [
    "from sklearn.metrics import accuracy_score\n",
    "y_pred = (model.predict(X_test)>0.5).astype(\"int32\")\n",
    "b3 = accuracy_score(y_pred,y_test)\n",
    "print(\"accuracy \",b3*100)"
   ]
  },
  {
   "cell_type": "code",
   "execution_count": 98,
   "metadata": {
    "colab": {
     "base_uri": "https://localhost:8080/",
     "height": 312
    },
    "colab_type": "code",
    "id": "z2LVDYvvR4zA",
    "outputId": "d83cbcb7-3b6a-41f2-980d-9b08840cc1b8"
   },
   "outputs": [
    {
     "data": {
      "text/plain": [
       "<matplotlib.axes._subplots.AxesSubplot at 0x7f23034368d0>"
      ]
     },
     "execution_count": 98,
     "metadata": {
      "tags": []
     },
     "output_type": "execute_result"
    },
    {
     "data": {
      "image/png": "[encoded data removed]",
      "text/plain": [
       "<Figure size 432x288 with 1 Axes>"
      ]
     },
     "metadata": {
      "needs_background": "light",
      "tags": []
     },
     "output_type": "display_data"
    }
   ],
   "source": [
    "nodes=[32, 4, 128,256]\n",
    "val1=[a,a1,a2,a3]\n",
    "import seaborn as sns\n",
    "import matplotlib.pyplot as plt\n",
    "plt.title(\"varying number of filters\")\n",
    "plt.xlabel('Filters')\n",
    "plt.ylabel(\" Training accuracy\")\n",
    "sns.barplot(nodes,val1)"
   ]
  },
  {
   "cell_type": "code",
   "execution_count": 99,
   "metadata": {
    "colab": {
     "base_uri": "https://localhost:8080/",
     "height": 312
    },
    "colab_type": "code",
    "id": "bx6F4E6USfO3",
    "outputId": "5c14b3b8-31cb-40c1-d102-ef94c050a6d8"
   },
   "outputs": [
    {
     "data": {
      "text/plain": [
       "<matplotlib.axes._subplots.AxesSubplot at 0x7f23014dda90>"
      ]
     },
     "execution_count": 99,
     "metadata": {
      "tags": []
     },
     "output_type": "execute_result"
    },
    {
     "data": {
      "image/png": "[encoded data removed]",
      "text/plain": [
       "<Figure size 432x288 with 1 Axes>"
      ]
     },
     "metadata": {
      "needs_background": "light",
      "tags": []
     },
     "output_type": "display_data"
    }
   ],
   "source": [
    "nodes=[32, 4, 128, 2056]\n",
    "val1=[b,b,b2,b3]\n",
    "import seaborn as sns\n",
    "import matplotlib.pyplot as plt\n",
    "plt.title(\"varying number of filters\")\n",
    "plt.xlabel('Filters')\n",
    "plt.ylabel(\" Testing accuracy\")\n",
    "sns.barplot(nodes,val1)"
   ]
  },
  {
   "cell_type": "code",
   "execution_count": 102,
   "metadata": {
    "colab": {
     "base_uri": "https://localhost:8080/",
     "height": 204
    },
    "colab_type": "code",
    "id": "6wYknZuyN_mU",
    "outputId": "58f42b8f-1533-40a2-aeea-6316dcf65285"
   },
   "outputs": [
    {
     "name": "stdout",
     "output_type": "stream",
     "text": [
      "Epoch 1/5\n",
      "600/600 [==============================] - 28s 47ms/step - loss: 0.1794 - accuracy: 0.9483 - val_loss: 0.0631 - val_accuracy: 0.9800\n",
      "Epoch 2/5\n",
      "600/600 [==============================] - 28s 46ms/step - loss: 0.0540 - accuracy: 0.9839 - val_loss: 0.0425 - val_accuracy: 0.9866\n",
      "Epoch 3/5\n",
      "600/600 [==============================] - 28s 46ms/step - loss: 0.0395 - accuracy: 0.9880 - val_loss: 0.0427 - val_accuracy: 0.9876\n",
      "Epoch 4/5\n",
      "600/600 [==============================] - 28s 46ms/step - loss: 0.0272 - accuracy: 0.9913 - val_loss: 0.0379 - val_accuracy: 0.9876\n",
      "Epoch 5/5\n",
      "600/600 [==============================] - 29s 48ms/step - loss: 0.0200 - accuracy: 0.9937 - val_loss: 0.0361 - val_accuracy: 0.9893\n",
      "CNN Error: 1.07%\n"
     ]
    }
   ],
   "source": [
    "def baseline_model():\n",
    "\t# create model\n",
    "\tmodel = Sequential()\n",
    "\tmodel.add(Conv2D(32, (5, 5), input_shape=(28, 28, 1), activation='relu'))\n",
    "  #model.add(Conv2D(256, (3, 3), input_shape=(28, 28, 1), activation='relu'))\n",
    "\tmodel.add(MaxPooling2D())\n",
    "\t#model.add(Dropout(0.2))\n",
    "\tmodel.add(Flatten())\n",
    "\tmodel.add(Dense(128, activation='relu'))\n",
    "\tmodel.add(Dense(num_classes, activation='softmax'))\n",
    "\t# Compile model\n",
    "\tmodel.compile(loss='categorical_crossentropy', optimizer='adam', metrics=['accuracy'])\n",
    "\treturn model\n",
    "# build the model\n",
    "model = baseline_model()\n",
    "# Fit the model\n",
    "model.fit(X_train, y_train, validation_data=(X_test, y_test), epochs=5, batch_size=100)\n",
    "# Final evaluation of the model\n",
    "scores = model.evaluate(X_test, y_test, verbose=0)\n",
    "print(\"CNN Error: %.2f%%\" % (100-scores[1]*100))"
   ]
  },
  {
   "cell_type": "code",
   "execution_count": 105,
   "metadata": {
    "colab": {
     "base_uri": "https://localhost:8080/",
     "height": 34
    },
    "colab_type": "code",
    "id": "u3AsPneAOACI",
    "outputId": "7371c03d-59a8-4005-c070-ea94c6a6d485"
   },
   "outputs": [
    {
     "name": "stdout",
     "output_type": "stream",
     "text": [
      "accuracy  99.62\n"
     ]
    }
   ],
   "source": [
    "from sklearn.metrics import accuracy_score\n",
    "y_pred = (model.predict(X_train)>0.5).astype(\"int32\")\n",
    "c = accuracy_score(y_pred,y_train)\n",
    "print(\"accuracy \",c*100)"
   ]
  },
  {
   "cell_type": "code",
   "execution_count": 104,
   "metadata": {
    "colab": {
     "base_uri": "https://localhost:8080/",
     "height": 34
    },
    "colab_type": "code",
    "id": "uS_AwTOrOAg6",
    "outputId": "b79bb5f4-ba0d-443c-d599-36ce7b7d5051"
   },
   "outputs": [
    {
     "name": "stdout",
     "output_type": "stream",
     "text": [
      "accuracy  98.89\n"
     ]
    }
   ],
   "source": [
    "from sklearn.metrics import accuracy_score\n",
    "y_pred = (model.predict(X_test)>0.5).astype(\"int32\")\n",
    "d = accuracy_score(y_pred,y_test)\n",
    "print(\"accuracy \",d*100)"
   ]
  },
  {
   "cell_type": "code",
   "execution_count": 106,
   "metadata": {
    "colab": {
     "base_uri": "https://localhost:8080/",
     "height": 204
    },
    "colab_type": "code",
    "id": "_Y7MiYEjOA7J",
    "outputId": "903d2f24-f2b2-4292-8afb-05d835a94e65"
   },
   "outputs": [
    {
     "name": "stdout",
     "output_type": "stream",
     "text": [
      "Epoch 1/5\n",
      "600/600 [==============================] - 31s 51ms/step - loss: 0.1683 - accuracy: 0.9514 - val_loss: 0.0523 - val_accuracy: 0.9824\n",
      "Epoch 2/5\n",
      "600/600 [==============================] - 31s 51ms/step - loss: 0.0532 - accuracy: 0.9837 - val_loss: 0.0379 - val_accuracy: 0.9877\n",
      "Epoch 3/5\n",
      "600/600 [==============================] - 30s 51ms/step - loss: 0.0357 - accuracy: 0.9887 - val_loss: 0.0345 - val_accuracy: 0.9877\n",
      "Epoch 4/5\n",
      "600/600 [==============================] - 30s 51ms/step - loss: 0.0274 - accuracy: 0.9913 - val_loss: 0.0309 - val_accuracy: 0.9904\n",
      "Epoch 5/5\n",
      "600/600 [==============================] - 30s 51ms/step - loss: 0.0201 - accuracy: 0.9936 - val_loss: 0.0349 - val_accuracy: 0.9879\n",
      "CNN Error: 1.21%\n"
     ]
    }
   ],
   "source": [
    "def baseline_model():\n",
    "\t# create model\n",
    "\tmodel = Sequential()\n",
    "\tmodel.add(Conv2D(32, (7, 7), input_shape=(28, 28, 1), activation='relu'))\n",
    "  #model.add(Conv2D(256, (3, 3), input_shape=(28, 28, 1), activation='relu'))\n",
    "\tmodel.add(MaxPooling2D())\n",
    "\t#model.add(Dropout(0.2))\n",
    "\tmodel.add(Flatten())\n",
    "\tmodel.add(Dense(128, activation='relu'))\n",
    "\tmodel.add(Dense(num_classes, activation='softmax'))\n",
    "\t# Compile model\n",
    "\tmodel.compile(loss='categorical_crossentropy', optimizer='adam', metrics=['accuracy'])\n",
    "\treturn model\n",
    "# build the model\n",
    "model = baseline_model()\n",
    "# Fit the model\n",
    "model.fit(X_train, y_train, validation_data=(X_test, y_test), epochs=5, batch_size=100)\n",
    "# Final evaluation of the model\n",
    "scores = model.evaluate(X_test, y_test, verbose=0)\n",
    "print(\"CNN Error: %.2f%%\" % (100-scores[1]*100))"
   ]
  },
  {
   "cell_type": "code",
   "execution_count": 107,
   "metadata": {
    "colab": {
     "base_uri": "https://localhost:8080/",
     "height": 34
    },
    "colab_type": "code",
    "id": "dpjYGbfKOBUQ",
    "outputId": "a80d9608-3666-44a8-cc35-202247bd38df"
   },
   "outputs": [
    {
     "name": "stdout",
     "output_type": "stream",
     "text": [
      "accuracy  98.72999999999999\n"
     ]
    }
   ],
   "source": [
    "from sklearn.metrics import accuracy_score\n",
    "y_pred = (model.predict(X_test)>0.5).astype(\"int32\")\n",
    "d1 = accuracy_score(y_pred,y_test)\n",
    "print(\"accuracy \",d1*100)"
   ]
  },
  {
   "cell_type": "code",
   "execution_count": 109,
   "metadata": {
    "colab": {
     "base_uri": "https://localhost:8080/",
     "height": 34
    },
    "colab_type": "code",
    "id": "gylBsOpROBt9",
    "outputId": "5cdae339-cc72-4d6b-afad-db77b4f021c9"
   },
   "outputs": [
    {
     "name": "stdout",
     "output_type": "stream",
     "text": [
      "accuracy  99.47\n"
     ]
    }
   ],
   "source": [
    "from sklearn.metrics import accuracy_score\n",
    "y_pred = (model.predict(X_train)>0.5).astype(\"int32\")\n",
    "c1 = accuracy_score(y_pred,y_train)\n",
    "print(\"accuracy \",c1*100)"
   ]
  },
  {
   "cell_type": "code",
   "execution_count": 113,
   "metadata": {
    "colab": {
     "base_uri": "https://localhost:8080/",
     "height": 312
    },
    "colab_type": "code",
    "id": "-h9vK6AJOCHw",
    "outputId": "bef66020-ed5a-4135-a28e-b3c014215d7e"
   },
   "outputs": [
    {
     "data": {
      "text/plain": [
       "<matplotlib.axes._subplots.AxesSubplot at 0x7f22fc3c8ba8>"
      ]
     },
     "execution_count": 113,
     "metadata": {
      "tags": []
     },
     "output_type": "execute_result"
    },
    {
     "data": {
      "image/png": "[encoded data removed]",
      "text/plain": [
       "<Figure size 432x288 with 1 Axes>"
      ]
     },
     "metadata": {
      "needs_background": "light",
      "tags": []
     },
     "output_type": "display_data"
    }
   ],
   "source": [
    "nodes=[5, 7]\n",
    "val1=[c,c1]\n",
    "import seaborn as sns\n",
    "import matplotlib.pyplot as plt\n",
    "plt.title(\"varying size of filters\")\n",
    "plt.xlabel('size of filter')\n",
    "plt.ylabel(\" Training accuracy\")\n",
    "sns.barplot(nodes,val1)"
   ]
  },
  {
   "cell_type": "code",
   "execution_count": 114,
   "metadata": {
    "colab": {
     "base_uri": "https://localhost:8080/",
     "height": 312
    },
    "colab_type": "code",
    "id": "f437p_7ROCd4",
    "outputId": "68ec46df-b518-4f6a-9561-5f0598f8f9e0"
   },
   "outputs": [
    {
     "data": {
      "text/plain": [
       "<matplotlib.axes._subplots.AxesSubplot at 0x7f22fc230c18>"
      ]
     },
     "execution_count": 114,
     "metadata": {
      "tags": []
     },
     "output_type": "execute_result"
    },
    {
     "data": {
      "image/png": "[encoded data removed]",
      "text/plain": [
       "<Figure size 432x288 with 1 Axes>"
      ]
     },
     "metadata": {
      "needs_background": "light",
      "tags": []
     },
     "output_type": "display_data"
    }
   ],
   "source": [
    "nodes=[5, 7]\n",
    "val1=[d,d1]\n",
    "import seaborn as sns\n",
    "import matplotlib.pyplot as plt\n",
    "plt.title(\"varying number of filters\")\n",
    "plt.xlabel('Filters')\n",
    "plt.ylabel(\" Testing accuracy\")\n",
    "sns.barplot(nodes,val1)"
   ]
  },
  {
   "cell_type": "code",
   "execution_count": 115,
   "metadata": {
    "colab": {
     "base_uri": "https://localhost:8080/",
     "height": 204
    },
    "colab_type": "code",
    "id": "mV9jOIklOC6I",
    "outputId": "6c6428d8-1848-42b6-a002-4e14f968f579"
   },
   "outputs": [
    {
     "name": "stdout",
     "output_type": "stream",
     "text": [
      "Epoch 1/5\n",
      "600/600 [==============================] - 26s 44ms/step - loss: 2.3117 - accuracy: 0.1101 - val_loss: 2.3011 - val_accuracy: 0.1135\n",
      "Epoch 2/5\n",
      "600/600 [==============================] - 26s 44ms/step - loss: 2.3013 - accuracy: 0.1124 - val_loss: 2.3011 - val_accuracy: 0.1135\n",
      "Epoch 3/5\n",
      "600/600 [==============================] - 26s 44ms/step - loss: 2.3013 - accuracy: 0.1124 - val_loss: 2.3010 - val_accuracy: 0.1135\n",
      "Epoch 4/5\n",
      "600/600 [==============================] - 26s 43ms/step - loss: 2.3013 - accuracy: 0.1124 - val_loss: 2.3011 - val_accuracy: 0.1135\n",
      "Epoch 5/5\n",
      "600/600 [==============================] - 26s 43ms/step - loss: 2.3013 - accuracy: 0.1124 - val_loss: 2.3011 - val_accuracy: 0.1135\n",
      "CNN Error: 88.65%\n"
     ]
    }
   ],
   "source": [
    "def baseline_model():\n",
    "\t# create model\n",
    "\tmodel = Sequential()\n",
    "\tmodel.add(Conv2D(32, (3, 3), input_shape=(28, 28, 1), activation='sigmoid'))\n",
    "  #model.add(Conv2D(256, (3, 3), input_shape=(28, 28, 1), activation='relu'))\n",
    "\tmodel.add(MaxPooling2D())\n",
    "\t#model.add(Dropout(0.2))\n",
    "\tmodel.add(Flatten())\n",
    "\tmodel.add(Dense(128, activation='relu'))\n",
    "\tmodel.add(Dense(num_classes, activation='softmax'))\n",
    "\t# Compile model\n",
    "\tmodel.compile(loss='categorical_crossentropy', optimizer='adam', metrics=['accuracy'])\n",
    "\treturn model\n",
    "# build the model\n",
    "model = baseline_model()\n",
    "# Fit the model\n",
    "model.fit(X_train, y_train, validation_data=(X_test, y_test), epochs=5, batch_size=100)\n",
    "# Final evaluation of the model\n",
    "scores = model.evaluate(X_test, y_test, verbose=0)\n",
    "print(\"CNN Error: %.2f%%\" % (100-scores[1]*100))"
   ]
  },
  {
   "cell_type": "code",
   "execution_count": 117,
   "metadata": {
    "colab": {
     "base_uri": "https://localhost:8080/",
     "height": 68
    },
    "colab_type": "code",
    "id": "ezhHRcGDW1Ry",
    "outputId": "4d72fcf6-39e7-46a5-b2a8-f48ff23d08cb"
   },
   "outputs": [
    {
     "name": "stdout",
     "output_type": "stream",
     "text": [
      "1875/1875 [==============================] - 15s 8ms/step - loss: 2.3012 - accuracy: 0.1124\n",
      "Training loss :  2.3011820316314697\n",
      "Training accuracy :  0.11236666887998581\n"
     ]
    }
   ],
   "source": [
    "score = model.evaluate(X_train, y_train)\n",
    "print(\"Training loss : \", score[0])\n",
    "print(\"Training accuracy : \", score[1])\n",
    "e=(score[1])*100"
   ]
  },
  {
   "cell_type": "code",
   "execution_count": 118,
   "metadata": {
    "colab": {
     "base_uri": "https://localhost:8080/",
     "height": 68
    },
    "colab_type": "code",
    "id": "M4W5546wft6v",
    "outputId": "4aaaf720-1021-4636-df36-f531d27c2e04"
   },
   "outputs": [
    {
     "name": "stdout",
     "output_type": "stream",
     "text": [
      "313/313 [==============================] - 2s 7ms/step - loss: 2.3011 - accuracy: 0.1135\n",
      "Training loss :  2.301100730895996\n",
      "Training accuracy :  0.11349999904632568\n"
     ]
    }
   ],
   "source": [
    "score = model.evaluate(X_test, y_test)\n",
    "print(\"Training loss : \", score[0])\n",
    "print(\"Training accuracy : \", score[1])\n",
    "f=(score[1])*100"
   ]
  },
  {
   "cell_type": "code",
   "execution_count": 119,
   "metadata": {
    "colab": {
     "base_uri": "https://localhost:8080/",
     "height": 204
    },
    "colab_type": "code",
    "id": "7b_AvlKYW1u5",
    "outputId": "36192f39-f257-42aa-b12e-bab0f94a1377"
   },
   "outputs": [
    {
     "name": "stdout",
     "output_type": "stream",
     "text": [
      "Epoch 1/5\n",
      "600/600 [==============================] - 28s 46ms/step - loss: 0.2218 - accuracy: 0.9374 - val_loss: 0.0959 - val_accuracy: 0.9724\n",
      "Epoch 2/5\n",
      "600/600 [==============================] - 28s 46ms/step - loss: 0.0727 - accuracy: 0.9784 - val_loss: 0.0646 - val_accuracy: 0.9785\n",
      "Epoch 3/5\n",
      "600/600 [==============================] - 27s 44ms/step - loss: 0.0456 - accuracy: 0.9862 - val_loss: 0.0518 - val_accuracy: 0.9839\n",
      "Epoch 4/5\n",
      "600/600 [==============================] - 27s 44ms/step - loss: 0.0309 - accuracy: 0.9905 - val_loss: 0.0576 - val_accuracy: 0.9817\n",
      "Epoch 5/5\n",
      "600/600 [==============================] - 27s 44ms/step - loss: 0.0216 - accuracy: 0.9937 - val_loss: 0.0560 - val_accuracy: 0.9823\n",
      "CNN Error: 1.77%\n"
     ]
    }
   ],
   "source": [
    "def baseline_model():\n",
    "\t# create model\n",
    "\tmodel = Sequential()\n",
    "\tmodel.add(Conv2D(32, (3, 3), input_shape=(28, 28, 1), activation='tanh'))\n",
    "  #model.add(Conv2D(256, (3, 3), input_shape=(28, 28, 1), activation='relu'))\n",
    "\tmodel.add(MaxPooling2D())\n",
    "\t#model.add(Dropout(0.2))\n",
    "\tmodel.add(Flatten())\n",
    "\tmodel.add(Dense(128, activation='relu'))\n",
    "\tmodel.add(Dense(num_classes, activation='softmax'))\n",
    "\t# Compile model\n",
    "\tmodel.compile(loss='categorical_crossentropy', optimizer='adam', metrics=['accuracy'])\n",
    "\treturn model\n",
    "# build the model\n",
    "model = baseline_model()\n",
    "# Fit the model\n",
    "model.fit(X_train, y_train, validation_data=(X_test, y_test), epochs=5, batch_size=100)\n",
    "# Final evaluation of the model\n",
    "scores = model.evaluate(X_test, y_test, verbose=0)\n",
    "print(\"CNN Error: %.2f%%\" % (100-scores[1]*100))"
   ]
  },
  {
   "cell_type": "code",
   "execution_count": 120,
   "metadata": {
    "colab": {
     "base_uri": "https://localhost:8080/",
     "height": 68
    },
    "colab_type": "code",
    "id": "EDmwofQhW2ZY",
    "outputId": "db81ccc5-c95b-412b-aaef-5d285384eb45"
   },
   "outputs": [
    {
     "name": "stdout",
     "output_type": "stream",
     "text": [
      "1875/1875 [==============================] - 14s 7ms/step - loss: 0.0203 - accuracy: 0.9934\n",
      "Training loss :  0.020308172330260277\n",
      "Training accuracy :  0.9934166669845581\n"
     ]
    }
   ],
   "source": [
    "score = model.evaluate(X_train, y_train)\n",
    "print(\"Training loss : \", score[0])\n",
    "print(\"Training accuracy : \", score[1])\n",
    "e1=(score[1])*100"
   ]
  },
  {
   "cell_type": "code",
   "execution_count": 121,
   "metadata": {
    "colab": {
     "base_uri": "https://localhost:8080/",
     "height": 68
    },
    "colab_type": "code",
    "id": "weMsgL7fW26W",
    "outputId": "fe971c32-07c6-447d-f850-e959ebc83969"
   },
   "outputs": [
    {
     "name": "stdout",
     "output_type": "stream",
     "text": [
      "313/313 [==============================] - 2s 8ms/step - loss: 0.0560 - accuracy: 0.9823\n",
      "Training loss :  0.0560443289577961\n",
      "Training accuracy :  0.9822999835014343\n"
     ]
    }
   ],
   "source": [
    "score = model.evaluate(X_test, y_test)\n",
    "print(\"Training loss : \", score[0])\n",
    "print(\"Training accuracy : \", score[1])\n",
    "f1=(score[1])*100"
   ]
  },
  {
   "cell_type": "code",
   "execution_count": 123,
   "metadata": {
    "colab": {
     "base_uri": "https://localhost:8080/",
     "height": 312
    },
    "colab_type": "code",
    "id": "aziEALlSgj78",
    "outputId": "f1b15fc7-e434-4ee7-c65e-aff3a5570d60"
   },
   "outputs": [
    {
     "data": {
      "text/plain": [
       "<matplotlib.axes._subplots.AxesSubplot at 0x7f231289f400>"
      ]
     },
     "execution_count": 123,
     "metadata": {
      "tags": []
     },
     "output_type": "execute_result"
    },
    {
     "data": {
      "image/png": "[encoded data removed]",
      "text/plain": [
       "<Figure size 432x288 with 1 Axes>"
      ]
     },
     "metadata": {
      "needs_background": "light",
      "tags": []
     },
     "output_type": "display_data"
    }
   ],
   "source": [
    "nodes=['sigmoid', 'tanh']\n",
    "val1=[e,e1]\n",
    "import seaborn as sns\n",
    "import matplotlib.pyplot as plt\n",
    "plt.title(\"varying activation layer\")\n",
    "plt.xlabel('activation')\n",
    "plt.ylabel(\" Training accuracy\")\n",
    "sns.barplot(nodes,val1)"
   ]
  },
  {
   "cell_type": "code",
   "execution_count": 124,
   "metadata": {
    "colab": {
     "base_uri": "https://localhost:8080/",
     "height": 312
    },
    "colab_type": "code",
    "id": "CExguqeUgtY0",
    "outputId": "8ec8b11a-43f6-4cc2-aff8-8c158814047c"
   },
   "outputs": [
    {
     "data": {
      "text/plain": [
       "<matplotlib.axes._subplots.AxesSubplot at 0x7f22fc1fcac8>"
      ]
     },
     "execution_count": 124,
     "metadata": {
      "tags": []
     },
     "output_type": "execute_result"
    },
    {
     "data": {
      "image/png": "[encoded data removed]",
      "text/plain": [
       "<Figure size 432x288 with 1 Axes>"
      ]
     },
     "metadata": {
      "needs_background": "light",
      "tags": []
     },
     "output_type": "display_data"
    }
   ],
   "source": [
    "nodes=['sigmoid', 'tanh']\n",
    "val1=[f,f1]\n",
    "import seaborn as sns\n",
    "import matplotlib.pyplot as plt\n",
    "plt.title(\"varying activation\")\n",
    "plt.xlabel('Filters')\n",
    "plt.ylabel(\" Testing accuracy\")\n",
    "sns.barplot(nodes,val1)"
   ]
  },
  {
   "cell_type": "code",
   "execution_count": 125,
   "metadata": {
    "colab": {
     "base_uri": "https://localhost:8080/",
     "height": 204
    },
    "colab_type": "code",
    "id": "zeXE53BohhAL",
    "outputId": "493e19b4-2d8b-465d-dc0b-68e6e0913de3"
   },
   "outputs": [
    {
     "name": "stdout",
     "output_type": "stream",
     "text": [
      "Epoch 1/5\n",
      "600/600 [==============================] - 22s 36ms/step - loss: 0.2436 - accuracy: 0.9307 - val_loss: 0.0902 - val_accuracy: 0.9735\n",
      "Epoch 2/5\n",
      "600/600 [==============================] - 22s 36ms/step - loss: 0.0776 - accuracy: 0.9769 - val_loss: 0.0649 - val_accuracy: 0.9792\n",
      "Epoch 3/5\n",
      "600/600 [==============================] - 22s 36ms/step - loss: 0.0531 - accuracy: 0.9838 - val_loss: 0.0683 - val_accuracy: 0.9790\n",
      "Epoch 4/5\n",
      "600/600 [==============================] - 22s 36ms/step - loss: 0.0395 - accuracy: 0.9885 - val_loss: 0.0496 - val_accuracy: 0.9846\n",
      "Epoch 5/5\n",
      "600/600 [==============================] - 22s 36ms/step - loss: 0.0302 - accuracy: 0.9908 - val_loss: 0.0437 - val_accuracy: 0.9859\n",
      "CNN Error: 1.41%\n"
     ]
    }
   ],
   "source": [
    "def baseline_model():\n",
    "\t# create model\n",
    "\tmodel = Sequential()\n",
    "\tmodel.add(Conv2D(32, (3, 3), input_shape=(28, 28, 1), activation='tanh'))\n",
    "  #model.add(Conv2D(256, (3, 3), input_shape=(28, 28, 1), activation='relu'))\n",
    "\tmodel.add(MaxPooling2D(3,3))\n",
    "\t#model.add(Dropout(0.2))\n",
    "\tmodel.add(Flatten())\n",
    "\tmodel.add(Dense(128, activation='relu'))\n",
    "\tmodel.add(Dense(num_classes, activation='softmax'))\n",
    "\t# Compile model\n",
    "\tmodel.compile(loss='categorical_crossentropy', optimizer='adam', metrics=['accuracy'])\n",
    "\treturn model\n",
    "# build the model\n",
    "model = baseline_model()\n",
    "# Fit the model\n",
    "model.fit(X_train, y_train, validation_data=(X_test, y_test), epochs=5, batch_size=100)\n",
    "# Final evaluation of the model\n",
    "scores = model.evaluate(X_test, y_test, verbose=0)\n",
    "print(\"CNN Error: %.2f%%\" % (100-scores[1]*100))"
   ]
  },
  {
   "cell_type": "code",
   "execution_count": 126,
   "metadata": {
    "colab": {
     "base_uri": "https://localhost:8080/",
     "height": 68
    },
    "colab_type": "code",
    "id": "PGzB5USEhhra",
    "outputId": "05d2c785-ce73-485f-f1d6-da5cd63fd777"
   },
   "outputs": [
    {
     "name": "stdout",
     "output_type": "stream",
     "text": [
      "1875/1875 [==============================] - 12s 6ms/step - loss: 0.0221 - accuracy: 0.9938\n",
      "Training loss :  0.022137664258480072\n",
      "Training accuracy :  0.9938499927520752\n"
     ]
    }
   ],
   "source": [
    "score = model.evaluate(X_train, y_train)\n",
    "print(\"Training loss : \", score[0])\n",
    "print(\"Training accuracy : \", score[1])\n",
    "e1=(score[1])*100"
   ]
  },
  {
   "cell_type": "code",
   "execution_count": 127,
   "metadata": {
    "colab": {
     "base_uri": "https://localhost:8080/",
     "height": 68
    },
    "colab_type": "code",
    "id": "MwFfpTOnhwAZ",
    "outputId": "de599eb2-6ce2-44ec-a340-850749d7f2b4"
   },
   "outputs": [
    {
     "name": "stdout",
     "output_type": "stream",
     "text": [
      "313/313 [==============================] - 2s 6ms/step - loss: 0.0437 - accuracy: 0.9859\n",
      "Training loss :  0.04371475428342819\n",
      "Training accuracy :  0.9858999848365784\n"
     ]
    }
   ],
   "source": [
    "score = model.evaluate(X_test, y_test)\n",
    "print(\"Training loss : \", score[0])\n",
    "print(\"Training accuracy : \", score[1])\n",
    "f1=(score[1])*100"
   ]
  },
  {
   "cell_type": "code",
   "execution_count": 128,
   "metadata": {
    "colab": {
     "base_uri": "https://localhost:8080/",
     "height": 204
    },
    "colab_type": "code",
    "id": "Xokfq-B7ipJC",
    "outputId": "0962403e-4528-46bf-c89c-d17c5f2630fa"
   },
   "outputs": [
    {
     "name": "stdout",
     "output_type": "stream",
     "text": [
      "Epoch 1/5\n",
      "600/600 [==============================] - 20s 33ms/step - loss: 0.3424 - accuracy: 0.9030 - val_loss: 0.1136 - val_accuracy: 0.9654\n",
      "Epoch 2/5\n",
      "600/600 [==============================] - 19s 32ms/step - loss: 0.1010 - accuracy: 0.9699 - val_loss: 0.0865 - val_accuracy: 0.9736\n",
      "Epoch 3/5\n",
      "600/600 [==============================] - 20s 33ms/step - loss: 0.0740 - accuracy: 0.9777 - val_loss: 0.0744 - val_accuracy: 0.9755\n",
      "Epoch 4/5\n",
      "600/600 [==============================] - 20s 33ms/step - loss: 0.0615 - accuracy: 0.9808 - val_loss: 0.0549 - val_accuracy: 0.9816\n",
      "Epoch 5/5\n",
      "600/600 [==============================] - 20s 33ms/step - loss: 0.0524 - accuracy: 0.9834 - val_loss: 0.0494 - val_accuracy: 0.9833\n",
      "CNN Error: 1.67%\n"
     ]
    }
   ],
   "source": [
    "def baseline_model():\n",
    "\t# create model\n",
    "\tmodel = Sequential()\n",
    "\tmodel.add(Conv2D(32, (3, 3), input_shape=(28, 28, 1), activation='tanh'))\n",
    "  #model.add(Conv2D(256, (3, 3), input_shape=(28, 28, 1), activation='relu'))\n",
    "\tmodel.add(MaxPooling2D(5,5))\n",
    "\t#model.add(Dropout(0.2))\n",
    "\tmodel.add(Flatten())\n",
    "\tmodel.add(Dense(128, activation='relu'))\n",
    "\tmodel.add(Dense(num_classes, activation='softmax'))\n",
    "\t# Compile model\n",
    "\tmodel.compile(loss='categorical_crossentropy', optimizer='adam', metrics=['accuracy'])\n",
    "\treturn model\n",
    "# build the model\n",
    "model = baseline_model()\n",
    "# Fit the model\n",
    "model.fit(X_train, y_train, validation_data=(X_test, y_test), epochs=5, batch_size=100)\n",
    "# Final evaluation of the model\n",
    "scores = model.evaluate(X_test, y_test, verbose=0)\n",
    "print(\"CNN Error: %.2f%%\" % (100-scores[1]*100))"
   ]
  },
  {
   "cell_type": "code",
   "execution_count": 129,
   "metadata": {
    "colab": {
     "base_uri": "https://localhost:8080/",
     "height": 68
    },
    "colab_type": "code",
    "id": "f5ozWB-YikPz",
    "outputId": "d4e53c09-32c9-45e9-c745-afad282951f6"
   },
   "outputs": [
    {
     "name": "stdout",
     "output_type": "stream",
     "text": [
      "1875/1875 [==============================] - 12s 7ms/step - loss: 0.0426 - accuracy: 0.9870\n",
      "Training loss :  0.04260025918483734\n",
      "Training accuracy :  0.9870166778564453\n"
     ]
    }
   ],
   "source": [
    "score = model.evaluate(X_train, y_train)\n",
    "print(\"Training loss : \", score[0])\n",
    "print(\"Training accuracy : \", score[1])\n",
    "e2=(score[1])*100"
   ]
  },
  {
   "cell_type": "code",
   "execution_count": 130,
   "metadata": {
    "colab": {
     "base_uri": "https://localhost:8080/",
     "height": 68
    },
    "colab_type": "code",
    "id": "cSiw7tYgi8yO",
    "outputId": "11244f76-d012-4482-f44a-62cab15483b1"
   },
   "outputs": [
    {
     "name": "stdout",
     "output_type": "stream",
     "text": [
      "313/313 [==============================] - 2s 7ms/step - loss: 0.0494 - accuracy: 0.9833\n",
      "Training loss :  0.04939304664731026\n",
      "Training accuracy :  0.983299970626831\n"
     ]
    }
   ],
   "source": [
    "score = model.evaluate(X_test, y_test)\n",
    "print(\"Training loss : \", score[0])\n",
    "print(\"Training accuracy : \", score[1])\n",
    "f2=(score[1])*100"
   ]
  },
  {
   "cell_type": "code",
   "execution_count": 131,
   "metadata": {
    "colab": {
     "base_uri": "https://localhost:8080/",
     "height": 312
    },
    "colab_type": "code",
    "id": "LEmdNcNDjhJA",
    "outputId": "f69adb06-7590-4106-c32e-d32e782d51f6"
   },
   "outputs": [
    {
     "data": {
      "text/plain": [
       "<matplotlib.axes._subplots.AxesSubplot at 0x7f23033a7828>"
      ]
     },
     "execution_count": 131,
     "metadata": {
      "tags": []
     },
     "output_type": "execute_result"
    },
    {
     "data": {
      "image/png": "[encoded data removed]",
      "text/plain": [
       "<Figure size 432x288 with 1 Axes>"
      ]
     },
     "metadata": {
      "needs_background": "light",
      "tags": []
     },
     "output_type": "display_data"
    }
   ],
   "source": [
    "nodes=['pool-3', 'pool-4']\n",
    "val1=[e1,e2]\n",
    "import seaborn as sns\n",
    "import matplotlib.pyplot as plt\n",
    "plt.title(\"varying pooling\")\n",
    "plt.xlabel('Pooling')\n",
    "plt.ylabel(\" Training accuracy\")\n",
    "sns.barplot(nodes,val1)"
   ]
  },
  {
   "cell_type": "code",
   "execution_count": 132,
   "metadata": {
    "colab": {
     "base_uri": "https://localhost:8080/",
     "height": 312
    },
    "colab_type": "code",
    "id": "id4xQTxxjhz2",
    "outputId": "5cd79898-b8c0-436a-e15c-97c194e9fab2"
   },
   "outputs": [
    {
     "data": {
      "text/plain": [
       "<matplotlib.axes._subplots.AxesSubplot at 0x7f22fc1af080>"
      ]
     },
     "execution_count": 132,
     "metadata": {
      "tags": []
     },
     "output_type": "execute_result"
    },
    {
     "data": {
      "image/png": "[encoded data removed]",
      "text/plain": [
       "<Figure size 432x288 with 1 Axes>"
      ]
     },
     "metadata": {
      "needs_background": "light",
      "tags": []
     },
     "output_type": "display_data"
    }
   ],
   "source": [
    "nodes=['pool-3', 'pool-4']\n",
    "val1=[f1,f2]\n",
    "import seaborn as sns\n",
    "import matplotlib.pyplot as plt\n",
    "plt.title(\"varying pooling\")\n",
    "plt.xlabel('Pooling')\n",
    "plt.ylabel(\" Testing accuracy\")\n",
    "sns.barplot(nodes,val1)"
   ]
  }
 ],
 "metadata": {
  "colab": {
   "name": "dl_cnn_e18cse133.ipynb",
   "provenance": []
  },
  "kernelspec": {
   "display_name": "Python 3",
   "language": "python",
   "name": "python3"
  },
  "language_info": {
   "codemirror_mode": {
    "name": "ipython",
    "version": 3
   },
   "file_extension": ".py",
   "mimetype": "text/x-python",
   "name": "python",
   "nbconvert_exporter": "python",
   "pygments_lexer": "ipython3",
   "version": "3.8.3"
  }
 },
 "nbformat": 4,
 "nbformat_minor": 1
}
