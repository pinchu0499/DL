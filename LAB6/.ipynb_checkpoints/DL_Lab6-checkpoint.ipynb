{
 "cells": [
  {
   "cell_type": "code",
   "execution_count": null,
   "metadata": {
    "id": "P5khfjgngYAr"
   },
   "outputs": [],
   "source": [
    "from keras.datasets import mnist\n",
    "from matplotlib import pyplot\n",
    "from keras.utils import to_categorical\n",
    "from keras.layers import *\n",
    "from keras.optimizers import SGD\n",
    "from keras.models import Sequential"
   ]
  },
  {
   "cell_type": "code",
   "execution_count": null,
   "metadata": {
    "colab": {
     "base_uri": "https://localhost:8080/",
     "height": 87
    },
    "id": "PSG2Awmdh_2a",
    "outputId": "cde780dc-701c-4ede-e77f-0228b6f7a75a"
   },
   "outputs": [
    {
     "name": "stdout",
     "output_type": "stream",
     "text": [
      "Downloading data from https://storage.googleapis.com/tensorflow/tf-keras-datasets/mnist.npz\n",
      "11493376/11490434 [==============================] - 0s 0us/step\n",
      "(60000, 28, 28) (60000,)\n",
      "(10000, 28, 28) (10000,)\n"
     ]
    }
   ],
   "source": [
    "(X_train,y_train),(X_test,y_test)=mnist.load_data()\n",
    "print(X_train.shape,y_train.shape)\n",
    "print(X_test.shape,y_test.shape)"
   ]
  },
  {
   "cell_type": "code",
   "execution_count": null,
   "metadata": {
    "colab": {
     "base_uri": "https://localhost:8080/",
     "height": 268
    },
    "id": "6SfQ1N3xiJoo",
    "outputId": "4e7acde9-c5bc-4c80-c34b-86e37bc73075"
   },
   "outputs": [
    {
     "data": {
      "image/png": "[encoded data removed]",
      "text/plain": [
       "<Figure size 432x288 with 9 Axes>"
      ]
     },
     "metadata": {
      "needs_background": "light",
      "tags": []
     },
     "output_type": "display_data"
    }
   ],
   "source": [
    "for i in range(9):\n",
    "    pyplot.subplot(330 + 1 + i)\n",
    "    pyplot.imshow(X_train[i], pyplot.get_cmap('gray'))\n",
    "pyplot.show()"
   ]
  },
  {
   "cell_type": "code",
   "execution_count": null,
   "metadata": {
    "colab": {
     "base_uri": "https://localhost:8080/",
     "height": 52
    },
    "id": "BnrdPL12ieEV",
    "outputId": "6d385674-c412-4111-cd8e-30f17bd056dd"
   },
   "outputs": [
    {
     "name": "stdout",
     "output_type": "stream",
     "text": [
      "(60000, 28, 28, 1) (10000, 28, 28, 1)\n",
      "(60000, 10) (10000, 10)\n"
     ]
    }
   ],
   "source": [
    "X_train = X_train.reshape((X_train.shape[0],28,28,1))\n",
    "X_test = X_test.reshape((X_test.shape[0],28,28,1))\n",
    "y_train = to_categorical(y_train)\n",
    "y_test = to_categorical(y_test)\n",
    "print(X_train.shape, X_test.shape)\n",
    "print(y_train.shape, y_test.shape)"
   ]
  },
  {
   "cell_type": "markdown",
   "metadata": {
    "id": "J_OThodd83id"
   },
   "source": [
    "#Number of filters"
   ]
  },
  {
   "cell_type": "code",
   "execution_count": null,
   "metadata": {
    "colab": {
     "base_uri": "https://localhost:8080/",
     "height": 1000
    },
    "id": "QwNkkMGAnx4y",
    "outputId": "cfd7a279-0933-4bfe-dec3-b779d7562936"
   },
   "outputs": [
    {
     "name": "stdout",
     "output_type": "stream",
     "text": [
      "Model: \"sequential_5\"\n",
      "_________________________________________________________________\n",
      "Layer (type)                 Output Shape              Param #   \n",
      "=================================================================\n",
      "conv2d_5 (Conv2D)            (None, 26, 26, 4)         40        \n",
      "_________________________________________________________________\n",
      "max_pooling2d_5 (MaxPooling2 (None, 13, 13, 4)         0         \n",
      "_________________________________________________________________\n",
      "flatten_5 (Flatten)          (None, 676)               0         \n",
      "_________________________________________________________________\n",
      "dense_4 (Dense)              (None, 10)                6770      \n",
      "=================================================================\n",
      "Total params: 6,810\n",
      "Trainable params: 6,810\n",
      "Non-trainable params: 0\n",
      "_________________________________________________________________\n",
      "Epoch 1/2\n",
      "1875/1875 [==============================] - 18s 10ms/step - loss: 1.8797 - accuracy: 0.8698\n",
      "Epoch 2/2\n",
      "1875/1875 [==============================] - 18s 10ms/step - loss: 0.2046 - accuracy: 0.9400\n",
      "Model: \"sequential_6\"\n",
      "_________________________________________________________________\n",
      "Layer (type)                 Output Shape              Param #   \n",
      "=================================================================\n",
      "conv2d_6 (Conv2D)            (None, 26, 26, 32)        320       \n",
      "_________________________________________________________________\n",
      "max_pooling2d_6 (MaxPooling2 (None, 13, 13, 32)        0         \n",
      "_________________________________________________________________\n",
      "flatten_6 (Flatten)          (None, 5408)              0         \n",
      "_________________________________________________________________\n",
      "dense_5 (Dense)              (None, 10)                54090     \n",
      "=================================================================\n",
      "Total params: 54,410\n",
      "Trainable params: 54,410\n",
      "Non-trainable params: 0\n",
      "_________________________________________________________________\n",
      "Epoch 1/2\n",
      "1875/1875 [==============================] - 27s 14ms/step - loss: 0.6422 - accuracy: 0.9394\n",
      "Epoch 2/2\n",
      "1875/1875 [==============================] - 27s 14ms/step - loss: 0.0863 - accuracy: 0.9753\n",
      "Model: \"sequential_7\"\n",
      "_________________________________________________________________\n",
      "Layer (type)                 Output Shape              Param #   \n",
      "=================================================================\n",
      "conv2d_7 (Conv2D)            (None, 26, 26, 128)       1280      \n",
      "_________________________________________________________________\n",
      "max_pooling2d_7 (MaxPooling2 (None, 13, 13, 128)       0         \n",
      "_________________________________________________________________\n",
      "flatten_7 (Flatten)          (None, 21632)             0         \n",
      "_________________________________________________________________\n",
      "dense_6 (Dense)              (None, 10)                216330    \n",
      "=================================================================\n",
      "Total params: 217,610\n",
      "Trainable params: 217,610\n",
      "Non-trainable params: 0\n",
      "_________________________________________________________________\n",
      "Epoch 1/2\n",
      "1875/1875 [==============================] - 62s 33ms/step - loss: 0.5897 - accuracy: 0.9476\n",
      "Epoch 2/2\n",
      "1875/1875 [==============================] - 64s 34ms/step - loss: 0.0813 - accuracy: 0.9758\n",
      "Model: \"sequential_8\"\n",
      "_________________________________________________________________\n",
      "Layer (type)                 Output Shape              Param #   \n",
      "=================================================================\n",
      "conv2d_8 (Conv2D)            (None, 26, 26, 512)       5120      \n",
      "_________________________________________________________________\n",
      "max_pooling2d_8 (MaxPooling2 (None, 13, 13, 512)       0         \n",
      "_________________________________________________________________\n",
      "flatten_8 (Flatten)          (None, 86528)             0         \n",
      "_________________________________________________________________\n",
      "dense_7 (Dense)              (None, 10)                865290    \n",
      "=================================================================\n",
      "Total params: 870,410\n",
      "Trainable params: 870,410\n",
      "Non-trainable params: 0\n",
      "_________________________________________________________________\n",
      "Epoch 1/2\n",
      "1875/1875 [==============================] - 202s 108ms/step - loss: 0.7162 - accuracy: 0.9535\n",
      "Epoch 2/2\n",
      "1875/1875 [==============================] - 204s 109ms/step - loss: 0.0766 - accuracy: 0.9770\n",
      "Model: \"sequential_9\"\n",
      "_________________________________________________________________\n",
      "Layer (type)                 Output Shape              Param #   \n",
      "=================================================================\n",
      "conv2d_9 (Conv2D)            (None, 26, 26, 2056)      20560     \n",
      "_________________________________________________________________\n",
      "max_pooling2d_9 (MaxPooling2 (None, 13, 13, 2056)      0         \n",
      "_________________________________________________________________\n",
      "flatten_9 (Flatten)          (None, 347464)            0         \n",
      "_________________________________________________________________\n",
      "dense_8 (Dense)              (None, 10)                3474650   \n",
      "=================================================================\n",
      "Total params: 3,495,210\n",
      "Trainable params: 3,495,210\n",
      "Non-trainable params: 0\n",
      "_________________________________________________________________\n",
      "Epoch 1/2\n",
      "1875/1875 [==============================] - 781s 416ms/step - loss: 0.6619 - accuracy: 0.9560\n",
      "Epoch 2/2\n",
      "1875/1875 [==============================] - 775s 413ms/step - loss: 0.0761 - accuracy: 0.9774\n"
     ]
    }
   ],
   "source": [
    "for x in (4, 32, 128, 512, 2056):\n",
    "    model = Sequential()\n",
    "    model.add(Conv2D(x,kernel_size=(3,3),input_shape=(28,28,1),activation='relu'))\n",
    "    model.add(MaxPooling2D())\n",
    "    model.add(Flatten())\n",
    "    model.add(Dense(10,activation='softmax'))\n",
    "    model.compile(loss='categorical_crossentropy', optimizer='adam', metrics=['accuracy'])\n",
    "    model.summary()\n",
    "    model.fit(X_train,y_train,epochs=2)"
   ]
  },
  {
   "cell_type": "markdown",
   "metadata": {
    "id": "VnGvdqMRBWzX"
   },
   "source": [
    "#Number of Layers"
   ]
  },
  {
   "cell_type": "code",
   "execution_count": null,
   "metadata": {
    "colab": {
     "base_uri": "https://localhost:8080/",
     "height": 1000
    },
    "id": "jg5azSPGqnFk",
    "outputId": "b7601a5f-a22d-45e1-883f-b0d3dfa8df67"
   },
   "outputs": [
    {
     "name": "stdout",
     "output_type": "stream",
     "text": [
      "Model: \"sequential_11\"\n",
      "_________________________________________________________________\n",
      "Layer (type)                 Output Shape              Param #   \n",
      "=================================================================\n",
      "conv2d_14 (Conv2D)           (None, 26, 26, 16)        160       \n",
      "_________________________________________________________________\n",
      "flatten_13 (Flatten)         (None, 10816)             0         \n",
      "_________________________________________________________________\n",
      "dense_12 (Dense)             (None, 10)                108170    \n",
      "=================================================================\n",
      "Total params: 108,330\n",
      "Trainable params: 108,330\n",
      "Non-trainable params: 0\n",
      "_________________________________________________________________\n",
      "Epoch 1/2\n",
      "1875/1875 [==============================] - 21s 11ms/step - loss: 0.7941 - accuracy: 0.9312\n",
      "Epoch 2/2\n",
      "1875/1875 [==============================] - 21s 11ms/step - loss: 0.0840 - accuracy: 0.9748\n",
      "Model: \"sequential_11\"\n",
      "_________________________________________________________________\n",
      "Layer (type)                 Output Shape              Param #   \n",
      "=================================================================\n",
      "conv2d_14 (Conv2D)           (None, 26, 26, 16)        160       \n",
      "_________________________________________________________________\n",
      "conv2d_15 (Conv2D)           (None, 24, 24, 16)        2320      \n",
      "_________________________________________________________________\n",
      "flatten_14 (Flatten)         (None, 9216)              0         \n",
      "_________________________________________________________________\n",
      "dense_13 (Dense)             (None, 10)                92170     \n",
      "=================================================================\n",
      "Total params: 94,650\n",
      "Trainable params: 94,650\n",
      "Non-trainable params: 0\n",
      "_________________________________________________________________\n",
      "Epoch 1/2\n",
      "1875/1875 [==============================] - 52s 28ms/step - loss: 0.1317 - accuracy: 0.9596\n",
      "Epoch 2/2\n",
      "1875/1875 [==============================] - 52s 28ms/step - loss: 0.0505 - accuracy: 0.9844\n",
      "Model: \"sequential_11\"\n",
      "_________________________________________________________________\n",
      "Layer (type)                 Output Shape              Param #   \n",
      "=================================================================\n",
      "conv2d_14 (Conv2D)           (None, 26, 26, 16)        160       \n",
      "_________________________________________________________________\n",
      "conv2d_15 (Conv2D)           (None, 24, 24, 16)        2320      \n",
      "_________________________________________________________________\n",
      "conv2d_16 (Conv2D)           (None, 22, 22, 16)        2320      \n",
      "_________________________________________________________________\n",
      "flatten_15 (Flatten)         (None, 7744)              0         \n",
      "_________________________________________________________________\n",
      "dense_14 (Dense)             (None, 10)                77450     \n",
      "=================================================================\n",
      "Total params: 82,250\n",
      "Trainable params: 82,250\n",
      "Non-trainable params: 0\n",
      "_________________________________________________________________\n",
      "Epoch 1/2\n",
      "1875/1875 [==============================] - 79s 42ms/step - loss: 0.0975 - accuracy: 0.9697\n",
      "Epoch 2/2\n",
      "1875/1875 [==============================] - 79s 42ms/step - loss: 0.0412 - accuracy: 0.9870\n",
      "Model: \"sequential_11\"\n",
      "_________________________________________________________________\n",
      "Layer (type)                 Output Shape              Param #   \n",
      "=================================================================\n",
      "conv2d_14 (Conv2D)           (None, 26, 26, 16)        160       \n",
      "_________________________________________________________________\n",
      "conv2d_15 (Conv2D)           (None, 24, 24, 16)        2320      \n",
      "_________________________________________________________________\n",
      "conv2d_16 (Conv2D)           (None, 22, 22, 16)        2320      \n",
      "_________________________________________________________________\n",
      "conv2d_17 (Conv2D)           (None, 20, 20, 16)        2320      \n",
      "_________________________________________________________________\n",
      "flatten_16 (Flatten)         (None, 6400)              0         \n",
      "_________________________________________________________________\n",
      "dense_15 (Dense)             (None, 10)                64010     \n",
      "=================================================================\n",
      "Total params: 71,130\n",
      "Trainable params: 71,130\n",
      "Non-trainable params: 0\n",
      "_________________________________________________________________\n",
      "Epoch 1/2\n",
      "1875/1875 [==============================] - 108s 57ms/step - loss: 0.0872 - accuracy: 0.9735\n",
      "Epoch 2/2\n",
      "1875/1875 [==============================] - 109s 58ms/step - loss: 0.0395 - accuracy: 0.9877\n"
     ]
    }
   ],
   "source": [
    "model = Sequential()\n",
    "for x in range(4):\n",
    "    model.add(Conv2D(16,kernel_size=(3,3),input_shape=(28,28,1),activation='relu'))\n",
    "    # model.add(MaxPooling2D())\n",
    "    model.add(Flatten())\n",
    "    model.add(Dense(10,activation='softmax'))\n",
    "    model.compile(loss='categorical_crossentropy', optimizer='adam', metrics=['accuracy'])\n",
    "    model.summary()\n",
    "    model.fit(X_train,y_train,epochs=2)\n",
    "    model.pop()\n",
    "    model.pop()"
   ]
  },
  {
   "cell_type": "markdown",
   "metadata": {
    "id": "Bk_IJZGWMWOE"
   },
   "source": [
    "#Size of Filters"
   ]
  },
  {
   "cell_type": "code",
   "execution_count": null,
   "metadata": {
    "colab": {
     "base_uri": "https://localhost:8080/",
     "height": 1000
    },
    "id": "RRsVpPqwL4bV",
    "outputId": "228f9c05-b5f9-424f-bf27-773c687a4ac0"
   },
   "outputs": [
    {
     "name": "stdout",
     "output_type": "stream",
     "text": [
      "Model: \"sequential_12\"\n",
      "_________________________________________________________________\n",
      "Layer (type)                 Output Shape              Param #   \n",
      "=================================================================\n",
      "conv2d_18 (Conv2D)           (None, 26, 26, 16)        160       \n",
      "_________________________________________________________________\n",
      "conv2d_19 (Conv2D)           (None, 24, 24, 16)        2320      \n",
      "_________________________________________________________________\n",
      "flatten_17 (Flatten)         (None, 9216)              0         \n",
      "_________________________________________________________________\n",
      "dense_16 (Dense)             (None, 10)                92170     \n",
      "=================================================================\n",
      "Total params: 94,650\n",
      "Trainable params: 94,650\n",
      "Non-trainable params: 0\n",
      "_________________________________________________________________\n",
      "Epoch 1/2\n",
      "1875/1875 [==============================] - 56s 30ms/step - loss: 0.2603 - accuracy: 0.9460\n",
      "Epoch 2/2\n",
      "1875/1875 [==============================] - 55s 29ms/step - loss: 0.0672 - accuracy: 0.9795\n",
      "Model: \"sequential_13\"\n",
      "_________________________________________________________________\n",
      "Layer (type)                 Output Shape              Param #   \n",
      "=================================================================\n",
      "conv2d_20 (Conv2D)           (None, 24, 24, 16)        416       \n",
      "_________________________________________________________________\n",
      "conv2d_21 (Conv2D)           (None, 20, 20, 16)        6416      \n",
      "_________________________________________________________________\n",
      "flatten_18 (Flatten)         (None, 6400)              0         \n",
      "_________________________________________________________________\n",
      "dense_17 (Dense)             (None, 10)                64010     \n",
      "=================================================================\n",
      "Total params: 70,842\n",
      "Trainable params: 70,842\n",
      "Non-trainable params: 0\n",
      "_________________________________________________________________\n",
      "Epoch 1/2\n",
      "1875/1875 [==============================] - 82s 44ms/step - loss: 0.3375 - accuracy: 0.9426\n",
      "Epoch 2/2\n",
      "1875/1875 [==============================] - 83s 44ms/step - loss: 0.0845 - accuracy: 0.9747\n",
      "Model: \"sequential_14\"\n",
      "_________________________________________________________________\n",
      "Layer (type)                 Output Shape              Param #   \n",
      "=================================================================\n",
      "conv2d_22 (Conv2D)           (None, 22, 22, 16)        800       \n",
      "_________________________________________________________________\n",
      "conv2d_23 (Conv2D)           (None, 16, 16, 16)        12560     \n",
      "_________________________________________________________________\n",
      "flatten_19 (Flatten)         (None, 4096)              0         \n",
      "_________________________________________________________________\n",
      "dense_18 (Dense)             (None, 10)                40970     \n",
      "=================================================================\n",
      "Total params: 54,330\n",
      "Trainable params: 54,330\n",
      "Non-trainable params: 0\n",
      "_________________________________________________________________\n",
      "Epoch 1/2\n",
      "1875/1875 [==============================] - 102s 54ms/step - loss: 0.3608 - accuracy: 0.9243\n",
      "Epoch 2/2\n",
      "1875/1875 [==============================] - 103s 55ms/step - loss: 0.1071 - accuracy: 0.9688\n"
     ]
    }
   ],
   "source": [
    "for x in (3,5,7):\n",
    "    model = Sequential()\n",
    "    model.add(Conv2D(16,kernel_size=(x,x),input_shape=(28,28,1),activation='relu'))\n",
    "    model.add(Conv2D(16,kernel_size=(x,x),activation='relu'))\n",
    "    # model.add(MaxPooling2D())\n",
    "    model.add(Flatten())\n",
    "    model.add(Dense(10,activation='softmax'))\n",
    "    model.compile(loss='categorical_crossentropy', optimizer='adam', metrics=['accuracy'])\n",
    "    model.summary()\n",
    "    model.fit(X_train,y_train,epochs=2)"
   ]
  },
  {
   "cell_type": "markdown",
   "metadata": {
    "id": "BH9n_-cINREu"
   },
   "source": [
    "#Activation function"
   ]
  },
  {
   "cell_type": "code",
   "execution_count": null,
   "metadata": {
    "colab": {
     "base_uri": "https://localhost:8080/",
     "height": 1000
    },
    "id": "ZvL80QTUNTtH",
    "outputId": "e954f3d4-1305-4c32-cc82-70db33d47d8c"
   },
   "outputs": [
    {
     "name": "stdout",
     "output_type": "stream",
     "text": [
      "Model: \"sequential_15\"\n",
      "_________________________________________________________________\n",
      "Layer (type)                 Output Shape              Param #   \n",
      "=================================================================\n",
      "conv2d_24 (Conv2D)           (None, 26, 26, 16)        160       \n",
      "_________________________________________________________________\n",
      "max_pooling2d_13 (MaxPooling (None, 13, 13, 16)        0         \n",
      "_________________________________________________________________\n",
      "conv2d_25 (Conv2D)           (None, 11, 11, 16)        2320      \n",
      "_________________________________________________________________\n",
      "max_pooling2d_14 (MaxPooling (None, 5, 5, 16)          0         \n",
      "_________________________________________________________________\n",
      "flatten_20 (Flatten)         (None, 400)               0         \n",
      "_________________________________________________________________\n",
      "dense_19 (Dense)             (None, 10)                4010      \n",
      "=================================================================\n",
      "Total params: 6,490\n",
      "Trainable params: 6,490\n",
      "Non-trainable params: 0\n",
      "_________________________________________________________________\n",
      "Epoch 1/2\n",
      "1875/1875 [==============================] - 34s 18ms/step - loss: 0.4832 - accuracy: 0.8611\n",
      "Epoch 2/2\n",
      "1875/1875 [==============================] - 33s 18ms/step - loss: 0.1316 - accuracy: 0.9629\n",
      "Model: \"sequential_16\"\n",
      "_________________________________________________________________\n",
      "Layer (type)                 Output Shape              Param #   \n",
      "=================================================================\n",
      "conv2d_26 (Conv2D)           (None, 26, 26, 16)        160       \n",
      "_________________________________________________________________\n",
      "max_pooling2d_15 (MaxPooling (None, 13, 13, 16)        0         \n",
      "_________________________________________________________________\n",
      "conv2d_27 (Conv2D)           (None, 11, 11, 16)        2320      \n",
      "_________________________________________________________________\n",
      "max_pooling2d_16 (MaxPooling (None, 5, 5, 16)          0         \n",
      "_________________________________________________________________\n",
      "flatten_21 (Flatten)         (None, 400)               0         \n",
      "_________________________________________________________________\n",
      "dense_20 (Dense)             (None, 10)                4010      \n",
      "=================================================================\n",
      "Total params: 6,490\n",
      "Trainable params: 6,490\n",
      "Non-trainable params: 0\n",
      "_________________________________________________________________\n",
      "Epoch 1/2\n",
      "1875/1875 [==============================] - 33s 18ms/step - loss: 7.6634 - accuracy: 0.1146\n",
      "Epoch 2/2\n",
      "1875/1875 [==============================] - 33s 18ms/step - loss: 8.2035 - accuracy: 0.0986\n",
      "Model: \"sequential_17\"\n",
      "_________________________________________________________________\n",
      "Layer (type)                 Output Shape              Param #   \n",
      "=================================================================\n",
      "conv2d_28 (Conv2D)           (None, 26, 26, 16)        160       \n",
      "_________________________________________________________________\n",
      "max_pooling2d_17 (MaxPooling (None, 13, 13, 16)        0         \n",
      "_________________________________________________________________\n",
      "conv2d_29 (Conv2D)           (None, 11, 11, 16)        2320      \n",
      "_________________________________________________________________\n",
      "max_pooling2d_18 (MaxPooling (None, 5, 5, 16)          0         \n",
      "_________________________________________________________________\n",
      "flatten_22 (Flatten)         (None, 400)               0         \n",
      "_________________________________________________________________\n",
      "dense_21 (Dense)             (None, 10)                4010      \n",
      "=================================================================\n",
      "Total params: 6,490\n",
      "Trainable params: 6,490\n",
      "Non-trainable params: 0\n",
      "_________________________________________________________________\n",
      "Epoch 1/2\n",
      "1875/1875 [==============================] - 32s 17ms/step - loss: nan - accuracy: 0.1062\n",
      "Epoch 2/2\n",
      "1875/1875 [==============================] - 33s 18ms/step - loss: nan - accuracy: 0.0987\n"
     ]
    }
   ],
   "source": [
    "for x in ('sigmoid', 'tanh', 'relu'):\n",
    "    model = Sequential()\n",
    "    model.add(Conv2D(16,kernel_size=(3,3),input_shape=(28,28,1),activation=x))\n",
    "    model.add(MaxPooling2D())\n",
    "    model.add(Conv2D(16,kernel_size=(3,3),input_shape=(28,28,1),activation=x))\n",
    "    model.add(MaxPooling2D())\n",
    "    model.add(Flatten())\n",
    "    model.add(Dense(10,activation=x))\n",
    "    model.compile(loss='categorical_crossentropy', optimizer='adam', metrics=['accuracy'])\n",
    "    model.summary()\n",
    "    model.fit(X_train,y_train,epochs=2)"
   ]
  },
  {
   "cell_type": "markdown",
   "metadata": {
    "id": "RC4GLPUpOQET"
   },
   "source": [
    "#Filter Size combinations"
   ]
  },
  {
   "cell_type": "code",
   "execution_count": null,
   "metadata": {
    "colab": {
     "base_uri": "https://localhost:8080/",
     "height": 451
    },
    "id": "Pl8NPF3tONxA",
    "outputId": "aaa4c244-d735-42c0-d5d6-ed0ded286d27"
   },
   "outputs": [
    {
     "name": "stdout",
     "output_type": "stream",
     "text": [
      "Model: \"sequential_20\"\n",
      "_________________________________________________________________\n",
      "Layer (type)                 Output Shape              Param #   \n",
      "=================================================================\n",
      "conv2d_34 (Conv2D)           (None, 26, 26, 16)        160       \n",
      "_________________________________________________________________\n",
      "max_pooling2d_21 (MaxPooling (None, 13, 13, 16)        0         \n",
      "_________________________________________________________________\n",
      "conv2d_35 (Conv2D)           (None, 9, 9, 16)          6416      \n",
      "_________________________________________________________________\n",
      "max_pooling2d_22 (MaxPooling (None, 4, 4, 16)          0         \n",
      "_________________________________________________________________\n",
      "flatten_25 (Flatten)         (None, 256)               0         \n",
      "_________________________________________________________________\n",
      "dense_24 (Dense)             (None, 10)                2570      \n",
      "=================================================================\n",
      "Total params: 9,146\n",
      "Trainable params: 9,146\n",
      "Non-trainable params: 0\n",
      "_________________________________________________________________\n",
      "Epoch 1/2\n",
      "1875/1875 [==============================] - 39s 21ms/step - loss: 5.4417 - accuracy: 0.0986\n",
      "Epoch 2/2\n",
      "1875/1875 [==============================] - 38s 20ms/step - loss: 4.9828 - accuracy: 0.1428\n"
     ]
    },
    {
     "data": {
      "text/plain": [
       "<tensorflow.python.keras.callbacks.History at 0x7f5a276bc7f0>"
      ]
     },
     "execution_count": 14,
     "metadata": {
      "tags": []
     },
     "output_type": "execute_result"
    }
   ],
   "source": [
    "model = Sequential()\n",
    "model.add(Conv2D(16,kernel_size=(3,3),input_shape=(28,28,1),activation='relu'))\n",
    "model.add(MaxPooling2D())\n",
    "model.add(Conv2D(16,kernel_size=(5,5),input_shape=(28,28,1),activation='relu'))\n",
    "model.add(MaxPooling2D())\n",
    "model.add(Flatten())\n",
    "model.add(Dense(10,activation='sigmoid'))\n",
    "model.compile(loss='categorical_crossentropy', optimizer='adam', metrics=['accuracy'])\n",
    "model.summary()\n",
    "model.fit(X_train,y_train,epochs=2)"
   ]
  },
  {
   "cell_type": "markdown",
   "metadata": {
    "id": "7Af80vUuRg_5"
   },
   "source": [
    "#Influence of Striding"
   ]
  },
  {
   "cell_type": "code",
   "execution_count": null,
   "metadata": {
    "colab": {
     "base_uri": "https://localhost:8080/",
     "height": 1000
    },
    "id": "oAT4IyaEVXIT",
    "outputId": "872abfdd-d16c-4b52-8880-11ed1d156051"
   },
   "outputs": [
    {
     "name": "stdout",
     "output_type": "stream",
     "text": [
      "Model: \"sequential_25\"\n",
      "_________________________________________________________________\n",
      "Layer (type)                 Output Shape              Param #   \n",
      "=================================================================\n",
      "conv2d_44 (Conv2D)           (None, 26, 26, 16)        160       \n",
      "_________________________________________________________________\n",
      "conv2d_45 (Conv2D)           (None, 24, 24, 16)        2320      \n",
      "_________________________________________________________________\n",
      "flatten_29 (Flatten)         (None, 9216)              0         \n",
      "_________________________________________________________________\n",
      "dense_28 (Dense)             (None, 10)                92170     \n",
      "=================================================================\n",
      "Total params: 94,650\n",
      "Trainable params: 94,650\n",
      "Non-trainable params: 0\n",
      "_________________________________________________________________\n",
      "Epoch 1/2\n",
      "1875/1875 [==============================] - 57s 30ms/step - loss: 4.7022 - accuracy: 0.0987\n",
      "Epoch 2/2\n",
      "1875/1875 [==============================] - 55s 29ms/step - loss: 4.7148 - accuracy: 0.0987\n",
      "Model: \"sequential_26\"\n",
      "_________________________________________________________________\n",
      "Layer (type)                 Output Shape              Param #   \n",
      "=================================================================\n",
      "conv2d_46 (Conv2D)           (None, 13, 13, 16)        160       \n",
      "_________________________________________________________________\n",
      "conv2d_47 (Conv2D)           (None, 6, 6, 16)          2320      \n",
      "_________________________________________________________________\n",
      "flatten_30 (Flatten)         (None, 576)               0         \n",
      "_________________________________________________________________\n",
      "dense_29 (Dense)             (None, 10)                5770      \n",
      "=================================================================\n",
      "Total params: 8,250\n",
      "Trainable params: 8,250\n",
      "Non-trainable params: 0\n",
      "_________________________________________________________________\n",
      "Epoch 1/2\n",
      "1875/1875 [==============================] - 14s 8ms/step - loss: 0.7703 - accuracy: 0.7891\n",
      "Epoch 2/2\n",
      "1875/1875 [==============================] - 14s 7ms/step - loss: 0.1254 - accuracy: 0.9639\n",
      "Model: \"sequential_27\"\n",
      "_________________________________________________________________\n",
      "Layer (type)                 Output Shape              Param #   \n",
      "=================================================================\n",
      "conv2d_48 (Conv2D)           (None, 9, 9, 16)          160       \n",
      "_________________________________________________________________\n",
      "conv2d_49 (Conv2D)           (None, 3, 3, 16)          2320      \n",
      "_________________________________________________________________\n",
      "flatten_31 (Flatten)         (None, 144)               0         \n",
      "_________________________________________________________________\n",
      "dense_30 (Dense)             (None, 10)                1450      \n",
      "=================================================================\n",
      "Total params: 3,930\n",
      "Trainable params: 3,930\n",
      "Non-trainable params: 0\n",
      "_________________________________________________________________\n",
      "Epoch 1/2\n",
      "1875/1875 [==============================] - 9s 5ms/step - loss: 0.7897 - accuracy: 0.7843\n",
      "Epoch 2/2\n",
      "1875/1875 [==============================] - 9s 5ms/step - loss: 0.1789 - accuracy: 0.9484\n"
     ]
    }
   ],
   "source": [
    "for i in range(1,4):\n",
    "    model = Sequential()\n",
    "    model.add(Conv2D(16,kernel_size=(3,3),input_shape=(28,28,1),activation='relu',strides=i))\n",
    "    # model.add(MaxPooling2D())\n",
    "    model.add(Conv2D(16,kernel_size=(3,3),input_shape=(28,28,1),activation='relu',strides=i))\n",
    "    # model.add(MaxPooling2D())\n",
    "    model.add(Flatten())\n",
    "    model.add(Dense(10,activation='sigmoid'))\n",
    "    model.compile(loss='categorical_crossentropy', optimizer='adam', metrics=['accuracy'])\n",
    "    model.summary()\n",
    "    model.fit(X_train,y_train,epochs=2)"
   ]
  },
  {
   "cell_type": "markdown",
   "metadata": {
    "id": "obeLKP0dXJoG"
   },
   "source": [
    "#Influence of Padding"
   ]
  },
  {
   "cell_type": "code",
   "execution_count": null,
   "metadata": {
    "colab": {
     "base_uri": "https://localhost:8080/",
     "height": 381
    },
    "id": "fE5KudFyXCnE",
    "outputId": "3d264285-a2da-45c9-a93f-afb1ae54f535"
   },
   "outputs": [
    {
     "name": "stdout",
     "output_type": "stream",
     "text": [
      "Model: \"sequential_28\"\n",
      "_________________________________________________________________\n",
      "Layer (type)                 Output Shape              Param #   \n",
      "=================================================================\n",
      "conv2d_50 (Conv2D)           (None, 28, 28, 16)        160       \n",
      "_________________________________________________________________\n",
      "conv2d_51 (Conv2D)           (None, 28, 28, 16)        2320      \n",
      "_________________________________________________________________\n",
      "flatten_32 (Flatten)         (None, 12544)             0         \n",
      "_________________________________________________________________\n",
      "dense_31 (Dense)             (None, 10)                125450    \n",
      "=================================================================\n",
      "Total params: 127,930\n",
      "Trainable params: 127,930\n",
      "Non-trainable params: 0\n",
      "_________________________________________________________________\n",
      "Epoch 1/2\n",
      "1875/1875 [==============================] - 72s 38ms/step - loss: 8.5995 - accuracy: 0.1856\n",
      "Epoch 2/2\n",
      "1875/1875 [==============================] - 76s 40ms/step - loss: 8.6011 - accuracy: 0.1824\n"
     ]
    },
    {
     "data": {
      "text/plain": [
       "<tensorflow.python.keras.callbacks.History at 0x7f5a129bbb70>"
      ]
     },
     "execution_count": 18,
     "metadata": {
      "tags": []
     },
     "output_type": "execute_result"
    }
   ],
   "source": [
    "model = Sequential()\n",
    "model.add(Conv2D(16,kernel_size=(3,3),input_shape=(28,28,1),activation='relu',padding=\"same\"))\n",
    "# model.add(MaxPooling2D())\n",
    "model.add(Conv2D(16,kernel_size=(3,3),input_shape=(28,28,1),activation='relu',padding=\"same\"))\n",
    "# model.add(MaxPooling2D())\n",
    "model.add(Flatten())\n",
    "model.add(Dense(10,activation='sigmoid'))\n",
    "model.compile(loss='categorical_crossentropy', optimizer='adam', metrics=['accuracy'])\n",
    "model.summary()\n",
    "model.fit(X_train,y_train,epochs=2)"
   ]
  },
  {
   "cell_type": "code",
   "execution_count": null,
   "metadata": {
    "colab": {
     "base_uri": "https://localhost:8080/",
     "height": 849
    },
    "id": "zxzpldoBYjL2",
    "outputId": "a6534b95-9f79-41cf-b255-10f84985413d"
   },
   "outputs": [
    {
     "name": "stdout",
     "output_type": "stream",
     "text": [
      "Model: \"sequential_29\"\n",
      "_________________________________________________________________\n",
      "Layer (type)                 Output Shape              Param #   \n",
      "=================================================================\n",
      "conv2d_52 (Conv2D)           (None, 26, 26, 16)        160       \n",
      "_________________________________________________________________\n",
      "max_pooling2d_29 (MaxPooling (None, 13, 13, 16)        0         \n",
      "_________________________________________________________________\n",
      "conv2d_53 (Conv2D)           (None, 11, 11, 16)        2320      \n",
      "_________________________________________________________________\n",
      "max_pooling2d_30 (MaxPooling (None, 5, 5, 16)          0         \n",
      "_________________________________________________________________\n",
      "flatten_33 (Flatten)         (None, 400)               0         \n",
      "_________________________________________________________________\n",
      "dense_32 (Dense)             (None, 10)                4010      \n",
      "=================================================================\n",
      "Total params: 6,490\n",
      "Trainable params: 6,490\n",
      "Non-trainable params: 0\n",
      "_________________________________________________________________\n",
      "Epoch 1/2\n",
      "1875/1875 [==============================] - 32s 17ms/step - loss: 5.2174 - accuracy: 0.2789\n",
      "Epoch 2/2\n",
      "1875/1875 [==============================] - 31s 17ms/step - loss: 0.5980 - accuracy: 0.9243\n",
      "Model: \"sequential_30\"\n",
      "_________________________________________________________________\n",
      "Layer (type)                 Output Shape              Param #   \n",
      "=================================================================\n",
      "conv2d_54 (Conv2D)           (None, 26, 26, 16)        160       \n",
      "_________________________________________________________________\n",
      "max_pooling2d_31 (MaxPooling (None, 8, 8, 16)          0         \n",
      "_________________________________________________________________\n",
      "conv2d_55 (Conv2D)           (None, 6, 6, 16)          2320      \n",
      "_________________________________________________________________\n",
      "max_pooling2d_32 (MaxPooling (None, 2, 2, 16)          0         \n",
      "_________________________________________________________________\n",
      "flatten_34 (Flatten)         (None, 64)                0         \n",
      "_________________________________________________________________\n",
      "dense_33 (Dense)             (None, 10)                650       \n",
      "=================================================================\n",
      "Total params: 3,130\n",
      "Trainable params: 3,130\n",
      "Non-trainable params: 0\n",
      "_________________________________________________________________\n",
      "Epoch 1/2\n",
      "1875/1875 [==============================] - 25s 14ms/step - loss: 7.1224 - accuracy: 0.0991\n",
      "Epoch 2/2\n",
      "1875/1875 [==============================] - 26s 14ms/step - loss: 7.0284 - accuracy: 0.0988\n"
     ]
    }
   ],
   "source": [
    "for i in range(2,4):\n",
    "    model = Sequential()\n",
    "    model.add(Conv2D(16,kernel_size=(3,3),input_shape=(28,28,1),activation='relu'))\n",
    "    model.add(MaxPooling2D(pool_size=(i,i)))\n",
    "    model.add(Conv2D(16,kernel_size=(3,3),input_shape=(28,28,1),activation='relu'))\n",
    "    model.add(MaxPooling2D((i,i)))\n",
    "    model.add(Flatten())\n",
    "    model.add(Dense(10,activation='sigmoid'))\n",
    "    model.compile(loss='categorical_crossentropy', optimizer='adam', metrics=['accuracy'])\n",
    "    model.summary()\n",
    "    model.fit(X_train,y_train,epochs=2)"
   ]
  }
 ],
 "metadata": {
  "colab": {
   "collapsed_sections": [],
   "name": "DL_Lab6.ipynb",
   "provenance": []
  },
  "kernelspec": {
   "display_name": "Python 3",
   "language": "python",
   "name": "python3"
  },
  "language_info": {
   "codemirror_mode": {
    "name": "ipython",
    "version": 3
   },
   "file_extension": ".py",
   "mimetype": "text/x-python",
   "name": "python",
   "nbconvert_exporter": "python",
   "pygments_lexer": "ipython3",
   "version": "3.8.3"
  }
 },
 "nbformat": 4,
 "nbformat_minor": 1
}
