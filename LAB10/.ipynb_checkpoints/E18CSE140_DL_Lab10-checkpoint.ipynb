{
 "cells": [
  {
   "cell_type": "code",
   "execution_count": 47,
   "metadata": {
    "ExecuteTime": {
     "end_time": "2020-11-12T06:12:22.150454Z",
     "start_time": "2020-11-12T06:12:22.139249Z"
    }
   },
   "outputs": [],
   "source": [
    "import glob\n",
    "import librosa\n",
    "import librosa.display\n",
    "import IPython.display as ipd\n",
    "import pandas as pd\n",
    "import numpy as np\n",
    "import tensorflow as tf\n",
    "from tensorflow.keras import Sequential,Input\n",
    "from tensorflow.keras.layers import Dense,Dropout,Activation,LSTM,GRU,SimpleRNN,Embedding\n",
    "from tensorflow.keras.optimizers import Adam\n",
    "from sklearn.preprocessing import LabelEncoder,MinMaxScaler\n",
    "from tensorflow.keras.utils import to_categorical\n",
    "from sklearn.model_selection import train_test_split\n",
    "from tensorflow.keras.callbacks import History \n",
    "from sklearn.metrics import mean_squared_error\n",
    "import time\n",
    "import datetime\n",
    "import math\n",
    "import matplotlib.pyplot as plt\n",
    "from tensorflow.keras import backend as K\n",
    "def root_mean_squared_error(y_true, y_pred):\n",
    "        return K.sqrt(K.mean(K.square(y_pred - y_true), axis=-1)) "
   ]
  },
  {
   "cell_type": "code",
   "execution_count": 48,
   "metadata": {
    "ExecuteTime": {
     "end_time": "2020-11-12T06:12:23.776380Z",
     "start_time": "2020-11-12T06:12:23.756465Z"
    }
   },
   "outputs": [
    {
     "data": {
      "text/html": [
       "<div>\n",
       "<style scoped>\n",
       "    .dataframe tbody tr th:only-of-type {\n",
       "        vertical-align: middle;\n",
       "    }\n",
       "\n",
       "    .dataframe tbody tr th {\n",
       "        vertical-align: top;\n",
       "    }\n",
       "\n",
       "    .dataframe thead th {\n",
       "        text-align: right;\n",
       "    }\n",
       "</style>\n",
       "<table border=\"1\" class=\"dataframe\">\n",
       "  <thead>\n",
       "    <tr style=\"text-align: right;\">\n",
       "      <th></th>\n",
       "      <th>Passengers</th>\n",
       "    </tr>\n",
       "  </thead>\n",
       "  <tbody>\n",
       "    <tr>\n",
       "      <th>0</th>\n",
       "      <td>112</td>\n",
       "    </tr>\n",
       "    <tr>\n",
       "      <th>1</th>\n",
       "      <td>118</td>\n",
       "    </tr>\n",
       "    <tr>\n",
       "      <th>2</th>\n",
       "      <td>132</td>\n",
       "    </tr>\n",
       "    <tr>\n",
       "      <th>3</th>\n",
       "      <td>129</td>\n",
       "    </tr>\n",
       "    <tr>\n",
       "      <th>4</th>\n",
       "      <td>121</td>\n",
       "    </tr>\n",
       "    <tr>\n",
       "      <th>...</th>\n",
       "      <td>...</td>\n",
       "    </tr>\n",
       "    <tr>\n",
       "      <th>139</th>\n",
       "      <td>606</td>\n",
       "    </tr>\n",
       "    <tr>\n",
       "      <th>140</th>\n",
       "      <td>508</td>\n",
       "    </tr>\n",
       "    <tr>\n",
       "      <th>141</th>\n",
       "      <td>461</td>\n",
       "    </tr>\n",
       "    <tr>\n",
       "      <th>142</th>\n",
       "      <td>390</td>\n",
       "    </tr>\n",
       "    <tr>\n",
       "      <th>143</th>\n",
       "      <td>432</td>\n",
       "    </tr>\n",
       "  </tbody>\n",
       "</table>\n",
       "<p>144 rows × 1 columns</p>\n",
       "</div>"
      ],
      "text/plain": [
       "     Passengers\n",
       "0           112\n",
       "1           118\n",
       "2           132\n",
       "3           129\n",
       "4           121\n",
       "..          ...\n",
       "139         606\n",
       "140         508\n",
       "141         461\n",
       "142         390\n",
       "143         432\n",
       "\n",
       "[144 rows x 1 columns]"
      ]
     },
     "execution_count": 48,
     "metadata": {},
     "output_type": "execute_result"
    }
   ],
   "source": [
    "df=pd.read_csv('airline-passengers.csv',usecols=[1], engine='python')\n",
    "df"
   ]
  },
  {
   "cell_type": "code",
   "execution_count": 49,
   "metadata": {
    "ExecuteTime": {
     "end_time": "2020-11-12T06:12:24.000303Z",
     "start_time": "2020-11-12T06:12:23.994126Z"
    }
   },
   "outputs": [],
   "source": [
    "X=df.values\n",
    "X=X.astype('float32')"
   ]
  },
  {
   "cell_type": "code",
   "execution_count": 50,
   "metadata": {
    "ExecuteTime": {
     "end_time": "2020-11-12T06:12:24.247992Z",
     "start_time": "2020-11-12T06:12:24.230167Z"
    }
   },
   "outputs": [
    {
     "data": {
      "text/plain": [
       "array([[0.01544401],\n",
       "       [0.02702703],\n",
       "       [0.05405405],\n",
       "       [0.04826255],\n",
       "       [0.03281853],\n",
       "       [0.05984557],\n",
       "       [0.08494207],\n",
       "       [0.08494207],\n",
       "       [0.06177607],\n",
       "       [0.02895753],\n",
       "       [0.        ],\n",
       "       [0.02702703],\n",
       "       [0.02123553],\n",
       "       [0.04247104],\n",
       "       [0.07142857],\n",
       "       [0.05984557],\n",
       "       [0.04054055],\n",
       "       [0.08687258],\n",
       "       [0.12741312],\n",
       "       [0.12741312],\n",
       "       [0.10424709],\n",
       "       [0.05598456],\n",
       "       [0.01930502],\n",
       "       [0.06949806],\n",
       "       [0.07915059],\n",
       "       [0.08880308],\n",
       "       [0.14285713],\n",
       "       [0.11389962],\n",
       "       [0.13127413],\n",
       "       [0.14285713],\n",
       "       [0.18339768],\n",
       "       [0.18339768],\n",
       "       [0.15444016],\n",
       "       [0.11196911],\n",
       "       [0.08108109],\n",
       "       [0.1196911 ],\n",
       "       [0.12934363],\n",
       "       [0.14671814],\n",
       "       [0.17181468],\n",
       "       [0.14864865],\n",
       "       [0.15250966],\n",
       "       [0.22007722],\n",
       "       [0.24324325],\n",
       "       [0.26640925],\n",
       "       [0.2027027 ],\n",
       "       [0.16795367],\n",
       "       [0.13127413],\n",
       "       [0.17374519],\n",
       "       [0.17760617],\n",
       "       [0.17760617],\n",
       "       [0.25482625],\n",
       "       [0.25289574],\n",
       "       [0.24131274],\n",
       "       [0.26833975],\n",
       "       [0.3088803 ],\n",
       "       [0.32432434],\n",
       "       [0.25675675],\n",
       "       [0.20656371],\n",
       "       [0.14671814],\n",
       "       [0.18725869],\n",
       "       [0.19305018],\n",
       "       [0.16216215],\n",
       "       [0.25289574],\n",
       "       [0.23745173],\n",
       "       [0.25096524],\n",
       "       [0.3088803 ],\n",
       "       [0.38223937],\n",
       "       [0.36486486],\n",
       "       [0.2992278 ],\n",
       "       [0.24131274],\n",
       "       [0.1911197 ],\n",
       "       [0.24131274],\n",
       "       [0.26640925],\n",
       "       [0.24903473],\n",
       "       [0.31467178],\n",
       "       [0.3185328 ],\n",
       "       [0.32046333],\n",
       "       [0.4073359 ],\n",
       "       [0.5019305 ],\n",
       "       [0.46911195],\n",
       "       [0.40154442],\n",
       "       [0.32818535],\n",
       "       [0.25675675],\n",
       "       [0.3359073 ],\n",
       "       [0.34749034],\n",
       "       [0.33397684],\n",
       "       [0.41119692],\n",
       "       [0.4034749 ],\n",
       "       [0.4131274 ],\n",
       "       [0.52123547],\n",
       "       [0.5965251 ],\n",
       "       [0.58108103],\n",
       "       [0.484556  ],\n",
       "       [0.3899614 ],\n",
       "       [0.3223938 ],\n",
       "       [0.3899614 ],\n",
       "       [0.4073359 ],\n",
       "       [0.3803089 ],\n",
       "       [0.48648646],\n",
       "       [0.47104248],\n",
       "       [0.484556  ],\n",
       "       [0.6138996 ],\n",
       "       [0.6969112 ],\n",
       "       [0.70077217],\n",
       "       [0.57915056],\n",
       "       [0.46911195],\n",
       "       [0.38803086],\n",
       "       [0.44787642],\n",
       "       [0.45559844],\n",
       "       [0.4131274 ],\n",
       "       [0.4980695 ],\n",
       "       [0.47104248],\n",
       "       [0.49999997],\n",
       "       [0.6389961 ],\n",
       "       [0.7471043 ],\n",
       "       [0.7741313 ],\n",
       "       [0.57915056],\n",
       "       [0.492278  ],\n",
       "       [0.3976834 ],\n",
       "       [0.44980696],\n",
       "       [0.49420848],\n",
       "       [0.45945945],\n",
       "       [0.5830116 ],\n",
       "       [0.5637065 ],\n",
       "       [0.61003864],\n",
       "       [0.71042466],\n",
       "       [0.8571429 ],\n",
       "       [0.8783784 ],\n",
       "       [0.69305015],\n",
       "       [0.5849421 ],\n",
       "       [0.4980695 ],\n",
       "       [0.58108103],\n",
       "       [0.6042471 ],\n",
       "       [0.554054  ],\n",
       "       [0.60810804],\n",
       "       [0.6891892 ],\n",
       "       [0.71042466],\n",
       "       [0.8320464 ],\n",
       "       [1.        ],\n",
       "       [0.96911204],\n",
       "       [0.7799227 ],\n",
       "       [0.6891892 ],\n",
       "       [0.55212355],\n",
       "       [0.6332046 ]], dtype=float32)"
      ]
     },
     "execution_count": 50,
     "metadata": {},
     "output_type": "execute_result"
    }
   ],
   "source": [
    "scaler = MinMaxScaler(feature_range=(0, 1))\n",
    "X = scaler.fit_transform(X)\n",
    "X"
   ]
  },
  {
   "cell_type": "code",
   "execution_count": 51,
   "metadata": {
    "ExecuteTime": {
     "end_time": "2020-11-12T06:12:25.906702Z",
     "start_time": "2020-11-12T06:12:25.895795Z"
    }
   },
   "outputs": [],
   "source": [
    "train_size = int(len(X) * 0.75)\n",
    "X_train, X_test = X[0:train_size], X[train_size:]\n",
    "def prepare_data(dataset, look_back=1):\n",
    "\tdX, dY = [], []\n",
    "\tfor i in range(len(dataset)-look_back-1):\n",
    "\t\ta = dataset[i:(i+look_back), 0]\n",
    "\t\tdX.append(a)\n",
    "\t\tdY.append(dataset[i + look_back, 0])\n",
    "\treturn np.array(dX), np.array(dY)\n",
    "look_back = 1\n",
    "trX, trY = prepare_data(X_train, look_back)\n",
    "tstX, tstY = prepare_data(X_test, look_back)\n",
    "trX = np.reshape(trX, (trX.shape[0], 1, trX.shape[1]))\n",
    "tstX = np.reshape(tstX, (tstX.shape[0], 1, tstX.shape[1]))"
   ]
  },
  {
   "cell_type": "code",
   "execution_count": 65,
   "metadata": {
    "ExecuteTime": {
     "end_time": "2020-11-12T06:22:17.181303Z",
     "start_time": "2020-11-12T06:22:17.177331Z"
    }
   },
   "outputs": [],
   "source": [
    "nodes=[1,8,16,32,64,128]\n",
    "layers=[0,1,2,3]"
   ]
  },
  {
   "cell_type": "code",
   "execution_count": 66,
   "metadata": {
    "ExecuteTime": {
     "end_time": "2020-11-12T06:22:17.449932Z",
     "start_time": "2020-11-12T06:22:17.442001Z"
    }
   },
   "outputs": [],
   "source": [
    "rnnlayerstrain=[]\n",
    "rnnlayerstest=[]\n",
    "rnnlayersparams=[]\n",
    "rnnlayerstime=[]\n",
    "rnnnodestrain=[]\n",
    "rnnnodestest=[]\n",
    "rnnnodesparams=[]\n",
    "rnnnodestime=[]\n",
    "\n",
    "grulayerstrain=[]\n",
    "grulayerstest=[]\n",
    "grulayersparams=[]\n",
    "grulayerstime=[]\n",
    "grunodestrain=[]\n",
    "grunodestest=[]\n",
    "grunodesparams=[]\n",
    "grunodestime=[]\n",
    "\n",
    "lstmlayerstrain=[]\n",
    "lstmlayerstest=[]\n",
    "lstmlayersparams=[]\n",
    "lstmlayerstime=[]\n",
    "lstmnodestrain=[]\n",
    "lstmnodestest=[]\n",
    "lstmnodesparams=[]\n",
    "lstmnodestime=[]\n"
   ]
  },
  {
   "cell_type": "code",
   "execution_count": 67,
   "metadata": {
    "ExecuteTime": {
     "end_time": "2020-11-12T06:24:08.863006Z",
     "start_time": "2020-11-12T06:22:18.435430Z"
    }
   },
   "outputs": [
    {
     "name": "stdout",
     "output_type": "stream",
     "text": [
      "model with 1 nodes trained\n",
      "\n",
      "model with 8 nodes trained\n",
      "\n",
      "model with 16 nodes trained\n",
      "\n",
      "model with 32 nodes trained\n",
      "\n",
      "model with 64 nodes trained\n",
      "\n",
      "model with 128 nodes trained\n",
      "\n"
     ]
    }
   ],
   "source": [
    "for i in nodes:\n",
    "    model=Sequential()\n",
    "    model.add(SimpleRNN(i,input_shape=(1,look_back)))\n",
    "    model.add(Dense(1))\n",
    "    model.compile(optimizer='adam', loss=root_mean_squared_error,\n",
    "                  metrics=['acc'])\n",
    "    t=time.time()\n",
    "    model.fit(trX,trY,epochs=100,batch_size=1,verbose=0)\n",
    "    print(\"model with \"+str(i)+\" nodes trained\")\n",
    "    print()\n",
    "    rnnnodestime.append(time.time()-t)\n",
    "    rnnnodestrain.append(np.mean(model.loss(model.predict(np.reshape(scaler.inverse_transform(trX.reshape(trX.shape[0],).reshape(-1,1)),(trX.shape[0], 1, trX.shape[1]))),trY)))\n",
    "    rnnnodestest.append(np.mean(model.loss(model.predict(np.reshape(scaler.inverse_transform(tstX.reshape(tstX.shape[0],).reshape(-1,1)),(tstX.shape[0], 1, tstX.shape[1]))),tstY)))\n",
    "    rnnnodesparams.append(model.count_params())"
   ]
  },
  {
   "cell_type": "code",
   "execution_count": 69,
   "metadata": {
    "ExecuteTime": {
     "end_time": "2020-11-12T06:26:35.284139Z",
     "start_time": "2020-11-12T06:24:19.927749Z"
    }
   },
   "outputs": [
    {
     "name": "stdout",
     "output_type": "stream",
     "text": [
      "model with 1 layers trained\n",
      "\n",
      "model with 2 layers trained\n",
      "\n",
      "model with 3 layers trained\n",
      "\n",
      "model with 4 layers trained\n",
      "\n"
     ]
    }
   ],
   "source": [
    "for i in range(len(layers)):\n",
    "    model=Sequential()\n",
    "    model.add(SimpleRNN(16,input_shape=(1,look_back),return_sequences=True))\n",
    "    for j in range(layers[i]-1):\n",
    "        model.add(SimpleRNN(16,return_sequences=True))\n",
    "    if(layers[i]>0):\n",
    "        model.add(SimpleRNN(16))\n",
    "    model.add(Dense(1,activation='relu'))\n",
    "    model.compile(optimizer='adam', loss=root_mean_squared_error,\n",
    "                  metrics=['acc'])\n",
    "    t=time.time()\n",
    "    model.fit(trX,trY,epochs=100,batch_size=1,verbose=0)\n",
    "    print(\"model with \"+str(i+1)+\" layers trained\")\n",
    "    print()\n",
    "    rnnlayerstime.append(time.time()-t)\n",
    "    rnnlayerstrain.append(np.mean(model.loss(model.predict(np.reshape(scaler.inverse_transform(trX.reshape(trX.shape[0],).reshape(-1,1)),(trX.shape[0], 1, trX.shape[1]))),trY)))\n",
    "    rnnlayerstest.append(np.mean(model.loss(model.predict(np.reshape(scaler.inverse_transform(tstX.reshape(tstX.shape[0],).reshape(-1,1)),(tstX.shape[0], 1, tstX.shape[1]))),tstY)))\n",
    "    rnnlayersparams.append(model.count_params())"
   ]
  },
  {
   "cell_type": "code",
   "execution_count": 70,
   "metadata": {
    "ExecuteTime": {
     "end_time": "2020-11-12T06:29:26.161310Z",
     "start_time": "2020-11-12T06:26:39.702276Z"
    }
   },
   "outputs": [
    {
     "name": "stdout",
     "output_type": "stream",
     "text": [
      "model with 1 nodes trained\n",
      "\n",
      "model with 8 nodes trained\n",
      "\n",
      "model with 16 nodes trained\n",
      "\n",
      "model with 32 nodes trained\n",
      "\n",
      "model with 64 nodes trained\n",
      "\n",
      "model with 128 nodes trained\n",
      "\n"
     ]
    }
   ],
   "source": [
    "for i in nodes:\n",
    "    model=Sequential()\n",
    "    model.add(GRU(i,input_shape=(1,look_back)))\n",
    "    model.add(Dense(1))\n",
    "    model.compile(optimizer='adam', loss=root_mean_squared_error,\n",
    "                  metrics=['acc'])\n",
    "    t=time.time()\n",
    "    model.fit(trX,trY,epochs=100,batch_size=1,verbose=0)\n",
    "    print(\"model with \"+str(i)+\" nodes trained\")\n",
    "    print()\n",
    "    grunodestime.append(time.time()-t)\n",
    "    grunodestrain.append(np.mean(model.loss(model.predict(np.reshape(scaler.inverse_transform(trX.reshape(trX.shape[0],).reshape(-1,1)),(trX.shape[0], 1, trX.shape[1]))),trY)))\n",
    "    grunodestest.append(np.mean(model.loss(model.predict(np.reshape(scaler.inverse_transform(tstX.reshape(tstX.shape[0],).reshape(-1,1)),(tstX.shape[0], 1, tstX.shape[1]))),tstY)))\n",
    "    grunodesparams.append(model.count_params())"
   ]
  },
  {
   "cell_type": "code",
   "execution_count": 71,
   "metadata": {
    "ExecuteTime": {
     "end_time": "2020-11-12T06:32:34.114660Z",
     "start_time": "2020-11-12T06:29:26.183209Z"
    }
   },
   "outputs": [
    {
     "name": "stdout",
     "output_type": "stream",
     "text": [
      "model with 1 layers trained\n",
      "\n",
      "model with 2 layers trained\n",
      "\n",
      "model with 3 layers trained\n",
      "\n",
      "model with 4 layers trained\n",
      "\n"
     ]
    }
   ],
   "source": [
    "for i in range(len(layers)):\n",
    "    model=Sequential()\n",
    "    model.add(GRU(16,input_shape=(1,look_back),return_sequences=True))\n",
    "    for j in range(layers[i]-1):\n",
    "        model.add(GRU(16,return_sequences=True))\n",
    "    if(layers[i]>0):\n",
    "        model.add(GRU(16))\n",
    "    model.add(Dense(1,activation='relu'))\n",
    "    model.compile(optimizer='adam', loss=root_mean_squared_error,\n",
    "                  metrics=['acc'])\n",
    "    t=time.time()\n",
    "    model.fit(trX,trY,epochs=100,batch_size=1,verbose=0)\n",
    "    print(\"model with \"+str(i+1)+\" layers trained\")\n",
    "    print()\n",
    "    grulayerstime.append(time.time()-t)\n",
    "    grulayerstrain.append(np.mean(model.loss(model.predict(np.reshape(scaler.inverse_transform(trX.reshape(trX.shape[0],).reshape(-1,1)),(trX.shape[0], 1, trX.shape[1]))),trY)))\n",
    "    grulayerstest.append(np.mean(model.loss(model.predict(np.reshape(scaler.inverse_transform(tstX.reshape(tstX.shape[0],).reshape(-1,1)),(tstX.shape[0], 1, tstX.shape[1]))),tstY)))\n",
    "    grulayersparams.append(model.count_params())"
   ]
  },
  {
   "cell_type": "code",
   "execution_count": 72,
   "metadata": {
    "ExecuteTime": {
     "end_time": "2020-11-12T06:35:22.802499Z",
     "start_time": "2020-11-12T06:32:34.134572Z"
    }
   },
   "outputs": [
    {
     "name": "stdout",
     "output_type": "stream",
     "text": [
      "model with 1 nodes trained\n",
      "\n",
      "model with 8 nodes trained\n",
      "\n",
      "model with 16 nodes trained\n",
      "\n",
      "model with 32 nodes trained\n",
      "\n",
      "model with 64 nodes trained\n",
      "\n",
      "model with 128 nodes trained\n",
      "\n"
     ]
    }
   ],
   "source": [
    "for i in nodes:\n",
    "    model=Sequential()\n",
    "    model.add(LSTM(i,input_shape=(1,look_back)))\n",
    "    model.add(Dense(1))\n",
    "    model.compile(optimizer='adam', loss=root_mean_squared_error,\n",
    "                  metrics=['acc'])\n",
    "    t=time.time()\n",
    "    model.fit(trX,trY,epochs=100,batch_size=1,verbose=0)\n",
    "    print(\"model with \"+str(i)+\" nodes trained\")\n",
    "    print()\n",
    "    lstmnodestime.append(time.time()-t)\n",
    "    lstmnodestrain.append(np.mean(model.loss(model.predict(np.reshape(scaler.inverse_transform(trX.reshape(trX.shape[0],).reshape(-1,1)),(trX.shape[0], 1, trX.shape[1]))),trY)))\n",
    "    lstmnodestest.append(np.mean(model.loss(model.predict(np.reshape(scaler.inverse_transform(tstX.reshape(tstX.shape[0],).reshape(-1,1)),(tstX.shape[0], 1, tstX.shape[1]))),tstY)))\n",
    "    lstmnodesparams.append(model.count_params())"
   ]
  },
  {
   "cell_type": "code",
   "execution_count": 73,
   "metadata": {
    "ExecuteTime": {
     "end_time": "2020-11-12T06:38:47.016589Z",
     "start_time": "2020-11-12T06:35:22.822363Z"
    }
   },
   "outputs": [
    {
     "name": "stdout",
     "output_type": "stream",
     "text": [
      "model with 1 layers trained\n",
      "\n",
      "model with 2 layers trained\n",
      "\n",
      "model with 3 layers trained\n",
      "\n",
      "model with 4 layers trained\n",
      "\n"
     ]
    }
   ],
   "source": [
    "for i in range(len(layers)):\n",
    "    model=Sequential()\n",
    "    model.add(LSTM(16,input_shape=(1,look_back),return_sequences=True))\n",
    "    for j in range(layers[i]-1):\n",
    "        model.add(LSTM(16,return_sequences=True))\n",
    "    if(layers[i]>0):\n",
    "        model.add(LSTM(16))\n",
    "    model.add(Dense(1,activation='relu'))\n",
    "    model.compile(optimizer='adam', loss=root_mean_squared_error,\n",
    "                  metrics=['acc'])\n",
    "    t=time.time()\n",
    "    model.fit(trX,trY,epochs=100,batch_size=1,verbose=0)\n",
    "    print(\"model with \"+str(i+1)+\" layers trained\")\n",
    "    print()\n",
    "    lstmlayerstime.append(time.time()-t)\n",
    "    lstmlayerstrain.append(np.mean(model.loss(model.predict(np.reshape(scaler.inverse_transform(trX.reshape(trX.shape[0],).reshape(-1,1)),(trX.shape[0], 1, trX.shape[1]))),trY)))\n",
    "    lstmlayerstest.append(np.mean(model.loss(model.predict(np.reshape(scaler.inverse_transform(tstX.reshape(tstX.shape[0],).reshape(-1,1)),(tstX.shape[0], 1, tstX.shape[1]))),tstY)))\n",
    "    lstmlayersparams.append(model.count_params())"
   ]
  },
  {
   "cell_type": "code",
   "execution_count": 74,
   "metadata": {
    "ExecuteTime": {
     "end_time": "2020-11-12T06:38:56.009114Z",
     "start_time": "2020-11-12T06:38:55.971190Z"
    }
   },
   "outputs": [
    {
     "data": {
      "text/html": [
       "<div>\n",
       "<style scoped>\n",
       "    .dataframe tbody tr th:only-of-type {\n",
       "        vertical-align: middle;\n",
       "    }\n",
       "\n",
       "    .dataframe tbody tr th {\n",
       "        vertical-align: top;\n",
       "    }\n",
       "\n",
       "    .dataframe thead th {\n",
       "        text-align: right;\n",
       "    }\n",
       "</style>\n",
       "<table border=\"1\" class=\"dataframe\">\n",
       "  <thead>\n",
       "    <tr style=\"text-align: right;\">\n",
       "      <th></th>\n",
       "      <th>0</th>\n",
       "      <th>1</th>\n",
       "      <th>2</th>\n",
       "      <th>3</th>\n",
       "      <th>4</th>\n",
       "      <th>5</th>\n",
       "      <th>6</th>\n",
       "      <th>7</th>\n",
       "      <th>8</th>\n",
       "      <th>9</th>\n",
       "      <th>...</th>\n",
       "      <th>20</th>\n",
       "      <th>21</th>\n",
       "      <th>22</th>\n",
       "      <th>23</th>\n",
       "      <th>24</th>\n",
       "      <th>25</th>\n",
       "      <th>26</th>\n",
       "      <th>27</th>\n",
       "      <th>28</th>\n",
       "      <th>29</th>\n",
       "    </tr>\n",
       "  </thead>\n",
       "  <tbody>\n",
       "    <tr>\n",
       "      <th>Models</th>\n",
       "      <td>RNN with 1 nodes</td>\n",
       "      <td>RNN with 8 nodes</td>\n",
       "      <td>RNN with 16 nodes</td>\n",
       "      <td>RNN with 32 nodes</td>\n",
       "      <td>RNN with 64 nodes</td>\n",
       "      <td>RNN with 128 nodes</td>\n",
       "      <td>RNN with 1 layers</td>\n",
       "      <td>RNN with 2 layers</td>\n",
       "      <td>RNN with 3 layers</td>\n",
       "      <td>RNN with 4 layers</td>\n",
       "      <td>...</td>\n",
       "      <td>LSTM with 1 nodes</td>\n",
       "      <td>LSTM with 8 nodes</td>\n",
       "      <td>LSTM with 16 nodes</td>\n",
       "      <td>LSTM with 32 nodes</td>\n",
       "      <td>LSTM with 64 nodes</td>\n",
       "      <td>LSTM with 128 nodes</td>\n",
       "      <td>LSTM with 1 layers</td>\n",
       "      <td>LSTM with 2 layers</td>\n",
       "      <td>LSTM with 3 layers</td>\n",
       "      <td>LSTM with 4 layers</td>\n",
       "    </tr>\n",
       "    <tr>\n",
       "      <th>Training Mean Loss</th>\n",
       "      <td>0.837158</td>\n",
       "      <td>1.22159</td>\n",
       "      <td>3.16222</td>\n",
       "      <td>2.23366</td>\n",
       "      <td>4.05139</td>\n",
       "      <td>3.8282</td>\n",
       "      <td>0.202525</td>\n",
       "      <td>0.294618</td>\n",
       "      <td>0.917681</td>\n",
       "      <td>0.602736</td>\n",
       "      <td>...</td>\n",
       "      <td>0.998289</td>\n",
       "      <td>2.39813</td>\n",
       "      <td>3.22357</td>\n",
       "      <td>4.18659</td>\n",
       "      <td>4.03727</td>\n",
       "      <td>4.3079</td>\n",
       "      <td>0.294618</td>\n",
       "      <td>0.294618</td>\n",
       "      <td>0.661389</td>\n",
       "      <td>0.294618</td>\n",
       "    </tr>\n",
       "    <tr>\n",
       "      <th>Testing Mean Loss</th>\n",
       "      <td>0.460993</td>\n",
       "      <td>0.838571</td>\n",
       "      <td>2.77621</td>\n",
       "      <td>1.84775</td>\n",
       "      <td>3.67163</td>\n",
       "      <td>3.43338</td>\n",
       "      <td>0.304744</td>\n",
       "      <td>0.649436</td>\n",
       "      <td>0.538059</td>\n",
       "      <td>0.246979</td>\n",
       "      <td>...</td>\n",
       "      <td>0.617916</td>\n",
       "      <td>2.01231</td>\n",
       "      <td>2.82752</td>\n",
       "      <td>3.75767</td>\n",
       "      <td>3.69297</td>\n",
       "      <td>3.82147</td>\n",
       "      <td>0.649436</td>\n",
       "      <td>0.649436</td>\n",
       "      <td>0.296916</td>\n",
       "      <td>0.649436</td>\n",
       "    </tr>\n",
       "    <tr>\n",
       "      <th>Parameters</th>\n",
       "      <td>5</td>\n",
       "      <td>89</td>\n",
       "      <td>305</td>\n",
       "      <td>1121</td>\n",
       "      <td>4289</td>\n",
       "      <td>16769</td>\n",
       "      <td>305</td>\n",
       "      <td>833</td>\n",
       "      <td>1361</td>\n",
       "      <td>1889</td>\n",
       "      <td>...</td>\n",
       "      <td>14</td>\n",
       "      <td>329</td>\n",
       "      <td>1169</td>\n",
       "      <td>4385</td>\n",
       "      <td>16961</td>\n",
       "      <td>66689</td>\n",
       "      <td>1169</td>\n",
       "      <td>3281</td>\n",
       "      <td>5393</td>\n",
       "      <td>7505</td>\n",
       "    </tr>\n",
       "    <tr>\n",
       "      <th>Times</th>\n",
       "      <td>18.2118</td>\n",
       "      <td>17.9195</td>\n",
       "      <td>17.4498</td>\n",
       "      <td>17.6472</td>\n",
       "      <td>18.2953</td>\n",
       "      <td>18.3788</td>\n",
       "      <td>18.1319</td>\n",
       "      <td>29.9938</td>\n",
       "      <td>36.8758</td>\n",
       "      <td>48.0659</td>\n",
       "      <td>...</td>\n",
       "      <td>26.7103</td>\n",
       "      <td>26.4313</td>\n",
       "      <td>26.1491</td>\n",
       "      <td>28.5075</td>\n",
       "      <td>26.7108</td>\n",
       "      <td>28.124</td>\n",
       "      <td>27.2014</td>\n",
       "      <td>41.8619</td>\n",
       "      <td>58.6534</td>\n",
       "      <td>69.0927</td>\n",
       "    </tr>\n",
       "  </tbody>\n",
       "</table>\n",
       "<p>5 rows × 30 columns</p>\n",
       "</div>"
      ],
      "text/plain": [
       "                                  0                 1                  2   \\\n",
       "Models              RNN with 1 nodes  RNN with 8 nodes  RNN with 16 nodes   \n",
       "Training Mean Loss          0.837158           1.22159            3.16222   \n",
       "Testing Mean Loss           0.460993          0.838571            2.77621   \n",
       "Parameters                         5                89                305   \n",
       "Times                        18.2118           17.9195            17.4498   \n",
       "\n",
       "                                   3                  4                   5   \\\n",
       "Models              RNN with 32 nodes  RNN with 64 nodes  RNN with 128 nodes   \n",
       "Training Mean Loss            2.23366            4.05139              3.8282   \n",
       "Testing Mean Loss             1.84775            3.67163             3.43338   \n",
       "Parameters                       1121               4289               16769   \n",
       "Times                         17.6472            18.2953             18.3788   \n",
       "\n",
       "                                   6                  7                  8   \\\n",
       "Models              RNN with 1 layers  RNN with 2 layers  RNN with 3 layers   \n",
       "Training Mean Loss           0.202525           0.294618           0.917681   \n",
       "Testing Mean Loss            0.304744           0.649436           0.538059   \n",
       "Parameters                        305                833               1361   \n",
       "Times                         18.1319            29.9938            36.8758   \n",
       "\n",
       "                                   9   ...                 20  \\\n",
       "Models              RNN with 4 layers  ...  LSTM with 1 nodes   \n",
       "Training Mean Loss           0.602736  ...           0.998289   \n",
       "Testing Mean Loss            0.246979  ...           0.617916   \n",
       "Parameters                       1889  ...                 14   \n",
       "Times                         48.0659  ...            26.7103   \n",
       "\n",
       "                                   21                  22                  23  \\\n",
       "Models              LSTM with 8 nodes  LSTM with 16 nodes  LSTM with 32 nodes   \n",
       "Training Mean Loss            2.39813             3.22357             4.18659   \n",
       "Testing Mean Loss             2.01231             2.82752             3.75767   \n",
       "Parameters                        329                1169                4385   \n",
       "Times                         26.4313             26.1491             28.5075   \n",
       "\n",
       "                                    24                   25  \\\n",
       "Models              LSTM with 64 nodes  LSTM with 128 nodes   \n",
       "Training Mean Loss             4.03727               4.3079   \n",
       "Testing Mean Loss              3.69297              3.82147   \n",
       "Parameters                       16961                66689   \n",
       "Times                          26.7108               28.124   \n",
       "\n",
       "                                    26                  27  \\\n",
       "Models              LSTM with 1 layers  LSTM with 2 layers   \n",
       "Training Mean Loss            0.294618            0.294618   \n",
       "Testing Mean Loss             0.649436            0.649436   \n",
       "Parameters                        1169                3281   \n",
       "Times                          27.2014             41.8619   \n",
       "\n",
       "                                    28                  29  \n",
       "Models              LSTM with 3 layers  LSTM with 4 layers  \n",
       "Training Mean Loss            0.661389            0.294618  \n",
       "Testing Mean Loss             0.296916            0.649436  \n",
       "Parameters                        5393                7505  \n",
       "Times                          58.6534             69.0927  \n",
       "\n",
       "[5 rows x 30 columns]"
      ]
     },
     "execution_count": 74,
     "metadata": {},
     "output_type": "execute_result"
    }
   ],
   "source": [
    "results=pd.DataFrame({'Models':['RNN with '+str(i)+' nodes' for i in nodes]+['RNN with '+str(i+1)+' layers' for i in layers]\n",
    "                     +['GRU with '+str(i)+' nodes' for i in nodes]+['GRU with '+str(i+1)+' layers' for i in layers]\n",
    "                     +['LSTM with '+str(i)+' nodes' for i in nodes]+['LSTM with '+str(i+1)+' layers' for i in layers]\n",
    "                     ,'Training Mean Loss':rnnnodestrain+rnnlayerstrain+grunodestrain+grulayerstrain+lstmnodestrain+lstmlayerstrain\n",
    "                     ,'Testing Mean Loss':rnnnodestest+rnnlayerstest+grunodestest+grulayerstest+lstmnodestest+lstmlayerstest\n",
    "                     ,'Parameters':rnnnodesparams+rnnlayersparams+grunodesparams+grulayersparams+lstmnodesparams+lstmlayersparams\n",
    "                     ,'Times':rnnnodestime+rnnlayerstime+grunodestime+grulayerstime+lstmnodestime+lstmlayerstime})\n",
    "results.T"
   ]
  },
  {
   "cell_type": "code",
   "execution_count": 75,
   "metadata": {
    "ExecuteTime": {
     "end_time": "2020-11-12T06:39:00.172938Z",
     "start_time": "2020-11-12T06:38:58.985615Z"
    }
   },
   "outputs": [
    {
     "name": "stderr",
     "output_type": "stream",
     "text": [
      "C:\\ProgramData\\Anaconda3\\lib\\site-packages\\seaborn\\_decorators.py:36: FutureWarning: Pass the following variables as keyword args: x, y. From version 0.12, the only valid positional argument will be `data`, and passing other arguments without an explicit keyword will result in an error or misinterpretation.\n",
      "  warnings.warn(\n",
      "C:\\ProgramData\\Anaconda3\\lib\\site-packages\\seaborn\\_decorators.py:36: FutureWarning: Pass the following variables as keyword args: x, y. From version 0.12, the only valid positional argument will be `data`, and passing other arguments without an explicit keyword will result in an error or misinterpretation.\n",
      "  warnings.warn(\n",
      "C:\\ProgramData\\Anaconda3\\lib\\site-packages\\seaborn\\_decorators.py:36: FutureWarning: Pass the following variables as keyword args: x, y. From version 0.12, the only valid positional argument will be `data`, and passing other arguments without an explicit keyword will result in an error or misinterpretation.\n",
      "  warnings.warn(\n",
      "C:\\ProgramData\\Anaconda3\\lib\\site-packages\\seaborn\\_decorators.py:36: FutureWarning: Pass the following variables as keyword args: x, y. From version 0.12, the only valid positional argument will be `data`, and passing other arguments without an explicit keyword will result in an error or misinterpretation.\n",
      "  warnings.warn(\n"
     ]
    },
    {
     "data": {
      "text/plain": [
       "<AxesSubplot:ylabel='Training Mean Loss'>"
      ]
     },
     "execution_count": 75,
     "metadata": {},
     "output_type": "execute_result"
    },
    {
     "data": {
      "image/png": "[encoded data removed]",
      "text/plain": [
       "<Figure size 1440x864 with 4 Axes>"
      ]
     },
     "metadata": {},
     "output_type": "display_data"
    },
    {
     "data": {
      "text/plain": [
       "<Figure size 2880x360 with 0 Axes>"
      ]
     },
     "metadata": {},
     "output_type": "display_data"
    }
   ],
   "source": [
    "import matplotlib.pyplot as plt\n",
    "import seaborn as sns\n",
    "from textwrap import wrap\n",
    "plt.style.use('seaborn')\n",
    "fig,axes=plt.subplots(2,2,figsize=(20,12))\n",
    "plt.figure(figsize=(40,5))\n",
    "sns.barplot([ '\\n'.join(wrap(l, 10)) for l in results.iloc[0:7,0]],results.iloc[0:7,1],ax=axes[0][0])\n",
    "sns.barplot([ '\\n'.join(wrap(l, 10)) for l in results.iloc[7:14,0]],results.iloc[7:14,1],ax=axes[0][1])\n",
    "sns.barplot([ '\\n'.join(wrap(l, 10)) for l in results.iloc[14:21,0]],results.iloc[14:21,1],ax=axes[1][0])\n",
    "sns.barplot([ '\\n'.join(wrap(l, 10)) for l in results.iloc[21:,0]],results.iloc[21:,1],ax=axes[1][1])\n"
   ]
  },
  {
   "cell_type": "code",
   "execution_count": 76,
   "metadata": {
    "ExecuteTime": {
     "end_time": "2020-11-12T06:39:04.088568Z",
     "start_time": "2020-11-12T06:39:03.396556Z"
    }
   },
   "outputs": [
    {
     "name": "stderr",
     "output_type": "stream",
     "text": [
      "C:\\ProgramData\\Anaconda3\\lib\\site-packages\\seaborn\\_decorators.py:36: FutureWarning: Pass the following variables as keyword args: x, y. From version 0.12, the only valid positional argument will be `data`, and passing other arguments without an explicit keyword will result in an error or misinterpretation.\n",
      "  warnings.warn(\n",
      "C:\\ProgramData\\Anaconda3\\lib\\site-packages\\seaborn\\_decorators.py:36: FutureWarning: Pass the following variables as keyword args: x, y. From version 0.12, the only valid positional argument will be `data`, and passing other arguments without an explicit keyword will result in an error or misinterpretation.\n",
      "  warnings.warn(\n",
      "C:\\ProgramData\\Anaconda3\\lib\\site-packages\\seaborn\\_decorators.py:36: FutureWarning: Pass the following variables as keyword args: x, y. From version 0.12, the only valid positional argument will be `data`, and passing other arguments without an explicit keyword will result in an error or misinterpretation.\n",
      "  warnings.warn(\n",
      "C:\\ProgramData\\Anaconda3\\lib\\site-packages\\seaborn\\_decorators.py:36: FutureWarning: Pass the following variables as keyword args: x, y. From version 0.12, the only valid positional argument will be `data`, and passing other arguments without an explicit keyword will result in an error or misinterpretation.\n",
      "  warnings.warn(\n"
     ]
    },
    {
     "data": {
      "text/plain": [
       "<AxesSubplot:ylabel='Testing Mean Loss'>"
      ]
     },
     "execution_count": 76,
     "metadata": {},
     "output_type": "execute_result"
    },
    {
     "data": {
      "image/png": "[encoded data removed]",
      "text/plain": [
       "<Figure size 1440x864 with 4 Axes>"
      ]
     },
     "metadata": {},
     "output_type": "display_data"
    },
    {
     "data": {
      "text/plain": [
       "<Figure size 2880x360 with 0 Axes>"
      ]
     },
     "metadata": {},
     "output_type": "display_data"
    }
   ],
   "source": [
    "import matplotlib.pyplot as plt\n",
    "import seaborn as sns\n",
    "from textwrap import wrap\n",
    "plt.style.use('seaborn')\n",
    "fig,axes=plt.subplots(2,2,figsize=(20,12))\n",
    "plt.figure(figsize=(40,5))\n",
    "sns.barplot([ '\\n'.join(wrap(l, 10)) for l in results.iloc[0:7,0]],results.iloc[0:7,2],ax=axes[0][0])\n",
    "sns.barplot([ '\\n'.join(wrap(l, 10)) for l in results.iloc[7:14,0]],results.iloc[7:14,2],ax=axes[0][1])\n",
    "sns.barplot([ '\\n'.join(wrap(l, 10)) for l in results.iloc[14:21,0]],results.iloc[14:21,2],ax=axes[1][0])\n",
    "sns.barplot([ '\\n'.join(wrap(l, 10)) for l in results.iloc[21:,0]],results.iloc[21:,2],ax=axes[1][1])\n"
   ]
  },
  {
   "cell_type": "code",
   "execution_count": 77,
   "metadata": {
    "ExecuteTime": {
     "end_time": "2020-11-12T06:39:07.296060Z",
     "start_time": "2020-11-12T06:39:06.242899Z"
    }
   },
   "outputs": [
    {
     "name": "stderr",
     "output_type": "stream",
     "text": [
      "C:\\ProgramData\\Anaconda3\\lib\\site-packages\\seaborn\\_decorators.py:36: FutureWarning: Pass the following variables as keyword args: x, y. From version 0.12, the only valid positional argument will be `data`, and passing other arguments without an explicit keyword will result in an error or misinterpretation.\n",
      "  warnings.warn(\n",
      "C:\\ProgramData\\Anaconda3\\lib\\site-packages\\seaborn\\_decorators.py:36: FutureWarning: Pass the following variables as keyword args: x, y. From version 0.12, the only valid positional argument will be `data`, and passing other arguments without an explicit keyword will result in an error or misinterpretation.\n",
      "  warnings.warn(\n",
      "C:\\ProgramData\\Anaconda3\\lib\\site-packages\\seaborn\\_decorators.py:36: FutureWarning: Pass the following variables as keyword args: x, y. From version 0.12, the only valid positional argument will be `data`, and passing other arguments without an explicit keyword will result in an error or misinterpretation.\n",
      "  warnings.warn(\n",
      "C:\\ProgramData\\Anaconda3\\lib\\site-packages\\seaborn\\_decorators.py:36: FutureWarning: Pass the following variables as keyword args: x, y. From version 0.12, the only valid positional argument will be `data`, and passing other arguments without an explicit keyword will result in an error or misinterpretation.\n",
      "  warnings.warn(\n"
     ]
    },
    {
     "data": {
      "text/plain": [
       "<AxesSubplot:ylabel='Parameters'>"
      ]
     },
     "execution_count": 77,
     "metadata": {},
     "output_type": "execute_result"
    },
    {
     "data": {
      "image/png": "[encoded data removed]",
      "text/plain": [
       "<Figure size 1440x864 with 4 Axes>"
      ]
     },
     "metadata": {},
     "output_type": "display_data"
    },
    {
     "data": {
      "text/plain": [
       "<Figure size 2880x360 with 0 Axes>"
      ]
     },
     "metadata": {},
     "output_type": "display_data"
    }
   ],
   "source": [
    "import matplotlib.pyplot as plt\n",
    "import seaborn as sns\n",
    "from textwrap import wrap\n",
    "plt.style.use('seaborn')\n",
    "fig,axes=plt.subplots(2,2,figsize=(20,12))\n",
    "plt.figure(figsize=(40,5))\n",
    "sns.barplot([ '\\n'.join(wrap(l, 10)) for l in results.iloc[0:7,0]],results.iloc[0:7,3],ax=axes[0][0])\n",
    "sns.barplot([ '\\n'.join(wrap(l, 10)) for l in results.iloc[7:14,0]],results.iloc[7:14,3],ax=axes[0][1])\n",
    "sns.barplot([ '\\n'.join(wrap(l, 10)) for l in results.iloc[14:21,0]],results.iloc[14:21,3],ax=axes[1][0])\n",
    "sns.barplot([ '\\n'.join(wrap(l, 10)) for l in results.iloc[21:,0]],results.iloc[21:,3],ax=axes[1][1])\n"
   ]
  },
  {
   "cell_type": "code",
   "execution_count": 78,
   "metadata": {
    "ExecuteTime": {
     "end_time": "2020-11-12T06:39:09.446770Z",
     "start_time": "2020-11-12T06:39:08.777968Z"
    }
   },
   "outputs": [
    {
     "name": "stderr",
     "output_type": "stream",
     "text": [
      "C:\\ProgramData\\Anaconda3\\lib\\site-packages\\seaborn\\_decorators.py:36: FutureWarning: Pass the following variables as keyword args: x, y. From version 0.12, the only valid positional argument will be `data`, and passing other arguments without an explicit keyword will result in an error or misinterpretation.\n",
      "  warnings.warn(\n",
      "C:\\ProgramData\\Anaconda3\\lib\\site-packages\\seaborn\\_decorators.py:36: FutureWarning: Pass the following variables as keyword args: x, y. From version 0.12, the only valid positional argument will be `data`, and passing other arguments without an explicit keyword will result in an error or misinterpretation.\n",
      "  warnings.warn(\n",
      "C:\\ProgramData\\Anaconda3\\lib\\site-packages\\seaborn\\_decorators.py:36: FutureWarning: Pass the following variables as keyword args: x, y. From version 0.12, the only valid positional argument will be `data`, and passing other arguments without an explicit keyword will result in an error or misinterpretation.\n",
      "  warnings.warn(\n",
      "C:\\ProgramData\\Anaconda3\\lib\\site-packages\\seaborn\\_decorators.py:36: FutureWarning: Pass the following variables as keyword args: x, y. From version 0.12, the only valid positional argument will be `data`, and passing other arguments without an explicit keyword will result in an error or misinterpretation.\n",
      "  warnings.warn(\n"
     ]
    },
    {
     "data": {
      "text/plain": [
       "<AxesSubplot:ylabel='Times'>"
      ]
     },
     "execution_count": 78,
     "metadata": {},
     "output_type": "execute_result"
    },
    {
     "data": {
      "image/png": "[encoded data removed]",
      "text/plain": [
       "<Figure size 1440x864 with 4 Axes>"
      ]
     },
     "metadata": {},
     "output_type": "display_data"
    },
    {
     "data": {
      "text/plain": [
       "<Figure size 2880x360 with 0 Axes>"
      ]
     },
     "metadata": {},
     "output_type": "display_data"
    }
   ],
   "source": [
    "import matplotlib.pyplot as plt\n",
    "import seaborn as sns\n",
    "from textwrap import wrap\n",
    "plt.style.use('seaborn')\n",
    "fig,axes=plt.subplots(2,2,figsize=(20,12))\n",
    "plt.figure(figsize=(40,5))\n",
    "sns.barplot([ '\\n'.join(wrap(l, 10)) for l in results.iloc[0:7,0]],results.iloc[0:7,4],ax=axes[0][0])\n",
    "sns.barplot([ '\\n'.join(wrap(l, 10)) for l in results.iloc[7:14,0]],results.iloc[7:14,4],ax=axes[0][1])\n",
    "sns.barplot([ '\\n'.join(wrap(l, 10)) for l in results.iloc[14:21,0]],results.iloc[14:21,4],ax=axes[1][0])\n",
    "sns.barplot([ '\\n'.join(wrap(l, 10)) for l in results.iloc[21:,0]],results.iloc[21:,4],ax=axes[1][1])\n"
   ]
  },
  {
   "cell_type": "code",
   "execution_count": 79,
   "metadata": {
    "ExecuteTime": {
     "end_time": "2020-11-12T06:41:38.227257Z",
     "start_time": "2020-11-12T06:41:38.223244Z"
    }
   },
   "outputs": [],
   "source": [
    "#comment for git"
   ]
  },
  {
   "cell_type": "code",
   "execution_count": null,
   "metadata": {},
   "outputs": [],
   "source": []
  }
 ],
 "metadata": {
  "kernelspec": {
   "display_name": "Python 3",
   "language": "python",
   "name": "python3"
  },
  "language_info": {
   "codemirror_mode": {
    "name": "ipython",
    "version": 3
   },
   "file_extension": ".py",
   "mimetype": "text/x-python",
   "name": "python",
   "nbconvert_exporter": "python",
   "pygments_lexer": "ipython3",
   "version": "3.8.3"
  },
  "varInspector": {
   "cols": {
    "lenName": 16,
    "lenType": 16,
    "lenVar": 40
   },
   "kernels_config": {
    "python": {
     "delete_cmd_postfix": "",
     "delete_cmd_prefix": "del ",
     "library": "var_list.py",
     "varRefreshCmd": "print(var_dic_list())"
    },
    "r": {
     "delete_cmd_postfix": ") ",
     "delete_cmd_prefix": "rm(",
     "library": "var_list.r",
     "varRefreshCmd": "cat(var_dic_list()) "
    }
   },
   "types_to_exclude": [
    "module",
    "function",
    "builtin_function_or_method",
    "instance",
    "_Feature"
   ],
   "window_display": false
  }
 },
 "nbformat": 4,
 "nbformat_minor": 4
}
