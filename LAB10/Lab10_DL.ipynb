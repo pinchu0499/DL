{
 "cells": [
  {
   "cell_type": "code",
   "execution_count": 81,
   "metadata": {},
   "outputs": [],
   "source": [
    "import tensorflow as tf\n",
    "import keras\n",
    "import matplotlib.pyplot as plt\n",
    "from keras.datasets import mnist\n",
    "from keras.models import Sequential\n",
    "from keras.layers import  Dense, Dropout, LSTM,Flatten,SimpleRNN,GRU\n",
    "from keras.optimizers import Adam\n",
    "\n",
    "import seaborn as sns"
   ]
  },
  {
   "cell_type": "code",
   "execution_count": 19,
   "metadata": {},
   "outputs": [],
   "source": [
    "physical_devices = tf.config.list_physical_devices('GPU')\n",
    "tf.config.experimental.set_memory_growth(physical_devices[0], enable=True)"
   ]
  },
  {
   "cell_type": "code",
   "execution_count": 20,
   "metadata": {},
   "outputs": [],
   "source": [
    "#Importing the data\n",
    "(x_train, y_train),(x_test, y_test) = mnist.load_data()  # unpacks images to x_train/x_test and labels to y_train/y_test\n",
    "#Normalizing the data\n",
    "x_train = x_train.astype('float32') / 255.0\n",
    "x_test = x_test.astype('float32') / 255.0"
   ]
  },
  {
   "cell_type": "markdown",
   "metadata": {},
   "source": [
    "LSTM"
   ]
  },
  {
   "cell_type": "code",
   "execution_count": 21,
   "metadata": {},
   "outputs": [
    {
     "name": "stdout",
     "output_type": "stream",
     "text": [
      "Epoch 1/3\n",
      "1875/1875 [==============================] - 7s 4ms/step - loss: 0.3214 - accuracy: 0.9007 - val_loss: 0.1107 - val_accuracy: 0.9660\n",
      "Epoch 2/3\n",
      "1875/1875 [==============================] - 6s 3ms/step - loss: 0.1215 - accuracy: 0.9632 - val_loss: 0.0721 - val_accuracy: 0.9769\n",
      "Epoch 3/3\n",
      "1875/1875 [==============================] - 6s 3ms/step - loss: 0.0890 - accuracy: 0.9727 - val_loss: 0.0605 - val_accuracy: 0.9809\n",
      "1875/1875 [==============================] - 4s 2ms/step - loss: 0.0522 - accuracy: 0.9836\n",
      "313/313 [==============================] - 1s 2ms/step - loss: 0.0605 - accuracy: 0.9809\n"
     ]
    }
   ],
   "source": [
    "train_acc=[]\n",
    "test_acc=[]\n",
    "model=Sequential()\n",
    "#Adding the input LSTM network layer\n",
    "model.add(LSTM(32,input_shape=(x_train.shape[1:]),return_sequences=True))\n",
    "model.add(Dropout(0.2))\n",
    "model.add(Flatten())\n",
    "#Adding a dense hidden layer\n",
    "model.add(Dense(64,activation='relu'))\n",
    "model.add(Dropout(0.2))\n",
    "#Adding the output layer\n",
    "model.add(Dense(10, activation='softmax'))\n",
    "\n",
    "model.compile(loss='sparse_categorical_crossentropy', optimizer=Adam(lr=0.001, decay=1e-6), metrics=['accuracy'])\n",
    "\n",
    "model.fit(x_train,y_train,epochs=3,validation_data=(x_test, y_test))\n",
    "train_acc.append(model.evaluate(x_train,y_train)[1])\n",
    "test_acc.append(model.evaluate(x_test,y_test)[1])"
   ]
  },
  {
   "cell_type": "markdown",
   "metadata": {},
   "source": [
    "#change with different number of layers"
   ]
  },
  {
   "cell_type": "code",
   "execution_count": 57,
   "metadata": {},
   "outputs": [
    {
     "name": "stdout",
     "output_type": "stream",
     "text": [
      "Epoch 1/3\n",
      "1875/1875 [==============================] - 7s 4ms/step - loss: 0.3077 - accuracy: 0.9041 - val_loss: 0.1164 - val_accuracy: 0.9649\n",
      "Epoch 2/3\n",
      "1875/1875 [==============================] - 7s 4ms/step - loss: 0.1113 - accuracy: 0.9665 - val_loss: 0.0782 - val_accuracy: 0.9745\n",
      "Epoch 3/3\n",
      "1875/1875 [==============================] - 7s 4ms/step - loss: 0.0820 - accuracy: 0.9752 - val_loss: 0.0564 - val_accuracy: 0.9804\n",
      "1875/1875 [==============================] - 4s 2ms/step - loss: 0.0502 - accuracy: 0.9843\n",
      "313/313 [==============================] - 1s 2ms/step - loss: 0.0564 - accuracy: 0.9804\n",
      "Epoch 1/3\n",
      "1875/1875 [==============================] - 7s 4ms/step - loss: 0.3094 - accuracy: 0.9052 - val_loss: 0.1011 - val_accuracy: 0.9692\n",
      "Epoch 2/3\n",
      "1875/1875 [==============================] - 7s 4ms/step - loss: 0.1134 - accuracy: 0.9662 - val_loss: 0.0734 - val_accuracy: 0.9771\n",
      "Epoch 3/3\n",
      "1875/1875 [==============================] - 7s 4ms/step - loss: 0.0820 - accuracy: 0.9758 - val_loss: 0.0681 - val_accuracy: 0.9786\n",
      "1875/1875 [==============================] - 5s 3ms/step - loss: 0.0487 - accuracy: 0.9847\n",
      "313/313 [==============================] - 1s 3ms/step - loss: 0.0681 - accuracy: 0.9786\n",
      "Epoch 1/3\n",
      "1875/1875 [==============================] - 8s 4ms/step - loss: 0.3201 - accuracy: 0.9014 - val_loss: 0.1125 - val_accuracy: 0.9657\n",
      "Epoch 2/3\n",
      "1875/1875 [==============================] - 7s 4ms/step - loss: 0.1225 - accuracy: 0.9646 - val_loss: 0.0873 - val_accuracy: 0.9718\n",
      "Epoch 3/3\n",
      "1875/1875 [==============================] - 7s 4ms/step - loss: 0.0887 - accuracy: 0.9730 - val_loss: 0.0685 - val_accuracy: 0.9760\n",
      "1875/1875 [==============================] - 4s 2ms/step - loss: 0.0537 - accuracy: 0.9831\n",
      "313/313 [==============================] - 1s 2ms/step - loss: 0.0685 - accuracy: 0.9760\n",
      "Epoch 1/3\n",
      "1875/1875 [==============================] - 8s 4ms/step - loss: 0.3399 - accuracy: 0.8936 - val_loss: 0.1266 - val_accuracy: 0.9612\n",
      "Epoch 2/3\n",
      "1875/1875 [==============================] - 7s 4ms/step - loss: 0.1235 - accuracy: 0.9641 - val_loss: 0.0872 - val_accuracy: 0.9744\n",
      "Epoch 3/3\n",
      "1875/1875 [==============================] - 7s 4ms/step - loss: 0.0887 - accuracy: 0.9736 - val_loss: 0.0737 - val_accuracy: 0.9773\n",
      "1875/1875 [==============================] - 4s 2ms/step - loss: 0.0588 - accuracy: 0.9822\n",
      "313/313 [==============================] - 1s 2ms/step - loss: 0.0737 - accuracy: 0.9773\n"
     ]
    }
   ],
   "source": [
    "train_acc=[]\n",
    "test_acc=[]\n",
    "for i in range(1,5):\n",
    "    model=Sequential()\n",
    "    #Adding the input LSTM network layer\n",
    "    model.add(LSTM(32,input_shape=(x_train.shape[1:]),return_sequences=True))\n",
    "    model.add(Dropout(0.2))\n",
    "    model.add(Flatten())\n",
    "    #Adding a dense hidden layer\n",
    "\n",
    "    for j in range(i):\n",
    "        model.add(Dense(64,activation='relu'))\n",
    "    model.add(Dropout(0.2))\n",
    "    #Adding the output layer\n",
    "    model.add(Dense(10, activation='softmax'))\n",
    "\n",
    "    model.compile(loss='sparse_categorical_crossentropy', optimizer=Adam(lr=0.001, decay=1e-6), metrics=['accuracy'])\n",
    "\n",
    "    model.fit(x_train,y_train,epochs=3,validation_data=(x_test, y_test))\n",
    "    train_acc.append(model.evaluate(x_train,y_train)[1])\n",
    "    test_acc.append(model.evaluate(x_test,y_test)[1])"
   ]
  },
  {
   "cell_type": "code",
   "execution_count": 58,
   "metadata": {},
   "outputs": [
    {
     "data": {
      "image/png": "[encoded data removed]",
      "text/plain": [
       "<Figure size 432x288 with 1 Axes>"
      ]
     },
     "metadata": {},
     "output_type": "display_data"
    }
   ],
   "source": [
    "#plot for training accuracy\n",
    "layers=[1,2,3,4]\n",
    "sns.barplot(layers,train_acc)\n",
    "plt.xlabel('Number of layers')\n",
    "plt.ylabel('Train Accuracy')\n",
    "plt.style.use(['dark_background'])\n",
    "plt.ylim(0.97,1.0)\n",
    "\n",
    "plt.show()"
   ]
  },
  {
   "cell_type": "code",
   "execution_count": 59,
   "metadata": {},
   "outputs": [
    {
     "data": {
      "image/png": "[encoded data removed]",
      "text/plain": [
       "<Figure size 432x288 with 1 Axes>"
      ]
     },
     "metadata": {},
     "output_type": "display_data"
    }
   ],
   "source": [
    "#plot for testing accuracies\n",
    "sns.barplot(layers,test_acc)\n",
    "\n",
    "plt.xlabel('Number of layers').set_color('white')\n",
    "plt.ylabel('Testing Accuracy').set_color('white')\n",
    "plt.style.use(['dark_background'])\n",
    "plt.ylim(0.97,1.0)\n",
    "\n",
    "plt.show()"
   ]
  },
  {
   "cell_type": "markdown",
   "metadata": {},
   "source": [
    "Change with different number of nodes"
   ]
  },
  {
   "cell_type": "code",
   "execution_count": 46,
   "metadata": {},
   "outputs": [
    {
     "name": "stdout",
     "output_type": "stream",
     "text": [
      "Epoch 1/3\n",
      "1875/1875 [==============================] - 7s 4ms/step - loss: 0.6921 - accuracy: 0.7777 - val_loss: 0.2669 - val_accuracy: 0.9231\n",
      "Epoch 2/3\n",
      "1875/1875 [==============================] - 7s 4ms/step - loss: 0.3332 - accuracy: 0.8974 - val_loss: 0.1876 - val_accuracy: 0.9432\n",
      "Epoch 3/3\n",
      "1875/1875 [==============================] - 7s 4ms/step - loss: 0.2737 - accuracy: 0.9151 - val_loss: 0.1568 - val_accuracy: 0.9525\n",
      "1875/1875 [==============================] - 4s 2ms/step - loss: 0.1612 - accuracy: 0.9501\n",
      "313/313 [==============================] - 1s 2ms/step - loss: 0.1568 - accuracy: 0.9525\n",
      "Epoch 1/3\n",
      "1875/1875 [==============================] - 7s 4ms/step - loss: 0.3150 - accuracy: 0.9029 - val_loss: 0.1056 - val_accuracy: 0.9667\n",
      "Epoch 2/3\n",
      "1875/1875 [==============================] - 7s 4ms/step - loss: 0.1218 - accuracy: 0.9630 - val_loss: 0.0794 - val_accuracy: 0.9753\n",
      "Epoch 3/3\n",
      "1875/1875 [==============================] - 7s 4ms/step - loss: 0.0904 - accuracy: 0.9724 - val_loss: 0.0572 - val_accuracy: 0.9805\n",
      "1875/1875 [==============================] - 4s 2ms/step - loss: 0.0544 - accuracy: 0.9829\n",
      "313/313 [==============================] - 1s 2ms/step - loss: 0.0572 - accuracy: 0.9805\n",
      "Epoch 1/3\n",
      "1875/1875 [==============================] - 7s 4ms/step - loss: 0.2691 - accuracy: 0.9183 - val_loss: 0.0923 - val_accuracy: 0.9683\n",
      "Epoch 2/3\n",
      "1875/1875 [==============================] - 7s 4ms/step - loss: 0.0989 - accuracy: 0.9696 - val_loss: 0.0584 - val_accuracy: 0.9811\n",
      "Epoch 3/3\n",
      "1875/1875 [==============================] - 7s 4ms/step - loss: 0.0695 - accuracy: 0.9788 - val_loss: 0.0510 - val_accuracy: 0.9833\n",
      "1875/1875 [==============================] - 5s 2ms/step - loss: 0.0398 - accuracy: 0.9879\n",
      "313/313 [==============================] - 1s 2ms/step - loss: 0.0510 - accuracy: 0.9833\n",
      "Epoch 1/3\n",
      "1875/1875 [==============================] - 9s 5ms/step - loss: 0.2381 - accuracy: 0.9269 - val_loss: 0.0755 - val_accuracy: 0.9748\n",
      "Epoch 2/3\n",
      "1875/1875 [==============================] - 8s 4ms/step - loss: 0.0866 - accuracy: 0.9740 - val_loss: 0.0511 - val_accuracy: 0.9828\n",
      "Epoch 3/3\n",
      "1875/1875 [==============================] - 9s 5ms/step - loss: 0.0638 - accuracy: 0.9812 - val_loss: 0.0506 - val_accuracy: 0.9847\n",
      "1875/1875 [==============================] - 5s 2ms/step - loss: 0.0363 - accuracy: 0.9890\n",
      "313/313 [==============================] - 1s 2ms/step - loss: 0.0506 - accuracy: 0.9847\n",
      "Epoch 1/3\n",
      "1875/1875 [==============================] - 13s 7ms/step - loss: 0.2192 - accuracy: 0.9329 - val_loss: 0.0747 - val_accuracy: 0.9737\n",
      "Epoch 2/3\n",
      "1875/1875 [==============================] - 13s 7ms/step - loss: 0.0814 - accuracy: 0.9760 - val_loss: 0.0492 - val_accuracy: 0.9846\n",
      "Epoch 3/3\n",
      "1875/1875 [==============================] - 13s 7ms/step - loss: 0.0593 - accuracy: 0.9821 - val_loss: 0.0530 - val_accuracy: 0.9814\n",
      "1875/1875 [==============================] - 6s 3ms/step - loss: 0.0426 - accuracy: 0.9858\n",
      "313/313 [==============================] - 1s 3ms/step - loss: 0.0530 - accuracy: 0.9814\n"
     ]
    }
   ],
   "source": [
    "\n",
    "train_acc=[]\n",
    "test_acc=[]\n",
    "#Adding the input LSTM network layer\n",
    "\n",
    "for i in [4,32,64,128,512]:\n",
    "    model=Sequential()\n",
    "    model.add(LSTM(i,input_shape=(x_train.shape[1:]),return_sequences=True))\n",
    "    model.add(Dropout(0.2))\n",
    "    model.add(Flatten())\n",
    "    #Adding a dense hidden layer\n",
    "    model.add(Dense(64,activation='relu'))\n",
    "    model.add(Dropout(0.2))\n",
    "    #Adding the output layer\n",
    "    model.add(Dense(10, activation='softmax'))\n",
    "\n",
    "    model.compile(loss='sparse_categorical_crossentropy', optimizer=Adam(lr=0.001, decay=1e-6), metrics=['accuracy'])\n",
    "\n",
    "    model.fit(x_train,y_train,epochs=3,validation_data=(x_test, y_test))\n",
    "    train_acc.append(model.evaluate(x_train,y_train)[1])\n",
    "    test_acc.append(model.evaluate(x_test,y_test)[1])"
   ]
  },
  {
   "cell_type": "code",
   "execution_count": 55,
   "metadata": {},
   "outputs": [
    {
     "data": {
      "image/png": "[encoded data removed]",
      "text/plain": [
       "<Figure size 432x288 with 1 Axes>"
      ]
     },
     "metadata": {},
     "output_type": "display_data"
    }
   ],
   "source": [
    "#plot for training accuraccy\n",
    "nodes=[4,32,64,128,512]\n",
    "sns.barplot(nodes,train_acc)\n",
    "plt.xlabel('Number of Nodes')\n",
    "plt.ylabel('Train Accuracy')\n",
    "plt.style.use(['dark_background'])\n",
    "plt.ylim(0.9,1.0)\n",
    "\n",
    "plt.show()"
   ]
  },
  {
   "cell_type": "code",
   "execution_count": 56,
   "metadata": {},
   "outputs": [
    {
     "data": {
      "image/png": "[encoded data removed]",
      "text/plain": [
       "<Figure size 432x288 with 1 Axes>"
      ]
     },
     "metadata": {},
     "output_type": "display_data"
    }
   ],
   "source": [
    "#plot for testing accuracies\n",
    "sns.barplot([4,32,64,128,512],test_acc)\n",
    "\n",
    "plt.xlabel('Number of Nodes')\n",
    "plt.ylabel('Testing Accuracy')\n",
    "plt.style.use(['dark_background'])\n",
    "plt.ylim(0.9,1.0)\n",
    "\n",
    "plt.show()"
   ]
  },
  {
   "cell_type": "raw",
   "metadata": {},
   "source": [
    "Simple RNN"
   ]
  },
  {
   "cell_type": "markdown",
   "metadata": {},
   "source": [
    "Change with different number of layers"
   ]
  },
  {
   "cell_type": "code",
   "execution_count": 65,
   "metadata": {},
   "outputs": [
    {
     "name": "stdout",
     "output_type": "stream",
     "text": [
      "Epoch 1/3\n",
      "1875/1875 [==============================] - 17s 9ms/step - loss: 0.3306 - accuracy: 0.8967 - val_loss: 0.1415 - val_accuracy: 0.9547\n",
      "Epoch 2/3\n",
      "1875/1875 [==============================] - 17s 9ms/step - loss: 0.1676 - accuracy: 0.9484 - val_loss: 0.0978 - val_accuracy: 0.9674\n",
      "Epoch 3/3\n",
      "1875/1875 [==============================] - 17s 9ms/step - loss: 0.1378 - accuracy: 0.9580 - val_loss: 0.0792 - val_accuracy: 0.9752\n",
      "1875/1875 [==============================] - 5s 3ms/step - loss: 0.0693 - accuracy: 0.9798\n",
      "313/313 [==============================] - 1s 3ms/step - loss: 0.0792 - accuracy: 0.9752\n",
      "Epoch 1/3\n",
      "1875/1875 [==============================] - 17s 9ms/step - loss: 0.3045 - accuracy: 0.9053 - val_loss: 0.1294 - val_accuracy: 0.9579\n",
      "Epoch 2/3\n",
      "1875/1875 [==============================] - 17s 9ms/step - loss: 0.1406 - accuracy: 0.9580 - val_loss: 0.0895 - val_accuracy: 0.9723\n",
      "Epoch 3/3\n",
      "1875/1875 [==============================] - 18s 9ms/step - loss: 0.1109 - accuracy: 0.9667 - val_loss: 0.0894 - val_accuracy: 0.9716\n",
      "1875/1875 [==============================] - 5s 3ms/step - loss: 0.0722 - accuracy: 0.9769\n",
      "313/313 [==============================] - 1s 3ms/step - loss: 0.0894 - accuracy: 0.9716\n",
      "Epoch 1/3\n",
      "1875/1875 [==============================] - 18s 9ms/step - loss: 0.3204 - accuracy: 0.9005 - val_loss: 0.1438 - val_accuracy: 0.9543\n",
      "Epoch 2/3\n",
      "1875/1875 [==============================] - 17s 9ms/step - loss: 0.1401 - accuracy: 0.9583 - val_loss: 0.0900 - val_accuracy: 0.9720\n",
      "Epoch 3/3\n",
      "1875/1875 [==============================] - 17s 9ms/step - loss: 0.1137 - accuracy: 0.9654 - val_loss: 0.1241 - val_accuracy: 0.9623\n",
      "1875/1875 [==============================] - 5s 3ms/step - loss: 0.0952 - accuracy: 0.9691\n",
      "313/313 [==============================] - 1s 3ms/step - loss: 0.1241 - accuracy: 0.9623\n",
      "Epoch 1/3\n",
      "1875/1875 [==============================] - 19s 10ms/step - loss: 0.3170 - accuracy: 0.9023 - val_loss: 0.1341 - val_accuracy: 0.9584\n",
      "Epoch 2/3\n",
      "1875/1875 [==============================] - 17s 9ms/step - loss: 0.1454 - accuracy: 0.9575 - val_loss: 0.1130 - val_accuracy: 0.9669\n",
      "Epoch 3/3\n",
      "1875/1875 [==============================] - 17s 9ms/step - loss: 0.1134 - accuracy: 0.9659 - val_loss: 0.0912 - val_accuracy: 0.9718\n",
      "1875/1875 [==============================] - 5s 3ms/step - loss: 0.0707 - accuracy: 0.9783\n",
      "313/313 [==============================] - 1s 3ms/step - loss: 0.0912 - accuracy: 0.9718\n"
     ]
    }
   ],
   "source": [
    "train_acc=[]\n",
    "test_acc=[]\n",
    "for i in range(1,5):\n",
    "    model=Sequential()\n",
    "    #Adding the input RNN network layer\n",
    "    model.add(SimpleRNN(32,input_shape=(x_train.shape[1:]),return_sequences=True))\n",
    "    model.add(Dropout(0.2))\n",
    "    model.add(Flatten())\n",
    "    #Adding a dense hidden layer\n",
    "\n",
    "    for j in range(i):\n",
    "        model.add(Dense(64,activation='relu'))\n",
    "    model.add(Dropout(0.2))\n",
    "    #Adding the output layer\n",
    "    model.add(Dense(10, activation='softmax'))\n",
    "\n",
    "    model.compile(loss='sparse_categorical_crossentropy', optimizer=Adam(lr=0.001, decay=1e-6), metrics=['accuracy'])\n",
    "\n",
    "    model.fit(x_train,y_train,epochs=3,validation_data=(x_test, y_test))\n",
    "    train_acc.append(model.evaluate(x_train,y_train)[1])\n",
    "    test_acc.append(model.evaluate(x_test,y_test)[1])"
   ]
  },
  {
   "cell_type": "code",
   "execution_count": 71,
   "metadata": {},
   "outputs": [
    {
     "data": {
      "image/png": "[encoded data removed]",
      "text/plain": [
       "<Figure size 432x288 with 1 Axes>"
      ]
     },
     "metadata": {},
     "output_type": "display_data"
    },
    {
     "data": {
      "text/plain": [
       "[0.9798166751861572,\n",
       " 0.9768833518028259,\n",
       " 0.9690999984741211,\n",
       " 0.9783333539962769]"
      ]
     },
     "execution_count": 71,
     "metadata": {},
     "output_type": "execute_result"
    }
   ],
   "source": [
    "#plot for training accuraccy\n",
    "layers=[1,2,3,4]\n",
    "sns.barplot(layers,train_acc)\n",
    "plt.xlabel('Number of Layers')\n",
    "plt.ylabel('Train Accuracy')\n",
    "plt.style.use(['dark_background'])\n",
    "plt.ylim(0.95,1.0)\n",
    "\n",
    "plt.show()\n"
   ]
  },
  {
   "cell_type": "code",
   "execution_count": 74,
   "metadata": {},
   "outputs": [
    {
     "data": {
      "image/png": "[encoded data removed]",
      "text/plain": [
       "<Figure size 432x288 with 1 Axes>"
      ]
     },
     "metadata": {},
     "output_type": "display_data"
    }
   ],
   "source": [
    "#plot for testing accuracies\n",
    "layers=[1,2,3,4]\n",
    "\n",
    "sns.barplot(layers,test_acc)\n",
    "\n",
    "plt.xlabel('Number of Layers')\n",
    "plt.ylabel('Testing Accuracy')\n",
    "plt.style.use(['dark_background'])\n",
    "plt.ylim(0.95,1.0)\n",
    "\n",
    "plt.show()"
   ]
  },
  {
   "cell_type": "code",
   "execution_count": null,
   "metadata": {},
   "outputs": [],
   "source": []
  },
  {
   "cell_type": "code",
   "execution_count": null,
   "metadata": {},
   "outputs": [],
   "source": []
  },
  {
   "cell_type": "markdown",
   "metadata": {},
   "source": [
    "For different number of nodes"
   ]
  },
  {
   "cell_type": "code",
   "execution_count": 75,
   "metadata": {},
   "outputs": [
    {
     "name": "stdout",
     "output_type": "stream",
     "text": [
      "Epoch 1/3\n",
      "1875/1875 [==============================] - 18s 10ms/step - loss: 0.6893 - accuracy: 0.7770 - val_loss: 0.2723 - val_accuracy: 0.9193\n",
      "Epoch 2/3\n",
      "1875/1875 [==============================] - 18s 10ms/step - loss: 0.3513 - accuracy: 0.8901 - val_loss: 0.1930 - val_accuracy: 0.9406\n",
      "Epoch 3/3\n",
      "1875/1875 [==============================] - 17s 9ms/step - loss: 0.2915 - accuracy: 0.9089 - val_loss: 0.1601 - val_accuracy: 0.9538\n",
      "1875/1875 [==============================] - 5s 3ms/step - loss: 0.1650 - accuracy: 0.9497\n",
      "313/313 [==============================] - 1s 3ms/step - loss: 0.1601 - accuracy: 0.9538\n",
      "Epoch 1/3\n",
      "1875/1875 [==============================] - 18s 9ms/step - loss: 0.3190 - accuracy: 0.9000 - val_loss: 0.1282 - val_accuracy: 0.9564\n",
      "Epoch 2/3\n",
      "1875/1875 [==============================] - 18s 9ms/step - loss: 0.1684 - accuracy: 0.9480 - val_loss: 0.1053 - val_accuracy: 0.9667\n",
      "Epoch 3/3\n",
      "1875/1875 [==============================] - 18s 10ms/step - loss: 0.1392 - accuracy: 0.9576 - val_loss: 0.0947 - val_accuracy: 0.9699\n",
      "1875/1875 [==============================] - 5s 3ms/step - loss: 0.0816 - accuracy: 0.9740\n",
      "313/313 [==============================] - 1s 3ms/step - loss: 0.0947 - accuracy: 0.9699\n",
      "Epoch 1/3\n",
      "1875/1875 [==============================] - 17s 9ms/step - loss: 0.2749 - accuracy: 0.9168 - val_loss: 0.1004 - val_accuracy: 0.9668\n",
      "Epoch 2/3\n",
      "1875/1875 [==============================] - 19s 10ms/step - loss: 0.1470 - accuracy: 0.9566 - val_loss: 0.0930 - val_accuracy: 0.9703\n",
      "Epoch 3/3\n",
      "1875/1875 [==============================] - 19s 10ms/step - loss: 0.1198 - accuracy: 0.9645 - val_loss: 0.0833 - val_accuracy: 0.9750\n",
      "1875/1875 [==============================] - 6s 3ms/step - loss: 0.0703 - accuracy: 0.9787\n",
      "313/313 [==============================] - 1s 3ms/step - loss: 0.0833 - accuracy: 0.9750\n",
      "Epoch 1/3\n",
      "1875/1875 [==============================] - 19s 10ms/step - loss: 0.2741 - accuracy: 0.9172 - val_loss: 0.1226 - val_accuracy: 0.9635\n",
      "Epoch 2/3\n",
      "1875/1875 [==============================] - 19s 10ms/step - loss: 0.1581 - accuracy: 0.9529 - val_loss: 0.0941 - val_accuracy: 0.9722\n",
      "Epoch 3/3\n",
      "1875/1875 [==============================] - 18s 10ms/step - loss: 0.1271 - accuracy: 0.9622 - val_loss: 0.0992 - val_accuracy: 0.9720\n",
      "1875/1875 [==============================] - 6s 3ms/step - loss: 0.0745 - accuracy: 0.9775\n",
      "313/313 [==============================] - 1s 4ms/step - loss: 0.0992 - accuracy: 0.9720\n",
      "Epoch 1/3\n",
      "1875/1875 [==============================] - 21s 11ms/step - loss: 0.4719 - accuracy: 0.8608 - val_loss: 0.2924 - val_accuracy: 0.9096\n",
      "Epoch 2/3\n",
      "1875/1875 [==============================] - 21s 11ms/step - loss: 0.3368 - accuracy: 0.9029 - val_loss: 0.2082 - val_accuracy: 0.9419\n",
      "Epoch 3/3\n",
      "1875/1875 [==============================] - 21s 11ms/step - loss: 0.2645 - accuracy: 0.9245 - val_loss: 0.2095 - val_accuracy: 0.9355\n",
      "1875/1875 [==============================] - 7s 4ms/step - loss: 0.2087 - accuracy: 0.9334\n",
      "313/313 [==============================] - 1s 4ms/step - loss: 0.2095 - accuracy: 0.9355\n"
     ]
    }
   ],
   "source": [
    "\n",
    "train_acc=[]\n",
    "test_acc=[]\n",
    "#Adding the input RNN network layer\n",
    "\n",
    "for i in [4,32,64,128,512]:\n",
    "    model=Sequential()\n",
    "    model.add(SimpleRNN(i,input_shape=(x_train.shape[1:]),return_sequences=True))\n",
    "    model.add(Dropout(0.2))\n",
    "    model.add(Flatten())\n",
    "    #Adding a dense hidden layer\n",
    "    model.add(Dense(64,activation='relu'))\n",
    "    model.add(Dropout(0.2))\n",
    "    #Adding the output layer\n",
    "    model.add(Dense(10, activation='softmax'))\n",
    "\n",
    "    model.compile(loss='sparse_categorical_crossentropy', optimizer=Adam(lr=0.001, decay=1e-6), metrics=['accuracy'])\n",
    "\n",
    "    model.fit(x_train,y_train,epochs=3,validation_data=(x_test, y_test))\n",
    "    train_acc.append(model.evaluate(x_train,y_train)[1])\n",
    "    test_acc.append(model.evaluate(x_test,y_test)[1])"
   ]
  },
  {
   "cell_type": "code",
   "execution_count": 78,
   "metadata": {},
   "outputs": [
    {
     "data": {
      "image/png": "[encoded data removed]",
      "text/plain": [
       "<Figure size 432x288 with 1 Axes>"
      ]
     },
     "metadata": {},
     "output_type": "display_data"
    }
   ],
   "source": [
    "#plot for training accuraccy\n",
    "nodes=[4,32,64,128,512]\n",
    "sns.barplot(nodes,train_acc)\n",
    "plt.xlabel('Number of nodes')\n",
    "plt.ylabel('Train Accuracy')\n",
    "plt.style.use(['dark_background'])\n",
    "plt.ylim(0.9,1.0)\n",
    "\n",
    "plt.show()\n"
   ]
  },
  {
   "cell_type": "code",
   "execution_count": 79,
   "metadata": {},
   "outputs": [
    {
     "data": {
      "image/png": "[encoded data removed]",
      "text/plain": [
       "<Figure size 432x288 with 1 Axes>"
      ]
     },
     "metadata": {},
     "output_type": "display_data"
    }
   ],
   "source": [
    "#plot for testing accuracies\n",
    "nodes=[4,32,64,128,512]\n",
    "\n",
    "sns.barplot(nodes,test_acc)\n",
    "\n",
    "plt.xlabel('Number of Nodes')\n",
    "plt.ylabel('Testing Accuracy')\n",
    "plt.style.use(['dark_background'])\n",
    "plt.ylim(0.9,1.0)\n",
    "\n",
    "plt.show()"
   ]
  },
  {
   "cell_type": "markdown",
   "metadata": {},
   "source": [
    "Change with different Number of layers"
   ]
  },
  {
   "cell_type": "code",
   "execution_count": 82,
   "metadata": {},
   "outputs": [
    {
     "name": "stdout",
     "output_type": "stream",
     "text": [
      "Epoch 1/3\n",
      "1875/1875 [==============================] - 7s 4ms/step - loss: 0.3165 - accuracy: 0.9027 - val_loss: 0.1082 - val_accuracy: 0.9668\n",
      "Epoch 2/3\n",
      "1875/1875 [==============================] - 6s 3ms/step - loss: 0.1294 - accuracy: 0.9609 - val_loss: 0.0753 - val_accuracy: 0.9760\n",
      "Epoch 3/3\n",
      "1875/1875 [==============================] - 6s 3ms/step - loss: 0.0968 - accuracy: 0.9714 - val_loss: 0.0594 - val_accuracy: 0.9797\n",
      "1875/1875 [==============================] - 4s 2ms/step - loss: 0.0505 - accuracy: 0.9844\n",
      "313/313 [==============================] - 1s 2ms/step - loss: 0.0594 - accuracy: 0.9797\n",
      "Epoch 1/3\n",
      "1875/1875 [==============================] - 7s 4ms/step - loss: 0.3036 - accuracy: 0.9082 - val_loss: 0.0998 - val_accuracy: 0.9667\n",
      "Epoch 2/3\n",
      "1875/1875 [==============================] - 6s 3ms/step - loss: 0.1133 - accuracy: 0.9654 - val_loss: 0.0801 - val_accuracy: 0.9757\n",
      "Epoch 3/3\n",
      "1875/1875 [==============================] - 6s 3ms/step - loss: 0.0824 - accuracy: 0.9758 - val_loss: 0.0605 - val_accuracy: 0.9815\n",
      "1875/1875 [==============================] - 4s 2ms/step - loss: 0.0500 - accuracy: 0.9844\n",
      "313/313 [==============================] - 1s 2ms/step - loss: 0.0605 - accuracy: 0.9815\n",
      "Epoch 1/3\n",
      "1875/1875 [==============================] - 7s 4ms/step - loss: 0.3000 - accuracy: 0.9068 - val_loss: 0.1036 - val_accuracy: 0.9674\n",
      "Epoch 2/3\n",
      "1875/1875 [==============================] - 6s 3ms/step - loss: 0.1159 - accuracy: 0.9658 - val_loss: 0.0794 - val_accuracy: 0.9738\n",
      "Epoch 3/3\n",
      "1875/1875 [==============================] - 6s 3ms/step - loss: 0.0847 - accuracy: 0.9747 - val_loss: 0.0632 - val_accuracy: 0.9808\n",
      "1875/1875 [==============================] - 4s 2ms/step - loss: 0.0551 - accuracy: 0.9827\n",
      "313/313 [==============================] - 1s 3ms/step - loss: 0.0632 - accuracy: 0.9808\n",
      "Epoch 1/3\n",
      "1875/1875 [==============================] - 7s 4ms/step - loss: 0.3214 - accuracy: 0.9011 - val_loss: 0.1429 - val_accuracy: 0.9568\n",
      "Epoch 2/3\n",
      "1875/1875 [==============================] - 8s 4ms/step - loss: 0.1202 - accuracy: 0.9645 - val_loss: 0.0905 - val_accuracy: 0.9705\n",
      "Epoch 3/3\n",
      "1875/1875 [==============================] - 7s 4ms/step - loss: 0.0868 - accuracy: 0.9747 - val_loss: 0.0713 - val_accuracy: 0.9770\n",
      "1875/1875 [==============================] - 4s 2ms/step - loss: 0.0526 - accuracy: 0.9837\n",
      "313/313 [==============================] - 1s 2ms/step - loss: 0.0713 - accuracy: 0.9770\n"
     ]
    }
   ],
   "source": [
    "train_acc=[]\n",
    "test_acc=[]\n",
    "for i in range(1,5):\n",
    "    model=Sequential()\n",
    "    #Adding the input GRU network layer\n",
    "    model.add(GRU(32,input_shape=(x_train.shape[1:]),return_sequences=True))\n",
    "    model.add(Dropout(0.2))\n",
    "    model.add(Flatten())\n",
    "    #Adding a dense hidden layer\n",
    "\n",
    "    for j in range(i):\n",
    "        model.add(Dense(64,activation='relu'))\n",
    "    model.add(Dropout(0.2))\n",
    "    #Adding the output layer\n",
    "    model.add(Dense(10, activation='softmax'))\n",
    "\n",
    "    model.compile(loss='sparse_categorical_crossentropy', optimizer=Adam(lr=0.001, decay=1e-6), metrics=['accuracy'])\n",
    "\n",
    "    model.fit(x_train,y_train,epochs=3,validation_data=(x_test, y_test))\n",
    "    train_acc.append(model.evaluate(x_train,y_train)[1])\n",
    "    test_acc.append(model.evaluate(x_test,y_test)[1])"
   ]
  },
  {
   "cell_type": "code",
   "execution_count": 85,
   "metadata": {},
   "outputs": [
    {
     "data": {
      "image/png": "[encoded data removed]",
      "text/plain": [
       "<Figure size 432x288 with 1 Axes>"
      ]
     },
     "metadata": {},
     "output_type": "display_data"
    }
   ],
   "source": [
    "#plot for testing accuracies\n",
    "sns.barplot(layers,test_acc)\n",
    "\n",
    "plt.xlabel('Number of layers').set_color('white')\n",
    "plt.ylabel('Testing Accuracy').set_color('white')\n",
    "plt.style.use(['dark_background'])\n",
    "plt.ylim(0.95,1.0)\n",
    "\n",
    "plt.show()"
   ]
  },
  {
   "cell_type": "code",
   "execution_count": 86,
   "metadata": {},
   "outputs": [
    {
     "data": {
      "image/png": "[encoded data removed]",
      "text/plain": [
       "<Figure size 432x288 with 1 Axes>"
      ]
     },
     "metadata": {},
     "output_type": "display_data"
    }
   ],
   "source": [
    "#plot for testing accuracies\n",
    "layers=[1,2,3,4]\n",
    "\n",
    "sns.barplot(layers,test_acc)\n",
    "\n",
    "plt.xlabel('Number of Layers')\n",
    "plt.ylabel('Testing Accuracy')\n",
    "plt.style.use(['dark_background'])\n",
    "plt.ylim(0.95,1.0)\n",
    "\n",
    "plt.show()"
   ]
  },
  {
   "cell_type": "markdown",
   "metadata": {},
   "source": [
    "For different number of nodes"
   ]
  },
  {
   "cell_type": "code",
   "execution_count": 87,
   "metadata": {},
   "outputs": [
    {
     "name": "stdout",
     "output_type": "stream",
     "text": [
      "Epoch 1/3\n",
      "1875/1875 [==============================] - 7s 4ms/step - loss: 0.5993 - accuracy: 0.8119 - val_loss: 0.2347 - val_accuracy: 0.9293\n",
      "Epoch 2/3\n",
      "1875/1875 [==============================] - 6s 3ms/step - loss: 0.3065 - accuracy: 0.9046 - val_loss: 0.1693 - val_accuracy: 0.9474\n",
      "Epoch 3/3\n",
      "1875/1875 [==============================] - 7s 4ms/step - loss: 0.2567 - accuracy: 0.9220 - val_loss: 0.1404 - val_accuracy: 0.9579\n",
      "1875/1875 [==============================] - 5s 2ms/step - loss: 0.1466 - accuracy: 0.9564\n",
      "313/313 [==============================] - 1s 3ms/step - loss: 0.1404 - accuracy: 0.9579\n",
      "Epoch 1/3\n",
      "1875/1875 [==============================] - 7s 4ms/step - loss: 0.3170 - accuracy: 0.9047 - val_loss: 0.1110 - val_accuracy: 0.9636\n",
      "Epoch 2/3\n",
      "1875/1875 [==============================] - 7s 4ms/step - loss: 0.1289 - accuracy: 0.9612 - val_loss: 0.0699 - val_accuracy: 0.9774\n",
      "Epoch 3/3\n",
      "1875/1875 [==============================] - 6s 3ms/step - loss: 0.0904 - accuracy: 0.9724 - val_loss: 0.0539 - val_accuracy: 0.9824\n",
      "1875/1875 [==============================] - 4s 2ms/step - loss: 0.0462 - accuracy: 0.9854\n",
      "313/313 [==============================] - 1s 2ms/step - loss: 0.0539 - accuracy: 0.9824\n",
      "Epoch 1/3\n",
      "1875/1875 [==============================] - 7s 4ms/step - loss: 0.2577 - accuracy: 0.9218 - val_loss: 0.0913 - val_accuracy: 0.9715\n",
      "Epoch 2/3\n",
      "1875/1875 [==============================] - 6s 3ms/step - loss: 0.1006 - accuracy: 0.9703 - val_loss: 0.0628 - val_accuracy: 0.9786\n",
      "Epoch 3/3\n",
      "1875/1875 [==============================] - 6s 3ms/step - loss: 0.0727 - accuracy: 0.9781 - val_loss: 0.0416 - val_accuracy: 0.9857\n",
      "1875/1875 [==============================] - 4s 2ms/step - loss: 0.0364 - accuracy: 0.9886\n",
      "313/313 [==============================] - 1s 2ms/step - loss: 0.0416 - accuracy: 0.9857\n",
      "Epoch 1/3\n",
      "1875/1875 [==============================] - 7s 4ms/step - loss: 0.2327 - accuracy: 0.9302 - val_loss: 0.0666 - val_accuracy: 0.9796\n",
      "Epoch 2/3\n",
      "1875/1875 [==============================] - 7s 4ms/step - loss: 0.0888 - accuracy: 0.9733 - val_loss: 0.0532 - val_accuracy: 0.9838\n",
      "Epoch 3/3\n",
      "1875/1875 [==============================] - 7s 4ms/step - loss: 0.0641 - accuracy: 0.9818 - val_loss: 0.0492 - val_accuracy: 0.9841\n",
      "1875/1875 [==============================] - 4s 2ms/step - loss: 0.0319 - accuracy: 0.9897\n",
      "313/313 [==============================] - 1s 2ms/step - loss: 0.0492 - accuracy: 0.9841\n",
      "Epoch 1/3\n",
      "1875/1875 [==============================] - 13s 7ms/step - loss: 0.2033 - accuracy: 0.9383 - val_loss: 0.0701 - val_accuracy: 0.9779\n",
      "Epoch 2/3\n",
      "1875/1875 [==============================] - 12s 7ms/step - loss: 0.0846 - accuracy: 0.9759 - val_loss: 0.0712 - val_accuracy: 0.9786\n",
      "Epoch 3/3\n",
      "1875/1875 [==============================] - 12s 7ms/step - loss: 0.0635 - accuracy: 0.9814 - val_loss: 0.0467 - val_accuracy: 0.9880\n",
      "1875/1875 [==============================] - 6s 3ms/step - loss: 0.0305 - accuracy: 0.9911\n",
      "313/313 [==============================] - 1s 3ms/step - loss: 0.0467 - accuracy: 0.9880\n"
     ]
    }
   ],
   "source": [
    "\n",
    "train_acc=[]\n",
    "test_acc=[]\n",
    "#Adding the input GRU network layer\n",
    "\n",
    "for i in [4,32,64,128,512]:\n",
    "    model=Sequential()\n",
    "    model.add(GRU(i,input_shape=(x_train.shape[1:]),return_sequences=True))\n",
    "    model.add(Dropout(0.2))\n",
    "    model.add(Flatten())\n",
    "    #Adding a dense hidden layer\n",
    "    model.add(Dense(64,activation='relu'))\n",
    "    model.add(Dropout(0.2))\n",
    "    #Adding the output layer\n",
    "    model.add(Dense(10, activation='softmax'))\n",
    "\n",
    "    model.compile(loss='sparse_categorical_crossentropy', optimizer=Adam(lr=0.001, decay=1e-6), metrics=['accuracy'])\n",
    "\n",
    "    model.fit(x_train,y_train,epochs=3,validation_data=(x_test, y_test))\n",
    "    train_acc.append(model.evaluate(x_train,y_train)[1])\n",
    "    test_acc.append(model.evaluate(x_test,y_test)[1])"
   ]
  },
  {
   "cell_type": "code",
   "execution_count": 90,
   "metadata": {},
   "outputs": [
    {
     "data": {
      "image/png": "[encoded data removed]",
      "text/plain": [
       "<Figure size 432x288 with 1 Axes>"
      ]
     },
     "metadata": {},
     "output_type": "display_data"
    }
   ],
   "source": [
    "#plot for testing accuracies\n",
    "nodes=[4,32,64,128,512]\n",
    "\n",
    "sns.barplot(nodes,test_acc)\n",
    "\n",
    "plt.xlabel('Number of Nodes')\n",
    "plt.ylabel('Testing Accuracy')\n",
    "plt.style.use(['dark_background'])\n",
    "plt.ylim(0.9,1.0)\n",
    "\n",
    "plt.show()"
   ]
  },
  {
   "cell_type": "code",
   "execution_count": 91,
   "metadata": {},
   "outputs": [
    {
     "data": {
      "image/png": "[encoded data removed]",
      "text/plain": [
       "<Figure size 432x288 with 1 Axes>"
      ]
     },
     "metadata": {},
     "output_type": "display_data"
    }
   ],
   "source": [
    "#plot for training accuraccy\n",
    "nodes=[4,32,64,128,512]\n",
    "sns.barplot(nodes,train_acc)\n",
    "plt.xlabel('Number of nodes')\n",
    "plt.ylabel('Train Accuracy')\n",
    "plt.style.use(['dark_background'])\n",
    "plt.ylim(0.9,1.0)\n",
    "\n",
    "plt.show()"
   ]
  },
  {
   "cell_type": "code",
   "execution_count": null,
   "metadata": {},
   "outputs": [],
   "source": []
  },
  {
   "cell_type": "code",
   "execution_count": null,
   "metadata": {},
   "outputs": [],
   "source": []
  },
  {
   "cell_type": "markdown",
   "metadata": {},
   "source": [
    "Comparison of LSTM,GRU and SimpleRNN\n"
   ]
  },
  {
   "cell_type": "code",
   "execution_count": 92,
   "metadata": {},
   "outputs": [],
   "source": [
    "test_acc=[]\n",
    "train_acc=[]\n",
    "test_loss=[]\n",
    "train_loss=[]\n"
   ]
  },
  {
   "cell_type": "markdown",
   "metadata": {},
   "source": [
    "SimpleRNN"
   ]
  },
  {
   "cell_type": "code",
   "execution_count": 93,
   "metadata": {},
   "outputs": [
    {
     "name": "stdout",
     "output_type": "stream",
     "text": [
      "Epoch 1/10\n",
      "1875/1875 [==============================] - 19s 10ms/step - loss: 0.3322 - accuracy: 0.8970 - val_loss: 0.1313 - val_accuracy: 0.9600\n",
      "Epoch 2/10\n",
      "1875/1875 [==============================] - 18s 10ms/step - loss: 0.1645 - accuracy: 0.9506 - val_loss: 0.0999 - val_accuracy: 0.9687\n",
      "Epoch 3/10\n",
      "1875/1875 [==============================] - 18s 10ms/step - loss: 0.1302 - accuracy: 0.9618 - val_loss: 0.0822 - val_accuracy: 0.9753\n",
      "Epoch 4/10\n",
      "1875/1875 [==============================] - 18s 10ms/step - loss: 0.1155 - accuracy: 0.9651 - val_loss: 0.0746 - val_accuracy: 0.9763\n",
      "Epoch 5/10\n",
      "1875/1875 [==============================] - 18s 10ms/step - loss: 0.1016 - accuracy: 0.9689 - val_loss: 0.0616 - val_accuracy: 0.9806\n",
      "Epoch 6/10\n",
      "1875/1875 [==============================] - 18s 9ms/step - loss: 0.0944 - accuracy: 0.9704 - val_loss: 0.0718 - val_accuracy: 0.9777\n",
      "Epoch 7/10\n",
      "1875/1875 [==============================] - 18s 10ms/step - loss: 0.0882 - accuracy: 0.9726 - val_loss: 0.0699 - val_accuracy: 0.9807\n",
      "Epoch 8/10\n",
      "1875/1875 [==============================] - 17s 9ms/step - loss: 0.0846 - accuracy: 0.9735 - val_loss: 0.0677 - val_accuracy: 0.9802\n",
      "Epoch 9/10\n",
      "1875/1875 [==============================] - 19s 10ms/step - loss: 0.0809 - accuracy: 0.9743 - val_loss: 0.0686 - val_accuracy: 0.9799\n",
      "Epoch 10/10\n",
      "1875/1875 [==============================] - 17s 9ms/step - loss: 0.0757 - accuracy: 0.9762 - val_loss: 0.0717 - val_accuracy: 0.9792\n",
      "1875/1875 [==============================] - 5s 3ms/step - loss: 0.0379 - accuracy: 0.9880\n",
      "313/313 [==============================] - 1s 3ms/step - loss: 0.0717 - accuracy: 0.9792\n",
      "313/313 [==============================] - 1s 3ms/step - loss: 0.0717 - accuracy: 0.9792\n",
      "1875/1875 [==============================] - 5s 3ms/step - loss: 0.0379 - accuracy: 0.9880\n"
     ]
    }
   ],
   "source": [
    "model=Sequential()\n",
    "model.add(SimpleRNN(32,input_shape=(x_train.shape[1:]),return_sequences=True))\n",
    "model.add(Dropout(0.2))\n",
    "model.add(Flatten())\n",
    "#Adding a dense hidden layer\n",
    "model.add(Dense(64,activation='relu'))\n",
    "model.add(Dropout(0.2))\n",
    "#Adding the output layer\n",
    "model.add(Dense(10, activation='softmax'))\n",
    "\n",
    "model.compile(loss='sparse_categorical_crossentropy', optimizer=Adam(lr=0.001, decay=1e-6), metrics=['accuracy'])\n",
    "\n",
    "model.fit(x_train,y_train,epochs=10,validation_data=(x_test, y_test))\n",
    "train_acc.append(model.evaluate(x_train,y_train)[1])\n",
    "test_acc.append(model.evaluate(x_test,y_test)[1])\n",
    "test_loss.append(model.evaluate(x_test,y_test)[0])\n",
    "train_loss.append(model.evaluate(x_train,y_train)[0])"
   ]
  },
  {
   "cell_type": "markdown",
   "metadata": {},
   "source": [
    "GRU"
   ]
  },
  {
   "cell_type": "code",
   "execution_count": 94,
   "metadata": {},
   "outputs": [
    {
     "name": "stdout",
     "output_type": "stream",
     "text": [
      "Epoch 1/10\n",
      "1875/1875 [==============================] - 7s 3ms/step - loss: 0.2957 - accuracy: 0.9097 - val_loss: 0.0946 - val_accuracy: 0.9683\n",
      "Epoch 2/10\n",
      "1875/1875 [==============================] - 6s 3ms/step - loss: 0.1183 - accuracy: 0.9643 - val_loss: 0.0643 - val_accuracy: 0.9796\n",
      "Epoch 3/10\n",
      "1875/1875 [==============================] - 6s 3ms/step - loss: 0.0861 - accuracy: 0.9735 - val_loss: 0.0494 - val_accuracy: 0.9838\n",
      "Epoch 4/10\n",
      "1875/1875 [==============================] - 6s 3ms/step - loss: 0.0702 - accuracy: 0.9782 - val_loss: 0.0569 - val_accuracy: 0.9828\n",
      "Epoch 5/10\n",
      "1875/1875 [==============================] - 6s 3ms/step - loss: 0.0649 - accuracy: 0.9799 - val_loss: 0.0442 - val_accuracy: 0.9862\n",
      "Epoch 6/10\n",
      "1875/1875 [==============================] - 6s 3ms/step - loss: 0.0551 - accuracy: 0.9826 - val_loss: 0.0437 - val_accuracy: 0.9862\n",
      "Epoch 7/10\n",
      "1875/1875 [==============================] - 6s 3ms/step - loss: 0.0504 - accuracy: 0.9846 - val_loss: 0.0420 - val_accuracy: 0.9875\n",
      "Epoch 8/10\n",
      "1875/1875 [==============================] - 6s 3ms/step - loss: 0.0455 - accuracy: 0.9853 - val_loss: 0.0439 - val_accuracy: 0.9865\n",
      "Epoch 9/10\n",
      "1875/1875 [==============================] - 6s 3ms/step - loss: 0.0415 - accuracy: 0.9868 - val_loss: 0.0430 - val_accuracy: 0.9880\n",
      "Epoch 10/10\n",
      "1875/1875 [==============================] - 6s 3ms/step - loss: 0.0386 - accuracy: 0.9880 - val_loss: 0.0384 - val_accuracy: 0.9890\n",
      "1875/1875 [==============================] - 4s 2ms/step - loss: 0.0162 - accuracy: 0.9948\n",
      "313/313 [==============================] - 1s 2ms/step - loss: 0.0384 - accuracy: 0.9890\n",
      "313/313 [==============================] - 1s 2ms/step - loss: 0.0384 - accuracy: 0.9890\n",
      "1875/1875 [==============================] - 4s 2ms/step - loss: 0.0162 - accuracy: 0.9948\n"
     ]
    }
   ],
   "source": [
    "model=Sequential()\n",
    "model.add(GRU(32,input_shape=(x_train.shape[1:]),return_sequences=True))\n",
    "model.add(Dropout(0.2))\n",
    "model.add(Flatten())\n",
    "#Adding a dense hidden layer\n",
    "model.add(Dense(64,activation='relu'))\n",
    "model.add(Dropout(0.2))\n",
    "#Adding the output layer\n",
    "model.add(Dense(10, activation='softmax'))\n",
    "\n",
    "model.compile(loss='sparse_categorical_crossentropy', optimizer=Adam(lr=0.001, decay=1e-6), metrics=['accuracy'])\n",
    "\n",
    "model.fit(x_train,y_train,epochs=10,validation_data=(x_test, y_test))\n",
    "train_acc.append(model.evaluate(x_train,y_train)[1])\n",
    "test_acc.append(model.evaluate(x_test,y_test)[1])\n",
    "test_loss.append(model.evaluate(x_test,y_test)[0])\n",
    "train_loss.append(model.evaluate(x_train,y_train)[0])"
   ]
  },
  {
   "cell_type": "markdown",
   "metadata": {},
   "source": [
    "LSTM"
   ]
  },
  {
   "cell_type": "code",
   "execution_count": 95,
   "metadata": {},
   "outputs": [
    {
     "name": "stdout",
     "output_type": "stream",
     "text": [
      "Epoch 1/10\n",
      "1875/1875 [==============================] - 7s 4ms/step - loss: 0.3071 - accuracy: 0.9042 - val_loss: 0.0962 - val_accuracy: 0.9689\n",
      "Epoch 2/10\n",
      "1875/1875 [==============================] - 7s 4ms/step - loss: 0.1163 - accuracy: 0.9654 - val_loss: 0.0681 - val_accuracy: 0.9775\n",
      "Epoch 3/10\n",
      "1875/1875 [==============================] - 6s 3ms/step - loss: 0.0831 - accuracy: 0.9746 - val_loss: 0.0554 - val_accuracy: 0.9822\n",
      "Epoch 4/10\n",
      "1875/1875 [==============================] - 7s 3ms/step - loss: 0.0695 - accuracy: 0.9784 - val_loss: 0.0442 - val_accuracy: 0.9845\n",
      "Epoch 5/10\n",
      "1875/1875 [==============================] - 7s 4ms/step - loss: 0.0586 - accuracy: 0.9824 - val_loss: 0.0447 - val_accuracy: 0.9848\n",
      "Epoch 6/10\n",
      "1875/1875 [==============================] - 7s 4ms/step - loss: 0.0510 - accuracy: 0.9840 - val_loss: 0.0451 - val_accuracy: 0.9863\n",
      "Epoch 7/10\n",
      "1875/1875 [==============================] - 8s 4ms/step - loss: 0.0483 - accuracy: 0.9853 - val_loss: 0.0381 - val_accuracy: 0.9872\n",
      "Epoch 8/10\n",
      "1875/1875 [==============================] - 7s 4ms/step - loss: 0.0427 - accuracy: 0.9865 - val_loss: 0.0375 - val_accuracy: 0.9873\n",
      "Epoch 9/10\n",
      "1875/1875 [==============================] - 7s 4ms/step - loss: 0.0399 - accuracy: 0.9875 - val_loss: 0.0406 - val_accuracy: 0.9872\n",
      "Epoch 10/10\n",
      "1875/1875 [==============================] - 7s 4ms/step - loss: 0.0366 - accuracy: 0.9882 - val_loss: 0.0394 - val_accuracy: 0.9881\n",
      "1875/1875 [==============================] - 4s 2ms/step - loss: 0.0162 - accuracy: 0.9949\n",
      "313/313 [==============================] - 1s 2ms/step - loss: 0.0394 - accuracy: 0.9881\n",
      "313/313 [==============================] - 1s 2ms/step - loss: 0.0394 - accuracy: 0.9881\n",
      "1875/1875 [==============================] - 5s 3ms/step - loss: 0.0162 - accuracy: 0.9949\n"
     ]
    }
   ],
   "source": [
    "model=Sequential()\n",
    "model.add(LSTM(32,input_shape=(x_train.shape[1:]),return_sequences=True))\n",
    "model.add(Dropout(0.2))\n",
    "model.add(Flatten())\n",
    "#Adding a dense hidden layer\n",
    "model.add(Dense(64,activation='relu'))\n",
    "model.add(Dropout(0.2))\n",
    "#Adding the output layer\n",
    "model.add(Dense(10, activation='softmax'))\n",
    "\n",
    "model.compile(loss='sparse_categorical_crossentropy', optimizer=Adam(lr=0.001, decay=1e-6), metrics=['accuracy'])\n",
    "\n",
    "model.fit(x_train,y_train,epochs=10,validation_data=(x_test, y_test))\n",
    "train_acc.append(model.evaluate(x_train,y_train)[1])\n",
    "test_acc.append(model.evaluate(x_test,y_test)[1])\n",
    "test_loss.append(model.evaluate(x_test,y_test)[0])\n",
    "train_loss.append(model.evaluate(x_train,y_train)[0])"
   ]
  },
  {
   "cell_type": "code",
   "execution_count": 102,
   "metadata": {},
   "outputs": [
    {
     "data": {
      "image/png": "[encoded data removed]",
      "text/plain": [
       "<Figure size 432x288 with 1 Axes>"
      ]
     },
     "metadata": {},
     "output_type": "display_data"
    }
   ],
   "source": [
    "#plot for testing accuracies\n",
    "models=['SimpleRNN','GRU','LSTM']\n",
    "sns.barplot(models,test_acc)\n",
    "\n",
    "plt.xlabel('Model')\n",
    "plt.ylabel('Testing Accuracy')\n",
    "plt.style.use(['dark_background'])\n",
    "plt.ylim(0.95,1.0)\n",
    "\n",
    "plt.show()"
   ]
  },
  {
   "cell_type": "code",
   "execution_count": 103,
   "metadata": {},
   "outputs": [
    {
     "data": {
      "image/png": "[encoded data removed]",
      "text/plain": [
       "<Figure size 432x288 with 1 Axes>"
      ]
     },
     "metadata": {},
     "output_type": "display_data"
    }
   ],
   "source": [
    "#plot for training accuracies\n",
    "models=['SimpleRNN','GRU','LSTM']\n",
    "sns.barplot(models,train_acc)\n",
    "\n",
    "plt.xlabel('Model')\n",
    "plt.ylabel('Training Accuracy')\n",
    "plt.style.use(['dark_background'])\n",
    "plt.ylim(0.95,1.0)\n",
    "\n",
    "plt.show()"
   ]
  },
  {
   "cell_type": "code",
   "execution_count": 104,
   "metadata": {},
   "outputs": [
    {
     "data": {
      "image/png": "[encoded data removed]",
      "text/plain": [
       "<Figure size 432x288 with 1 Axes>"
      ]
     },
     "metadata": {},
     "output_type": "display_data"
    }
   ],
   "source": [
    "#plot for testing Loss\n",
    "models=['SimpleRNN','GRU','LSTM']\n",
    "sns.barplot(models,test_loss)\n",
    "\n",
    "plt.xlabel('Model')\n",
    "plt.ylabel('Testing Loss')\n",
    "plt.style.use(['dark_background'])\n",
    "plt.ylim(0,0.1)\n",
    "\n",
    "plt.show()"
   ]
  },
  {
   "cell_type": "code",
   "execution_count": 108,
   "metadata": {},
   "outputs": [
    {
     "data": {
      "image/png": "[encoded data removed]",
      "text/plain": [
       "<Figure size 432x288 with 1 Axes>"
      ]
     },
     "metadata": {},
     "output_type": "display_data"
    }
   ],
   "source": [
    "#plot for testing Loss\n",
    "models=['SimpleRNN','GRU','LSTM']\n",
    "sns.barplot(models,train_loss)\n",
    "\n",
    "plt.xlabel('Model')\n",
    "plt.ylabel('Training Accuracy')\n",
    "plt.style.use(['dark_background'])\n",
    "plt.ylim(0,0.05)\n",
    "\n",
    "plt.show()"
   ]
  },
  {
   "cell_type": "code",
   "execution_count": null,
   "metadata": {},
   "outputs": [],
   "source": []
  }
 ],
 "metadata": {
  "kernelspec": {
   "display_name": "Python 3",
   "language": "python",
   "name": "python3"
  },
  "language_info": {
   "codemirror_mode": {
    "name": "ipython",
    "version": 3
   },
   "file_extension": ".py",
   "mimetype": "text/x-python",
   "name": "python",
   "nbconvert_exporter": "python",
   "pygments_lexer": "ipython3",
   "version": "3.8.3"
  }
 },
 "nbformat": 4,
 "nbformat_minor": 4
}
