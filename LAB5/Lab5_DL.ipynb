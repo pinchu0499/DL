{
 "cells": [
  {
   "cell_type": "code",
   "execution_count": null,
   "metadata": {},
   "outputs": [],
   "source": [
    "import tensorflow as tf\n"
   ]
  },
  {
   "cell_type": "code",
   "execution_count": 2,
   "metadata": {},
   "outputs": [],
   "source": [
    "mnist =tf.keras.datasets.mnist\n",
    "(x_train,y_train),(x_test,y_test)=mnist.load_data()"
   ]
  },
  {
   "cell_type": "code",
   "execution_count": 16,
   "metadata": {},
   "outputs": [
    {
     "data": {
      "text/plain": [
       "<matplotlib.image.AxesImage at 0x1b24da82160>"
      ]
     },
     "execution_count": 16,
     "metadata": {},
     "output_type": "execute_result"
    },
    {
     "data": {
      "image/png": "[encoded data removed]",
      "text/plain": [
       "<Figure size 432x288 with 1 Axes>"
      ]
     },
     "metadata": {
      "needs_background": "light"
     },
     "output_type": "display_data"
    }
   ],
   "source": [
    "import matplotlib.pyplot as plt\n",
    "plt.imshow(x_train[0])"
   ]
  },
  {
   "cell_type": "code",
   "execution_count": 17,
   "metadata": {},
   "outputs": [
    {
     "data": {
      "text/plain": [
       "<matplotlib.image.AxesImage at 0x1b24db19160>"
      ]
     },
     "execution_count": 17,
     "metadata": {},
     "output_type": "execute_result"
    },
    {
     "data": {
      "image/png": "[encoded data removed]",
      "text/plain": [
       "<Figure size 432x288 with 1 Axes>"
      ]
     },
     "metadata": {
      "needs_background": "light"
     },
     "output_type": "display_data"
    }
   ],
   "source": [
    "plt.imshow(x_train[5])"
   ]
  },
  {
   "cell_type": "code",
   "execution_count": 19,
   "metadata": {},
   "outputs": [],
   "source": [
    "#normalise\n",
    "x_train=tf.keras.utils.normalize(x_train,axis=1)\n",
    "x_test=tf.keras.utils.normalize(x_test,axis=1)"
   ]
  },
  {
   "cell_type": "code",
   "execution_count": 20,
   "metadata": {},
   "outputs": [
    {
     "name": "stdout",
     "output_type": "stream",
     "text": [
      "[[0.         0.         0.         0.         0.         0.\n",
      "  0.         0.         0.         0.         0.         0.\n",
      "  0.         0.         0.         0.         0.         0.\n",
      "  0.         0.         0.         0.         0.         0.\n",
      "  0.         0.         0.         0.        ]\n",
      " [0.         0.         0.         0.         0.         0.\n",
      "  0.         0.         0.         0.         0.         0.\n",
      "  0.         0.         0.         0.         0.         0.\n",
      "  0.         0.         0.         0.         0.         0.\n",
      "  0.         0.         0.         0.        ]\n",
      " [0.         0.         0.         0.         0.         0.\n",
      "  0.         0.         0.         0.         0.         0.\n",
      "  0.         0.         0.         0.         0.         0.\n",
      "  0.         0.         0.         0.         0.         0.\n",
      "  0.         0.         0.         0.        ]\n",
      " [0.         0.         0.         0.         0.         0.\n",
      "  0.         0.         0.         0.         0.         0.\n",
      "  0.         0.         0.         0.         0.         0.\n",
      "  0.         0.         0.         0.         0.         0.\n",
      "  0.         0.         0.         0.        ]\n",
      " [0.         0.         0.         0.         0.         0.\n",
      "  0.         0.         0.         0.         0.         0.\n",
      "  0.         0.         0.         0.         0.         0.\n",
      "  0.         0.         0.         0.         0.         0.\n",
      "  0.         0.         0.         0.        ]\n",
      " [0.         0.         0.         0.         0.         0.\n",
      "  0.         0.         0.         0.         0.         0.\n",
      "  0.00393124 0.02332955 0.02620568 0.02625207 0.17420356 0.17566281\n",
      "  0.28629534 0.05664824 0.51877786 0.71632322 0.77892406 0.89301644\n",
      "  0.         0.         0.         0.        ]\n",
      " [0.         0.         0.         0.         0.         0.\n",
      "  0.         0.         0.05780486 0.06524513 0.16128198 0.22713296\n",
      "  0.22277047 0.32790981 0.36833534 0.3689874  0.34978968 0.32678448\n",
      "  0.368094   0.3747499  0.79066747 0.67980478 0.61494005 0.45002403\n",
      "  0.         0.         0.         0.        ]\n",
      " [0.         0.         0.         0.         0.         0.\n",
      "  0.         0.12250613 0.45858525 0.45852825 0.43408872 0.37314701\n",
      "  0.33153488 0.32790981 0.36833534 0.3689874  0.34978968 0.32420121\n",
      "  0.15214552 0.17865984 0.25626376 0.1573102  0.12298801 0.\n",
      "  0.         0.         0.         0.        ]\n",
      " [0.         0.         0.         0.         0.         0.\n",
      "  0.         0.04500225 0.4219755  0.45852825 0.43408872 0.37314701\n",
      "  0.33153488 0.32790981 0.28826244 0.26543758 0.34149427 0.31128482\n",
      "  0.         0.         0.         0.         0.         0.\n",
      "  0.         0.         0.         0.        ]\n",
      " [0.         0.         0.         0.         0.         0.\n",
      "  0.         0.         0.1541463  0.28272888 0.18358693 0.37314701\n",
      "  0.33153488 0.26569767 0.01601458 0.         0.05945042 0.19891229\n",
      "  0.         0.         0.         0.         0.         0.\n",
      "  0.         0.         0.         0.        ]\n",
      " [0.         0.         0.         0.         0.         0.\n",
      "  0.         0.         0.         0.0253731  0.00171577 0.22713296\n",
      "  0.33153488 0.11664776 0.         0.         0.         0.\n",
      "  0.         0.         0.         0.         0.         0.\n",
      "  0.         0.         0.         0.        ]\n",
      " [0.         0.         0.         0.         0.         0.\n",
      "  0.         0.         0.         0.         0.         0.20500962\n",
      "  0.33153488 0.24625638 0.00291174 0.         0.         0.\n",
      "  0.         0.         0.         0.         0.         0.\n",
      "  0.         0.         0.         0.        ]\n",
      " [0.         0.         0.         0.         0.         0.\n",
      "  0.         0.         0.         0.         0.         0.01622378\n",
      "  0.24897876 0.32790981 0.10191096 0.         0.         0.\n",
      "  0.         0.         0.         0.         0.         0.\n",
      "  0.         0.         0.         0.        ]\n",
      " [0.         0.         0.         0.         0.         0.\n",
      "  0.         0.         0.         0.         0.         0.\n",
      "  0.04586451 0.31235677 0.32757096 0.23335172 0.14931733 0.00129164\n",
      "  0.         0.         0.         0.         0.         0.\n",
      "  0.         0.         0.         0.        ]\n",
      " [0.         0.         0.         0.         0.         0.\n",
      "  0.         0.         0.         0.         0.         0.\n",
      "  0.         0.10498298 0.34940902 0.3689874  0.34978968 0.15370495\n",
      "  0.04089933 0.         0.         0.         0.         0.\n",
      "  0.         0.         0.         0.        ]\n",
      " [0.         0.         0.         0.         0.         0.\n",
      "  0.         0.         0.         0.         0.         0.\n",
      "  0.         0.         0.06551419 0.27127137 0.34978968 0.32678448\n",
      "  0.245396   0.05882702 0.         0.         0.         0.\n",
      "  0.         0.         0.         0.        ]\n",
      " [0.         0.         0.         0.         0.         0.\n",
      "  0.         0.         0.         0.         0.         0.\n",
      "  0.         0.         0.         0.02333517 0.12857881 0.32549285\n",
      "  0.41390126 0.40743158 0.         0.         0.         0.\n",
      "  0.         0.         0.         0.        ]\n",
      " [0.         0.         0.         0.         0.         0.\n",
      "  0.         0.         0.         0.         0.         0.\n",
      "  0.         0.         0.         0.         0.         0.32161793\n",
      "  0.41390126 0.54251585 0.20001074 0.         0.         0.\n",
      "  0.         0.         0.         0.        ]\n",
      " [0.         0.         0.         0.         0.         0.\n",
      "  0.         0.         0.         0.         0.         0.\n",
      "  0.         0.         0.06697006 0.18959827 0.25300993 0.32678448\n",
      "  0.41390126 0.45100715 0.00625034 0.         0.         0.\n",
      "  0.         0.         0.         0.        ]\n",
      " [0.         0.         0.         0.         0.         0.\n",
      "  0.         0.         0.         0.         0.         0.\n",
      "  0.05110617 0.19182076 0.33339444 0.3689874  0.34978968 0.32678448\n",
      "  0.40899334 0.39653769 0.         0.         0.         0.\n",
      "  0.         0.         0.         0.        ]\n",
      " [0.         0.         0.         0.         0.         0.\n",
      "  0.         0.         0.         0.         0.04117838 0.16813739\n",
      "  0.28960162 0.32790981 0.36833534 0.3689874  0.34978968 0.25961929\n",
      "  0.12760592 0.         0.         0.         0.         0.\n",
      "  0.         0.         0.         0.        ]\n",
      " [0.         0.         0.         0.         0.         0.\n",
      "  0.         0.         0.04431706 0.11961607 0.36545809 0.37314701\n",
      "  0.33153488 0.32790981 0.36833534 0.28877275 0.111988   0.00258328\n",
      "  0.         0.         0.         0.         0.         0.\n",
      "  0.         0.         0.         0.        ]\n",
      " [0.         0.         0.         0.         0.         0.\n",
      "  0.05298497 0.42752138 0.4219755  0.45852825 0.43408872 0.37314701\n",
      "  0.33153488 0.25273681 0.11646967 0.01312603 0.         0.\n",
      "  0.         0.         0.         0.         0.         0.\n",
      "  0.         0.         0.         0.        ]\n",
      " [0.         0.         0.         0.         0.37491383 0.56222061\n",
      "  0.66525569 0.63253163 0.48748768 0.45852825 0.43408872 0.359873\n",
      "  0.17428513 0.01425695 0.         0.         0.         0.\n",
      "  0.         0.         0.         0.         0.         0.\n",
      "  0.         0.         0.         0.        ]\n",
      " [0.         0.         0.         0.         0.92705966 0.82698729\n",
      "  0.74473314 0.63253163 0.4084877  0.24466922 0.22648107 0.02359823\n",
      "  0.         0.         0.         0.         0.         0.\n",
      "  0.         0.         0.         0.         0.         0.\n",
      "  0.         0.         0.         0.        ]\n",
      " [0.         0.         0.         0.         0.         0.\n",
      "  0.         0.         0.         0.         0.         0.\n",
      "  0.         0.         0.         0.         0.         0.\n",
      "  0.         0.         0.         0.         0.         0.\n",
      "  0.         0.         0.         0.        ]\n",
      " [0.         0.         0.         0.         0.         0.\n",
      "  0.         0.         0.         0.         0.         0.\n",
      "  0.         0.         0.         0.         0.         0.\n",
      "  0.         0.         0.         0.         0.         0.\n",
      "  0.         0.         0.         0.        ]\n",
      " [0.         0.         0.         0.         0.         0.\n",
      "  0.         0.         0.         0.         0.         0.\n",
      "  0.         0.         0.         0.         0.         0.\n",
      "  0.         0.         0.         0.         0.         0.\n",
      "  0.         0.         0.         0.        ]]\n"
     ]
    }
   ],
   "source": [
    "print(x_train[0])"
   ]
  },
  {
   "cell_type": "code",
   "execution_count": 21,
   "metadata": {},
   "outputs": [
    {
     "name": "stdout",
     "output_type": "stream",
     "text": [
      "Epoch 1/100\n",
      "1875/1875 [==============================] - 1s 531us/step - loss: 0.4282 - accuracy: 0.8830\n",
      "Epoch 2/100\n",
      "1875/1875 [==============================] - 1s 529us/step - loss: 0.2167 - accuracy: 0.9370\n",
      "Epoch 3/100\n",
      "1875/1875 [==============================] - 1s 527us/step - loss: 0.1699 - accuracy: 0.9499\n",
      "Epoch 4/100\n",
      "1875/1875 [==============================] - 1s 528us/step - loss: 0.1419 - accuracy: 0.9585\n",
      "Epoch 5/100\n",
      "1875/1875 [==============================] - 1s 546us/step - loss: 0.1242 - accuracy: 0.9631\n",
      "Epoch 6/100\n",
      "1875/1875 [==============================] - 1s 530us/step - loss: 0.1109 - accuracy: 0.9674\n",
      "Epoch 7/100\n",
      "1875/1875 [==============================] - 1s 522us/step - loss: 0.1014 - accuracy: 0.9693\n",
      "Epoch 8/100\n",
      "1875/1875 [==============================] - 1s 522us/step - loss: 0.0927 - accuracy: 0.9719\n",
      "Epoch 9/100\n",
      "1875/1875 [==============================] - 1s 543us/step - loss: 0.0851 - accuracy: 0.9743\n",
      "Epoch 10/100\n",
      "1875/1875 [==============================] - 1s 542us/step - loss: 0.0790 - accuracy: 0.9762\n",
      "Epoch 11/100\n",
      "1875/1875 [==============================] - 1s 545us/step - loss: 0.0741 - accuracy: 0.9779\n",
      "Epoch 12/100\n",
      "1875/1875 [==============================] - 1s 523us/step - loss: 0.0692 - accuracy: 0.9792\n",
      "Epoch 13/100\n",
      "1875/1875 [==============================] - 1s 543us/step - loss: 0.0655 - accuracy: 0.9799\n",
      "Epoch 14/100\n",
      "1875/1875 [==============================] - 1s 525us/step - loss: 0.0610 - accuracy: 0.9817\n",
      "Epoch 15/100\n",
      "1875/1875 [==============================] - 1s 516us/step - loss: 0.0574 - accuracy: 0.9828\n",
      "Epoch 16/100\n",
      "1875/1875 [==============================] - 1s 522us/step - loss: 0.0554 - accuracy: 0.9835\n",
      "Epoch 17/100\n",
      "1875/1875 [==============================] - 1s 528us/step - loss: 0.0518 - accuracy: 0.9847\n",
      "Epoch 18/100\n",
      "1875/1875 [==============================] - 1s 530us/step - loss: 0.0493 - accuracy: 0.9853\n",
      "Epoch 19/100\n",
      "1875/1875 [==============================] - 1s 527us/step - loss: 0.0466 - accuracy: 0.9861\n",
      "Epoch 20/100\n",
      "1875/1875 [==============================] - 1s 522us/step - loss: 0.0442 - accuracy: 0.9870\n",
      "Epoch 21/100\n",
      "1875/1875 [==============================] - 1s 523us/step - loss: 0.0419 - accuracy: 0.9877\n",
      "Epoch 22/100\n",
      "1875/1875 [==============================] - 1s 530us/step - loss: 0.0403 - accuracy: 0.9881\n",
      "Epoch 23/100\n",
      "1875/1875 [==============================] - 1s 524us/step - loss: 0.0377 - accuracy: 0.9888\n",
      "Epoch 24/100\n",
      "1875/1875 [==============================] - 1s 533us/step - loss: 0.0358 - accuracy: 0.9894\n",
      "Epoch 25/100\n",
      "1875/1875 [==============================] - 1s 531us/step - loss: 0.0343 - accuracy: 0.9904\n",
      "Epoch 26/100\n",
      "1875/1875 [==============================] - 1s 534us/step - loss: 0.0327 - accuracy: 0.9906\n",
      "Epoch 27/100\n",
      "1875/1875 [==============================] - 1s 511us/step - loss: 0.0302 - accuracy: 0.9915\n",
      "Epoch 28/100\n",
      "1875/1875 [==============================] - 1s 519us/step - loss: 0.0298 - accuracy: 0.9915\n",
      "Epoch 29/100\n",
      "1875/1875 [==============================] - 1s 518us/step - loss: 0.0277 - accuracy: 0.9922\n",
      "Epoch 30/100\n",
      "1875/1875 [==============================] - 1s 525us/step - loss: 0.0268 - accuracy: 0.9924\n",
      "Epoch 31/100\n",
      "1875/1875 [==============================] - 1s 519us/step - loss: 0.0254 - accuracy: 0.9930\n",
      "Epoch 32/100\n",
      "1875/1875 [==============================] - 1s 525us/step - loss: 0.0241 - accuracy: 0.9932\n",
      "Epoch 33/100\n",
      "1875/1875 [==============================] - 1s 517us/step - loss: 0.0230 - accuracy: 0.9936\n",
      "Epoch 34/100\n",
      "1875/1875 [==============================] - 1s 522us/step - loss: 0.0219 - accuracy: 0.9941\n",
      "Epoch 35/100\n",
      "1875/1875 [==============================] - 1s 532us/step - loss: 0.0202 - accuracy: 0.9947\n",
      "Epoch 36/100\n",
      "1875/1875 [==============================] - 1s 523us/step - loss: 0.0197 - accuracy: 0.9946\n",
      "Epoch 37/100\n",
      "1875/1875 [==============================] - 1s 517us/step - loss: 0.0188 - accuracy: 0.9951\n",
      "Epoch 38/100\n",
      "1875/1875 [==============================] - 1s 524us/step - loss: 0.0180 - accuracy: 0.9952\n",
      "Epoch 39/100\n",
      "1875/1875 [==============================] - 1s 518us/step - loss: 0.0167 - accuracy: 0.9958\n",
      "Epoch 40/100\n",
      "1875/1875 [==============================] - 1s 527us/step - loss: 0.0160 - accuracy: 0.9962\n",
      "Epoch 41/100\n",
      "1875/1875 [==============================] - 1s 523us/step - loss: 0.0153 - accuracy: 0.9961\n",
      "Epoch 42/100\n",
      "1875/1875 [==============================] - 1s 524us/step - loss: 0.0146 - accuracy: 0.9964\n",
      "Epoch 43/100\n",
      "1875/1875 [==============================] - 1s 516us/step - loss: 0.0143 - accuracy: 0.9965\n",
      "Epoch 44/100\n",
      "1875/1875 [==============================] - 1s 517us/step - loss: 0.0133 - accuracy: 0.9968\n",
      "Epoch 45/100\n",
      "1875/1875 [==============================] - 1s 529us/step - loss: 0.0123 - accuracy: 0.9971\n",
      "Epoch 46/100\n",
      "1875/1875 [==============================] - 1s 523us/step - loss: 0.0122 - accuracy: 0.9970\n",
      "Epoch 47/100\n",
      "1875/1875 [==============================] - 1s 518us/step - loss: 0.0109 - accuracy: 0.9978\n",
      "Epoch 48/100\n",
      "1875/1875 [==============================] - 1s 519us/step - loss: 0.0108 - accuracy: 0.9975\n",
      "Epoch 49/100\n",
      "1875/1875 [==============================] - 1s 528us/step - loss: 0.0097 - accuracy: 0.9979\n",
      "Epoch 50/100\n",
      "1875/1875 [==============================] - 1s 520us/step - loss: 0.0097 - accuracy: 0.9980\n",
      "Epoch 51/100\n",
      "1875/1875 [==============================] - 1s 529us/step - loss: 0.0088 - accuracy: 0.9981\n",
      "Epoch 52/100\n",
      "1875/1875 [==============================] - 1s 517us/step - loss: 0.0088 - accuracy: 0.9980\n",
      "Epoch 53/100\n",
      "1875/1875 [==============================] - 1s 529us/step - loss: 0.0081 - accuracy: 0.9985\n",
      "Epoch 54/100\n",
      "1875/1875 [==============================] - 1s 534us/step - loss: 0.0083 - accuracy: 0.9981\n",
      "Epoch 55/100\n",
      "1875/1875 [==============================] - 1s 517us/step - loss: 0.0075 - accuracy: 0.9986\n",
      "Epoch 56/100\n",
      "1875/1875 [==============================] - 1s 517us/step - loss: 0.0070 - accuracy: 0.9987\n",
      "Epoch 57/100\n",
      "1875/1875 [==============================] - 1s 519us/step - loss: 0.0069 - accuracy: 0.9986\n",
      "Epoch 58/100\n",
      "1875/1875 [==============================] - 1s 513us/step - loss: 0.0064 - accuracy: 0.9986\n",
      "Epoch 59/100\n",
      "1875/1875 [==============================] - 1s 522us/step - loss: 0.0061 - accuracy: 0.9989\n",
      "Epoch 60/100\n",
      "1875/1875 [==============================] - 1s 518us/step - loss: 0.0056 - accuracy: 0.9990\n",
      "Epoch 61/100\n",
      "1875/1875 [==============================] - 1s 528us/step - loss: 0.0055 - accuracy: 0.9988\n",
      "Epoch 62/100\n",
      "1875/1875 [==============================] - 1s 527us/step - loss: 0.0057 - accuracy: 0.9988\n",
      "Epoch 63/100\n",
      "1875/1875 [==============================] - 1s 539us/step - loss: 0.0049 - accuracy: 0.9992\n",
      "Epoch 64/100\n",
      "1875/1875 [==============================] - 1s 546us/step - loss: 0.0052 - accuracy: 0.9991\n",
      "Epoch 65/100\n",
      "1875/1875 [==============================] - 1s 534us/step - loss: 0.0047 - accuracy: 0.9992\n",
      "Epoch 66/100\n",
      "1875/1875 [==============================] - 1s 530us/step - loss: 0.0041 - accuracy: 0.9993\n",
      "Epoch 67/100\n",
      "1875/1875 [==============================] - 1s 511us/step - loss: 0.0043 - accuracy: 0.9993\n",
      "Epoch 68/100\n",
      "1875/1875 [==============================] - 1s 519us/step - loss: 0.0042 - accuracy: 0.9992\n",
      "Epoch 69/100\n",
      "1875/1875 [==============================] - 1s 520us/step - loss: 0.0034 - accuracy: 0.9997\n",
      "Epoch 70/100\n",
      "1875/1875 [==============================] - 1s 512us/step - loss: 0.0046 - accuracy: 0.9989\n",
      "Epoch 71/100\n",
      "1875/1875 [==============================] - 1s 527us/step - loss: 0.0032 - accuracy: 0.9996\n",
      "Epoch 72/100\n",
      "1875/1875 [==============================] - 1s 509us/step - loss: 0.0036 - accuracy: 0.9994\n",
      "Epoch 73/100\n",
      "1875/1875 [==============================] - 1s 530us/step - loss: 0.0037 - accuracy: 0.9993\n",
      "Epoch 74/100\n",
      "1875/1875 [==============================] - 1s 531us/step - loss: 0.0027 - accuracy: 0.9998\n",
      "Epoch 75/100\n",
      "1875/1875 [==============================] - 1s 518us/step - loss: 0.0038 - accuracy: 0.9992\n",
      "Epoch 76/100\n",
      "1875/1875 [==============================] - 1s 516us/step - loss: 0.0031 - accuracy: 0.9994\n",
      "Epoch 77/100\n",
      "1875/1875 [==============================] - 1s 510us/step - loss: 0.0043 - accuracy: 0.9990\n",
      "Epoch 78/100\n",
      "1875/1875 [==============================] - 1s 511us/step - loss: 0.0027 - accuracy: 0.9995\n",
      "Epoch 79/100\n",
      "1875/1875 [==============================] - 1s 511us/step - loss: 0.0031 - accuracy: 0.9994\n",
      "Epoch 80/100\n",
      "1875/1875 [==============================] - 1s 517us/step - loss: 0.0028 - accuracy: 0.9994\n",
      "Epoch 81/100\n",
      "1875/1875 [==============================] - 1s 515us/step - loss: 0.0023 - accuracy: 0.9996\n",
      "Epoch 82/100\n",
      "1875/1875 [==============================] - 1s 523us/step - loss: 0.0028 - accuracy: 0.9995\n",
      "Epoch 83/100\n",
      "1875/1875 [==============================] - 1s 565us/step - loss: 0.0024 - accuracy: 0.9996\n",
      "Epoch 84/100\n",
      "1875/1875 [==============================] - 1s 528us/step - loss: 0.0024 - accuracy: 0.9996\n",
      "Epoch 85/100\n",
      "1875/1875 [==============================] - 1s 525us/step - loss: 0.0029 - accuracy: 0.9994\n",
      "Epoch 86/100\n",
      "1875/1875 [==============================] - 1s 530us/step - loss: 0.0024 - accuracy: 0.9995\n",
      "Epoch 87/100\n",
      "1875/1875 [==============================] - 1s 550us/step - loss: 0.0018 - accuracy: 0.9998\n",
      "Epoch 88/100\n",
      "1875/1875 [==============================] - 1s 518us/step - loss: 0.0028 - accuracy: 0.9994\n",
      "Epoch 89/100\n",
      "1875/1875 [==============================] - 1s 515us/step - loss: 0.0016 - accuracy: 0.9998\n",
      "Epoch 90/100\n",
      "1875/1875 [==============================] - 1s 522us/step - loss: 0.0027 - accuracy: 0.9992\n",
      "Epoch 91/100\n",
      "1875/1875 [==============================] - 1s 527us/step - loss: 0.0020 - accuracy: 0.9996\n",
      "Epoch 92/100\n",
      "1875/1875 [==============================] - 1s 516us/step - loss: 0.0023 - accuracy: 0.9995\n",
      "Epoch 93/100\n",
      "1875/1875 [==============================] - 1s 546us/step - loss: 0.0026 - accuracy: 0.9994\n",
      "Epoch 94/100\n",
      "1875/1875 [==============================] - 1s 553us/step - loss: 0.0021 - accuracy: 0.9995\n",
      "Epoch 95/100\n",
      "1875/1875 [==============================] - 1s 521us/step - loss: 0.0018 - accuracy: 0.9997\n",
      "Epoch 96/100\n",
      "1875/1875 [==============================] - 1s 524us/step - loss: 0.0024 - accuracy: 0.9994\n",
      "Epoch 97/100\n",
      "1875/1875 [==============================] - 1s 518us/step - loss: 0.0017 - accuracy: 0.9998\n",
      "Epoch 98/100\n",
      "1875/1875 [==============================] - 1s 513us/step - loss: 0.0020 - accuracy: 0.9995\n",
      "Epoch 99/100\n",
      "1875/1875 [==============================] - 1s 516us/step - loss: 0.0015 - accuracy: 0.9998\n",
      "Epoch 100/100\n",
      "1875/1875 [==============================] - 1s 526us/step - loss: 0.0028 - accuracy: 0.9993\n"
     ]
    },
    {
     "data": {
      "text/plain": [
       "<tensorflow.python.keras.callbacks.History at 0x25252d7b310>"
      ]
     },
     "execution_count": 21,
     "metadata": {},
     "output_type": "execute_result"
    }
   ],
   "source": [
    "#build model\n",
    "model =tf.keras.models.Sequential()\n",
    "model.add(tf.keras.layers.Flatten())\n",
    "model.add(tf.keras.layers.Dense(32,activation=tf.nn.relu))#first hidden layer\n",
    "model.add(tf.keras.layers.Dense(10,activation=tf.nn.softmax))#output layer\n",
    "\n",
    "model.compile(optimizer='adam',\n",
    "              loss='sparse_categorical_crossentropy',\n",
    "             metrics=['accuracy'])\n",
    "model.fit(x_train,y_train,epochs=100)"
   ]
  },
  {
   "cell_type": "code",
   "execution_count": 19,
   "metadata": {},
   "outputs": [],
   "source": [
    "import time"
   ]
  },
  {
   "cell_type": "code",
   "execution_count": 32,
   "metadata": {},
   "outputs": [
    {
     "name": "stdout",
     "output_type": "stream",
     "text": [
      "Epoch 1/10\n",
      "1875/1875 [==============================] - 1s 527us/step - loss: 2.4927 - accuracy: 0.1762\n",
      "Epoch 2/10\n",
      "1875/1875 [==============================] - 1s 510us/step - loss: 1.9958 - accuracy: 0.2356\n",
      "Epoch 3/10\n",
      "1875/1875 [==============================] - 1s 526us/step - loss: 1.7884 - accuracy: 0.3161\n",
      "Epoch 4/10\n",
      "1875/1875 [==============================] - 1s 525us/step - loss: 1.5220 - accuracy: 0.3955\n",
      "Epoch 5/10\n",
      "1875/1875 [==============================] - 1s 513us/step - loss: 1.3859 - accuracy: 0.4443\n",
      "Epoch 6/10\n",
      "1875/1875 [==============================] - 1s 512us/step - loss: 1.2439 - accuracy: 0.5084\n",
      "Epoch 7/10\n",
      "1875/1875 [==============================] - 1s 507us/step - loss: 1.1199 - accuracy: 0.5728\n",
      "Epoch 8/10\n",
      "1875/1875 [==============================] - 1s 514us/step - loss: 1.0122 - accuracy: 0.6549\n",
      "Epoch 9/10\n",
      "1875/1875 [==============================] - 1s 509us/step - loss: 0.9142 - accuracy: 0.6954\n",
      "Epoch 10/10\n",
      "1875/1875 [==============================] - 1s 511us/step - loss: 0.8018 - accuracy: 0.7551\n",
      "1875/1875 [==============================] - 1s 413us/step - loss: 0.8624 - accuracy: 0.7361\n",
      "313/313 [==============================] - 0s 669us/step - loss: 0.9017 - accuracy: 0.7339\n",
      "Epoch 1/10\n",
      "   1/1875 [..............................] - ETA: 0s - loss: 135.6060 - accuracy: 0.0938WARNING:tensorflow:Callbacks method `on_train_batch_end` is slow compared to the batch time (batch time: 0.0000s vs `on_train_batch_end` time: 0.0010s). Check your callbacks.\n",
      "1875/1875 [==============================] - 1s 555us/step - loss: 2.7181 - accuracy: 0.3859\n",
      "Epoch 2/10\n",
      "1875/1875 [==============================] - 1s 536us/step - loss: 1.2974 - accuracy: 0.5513\n",
      "Epoch 3/10\n",
      "1875/1875 [==============================] - 1s 550us/step - loss: 1.0208 - accuracy: 0.6438\n",
      "Epoch 4/10\n",
      "1875/1875 [==============================] - 1s 574us/step - loss: 0.7993 - accuracy: 0.7390\n",
      "Epoch 5/10\n",
      "1875/1875 [==============================] - 1s 544us/step - loss: 0.6271 - accuracy: 0.8215\n",
      "Epoch 6/10\n",
      "1875/1875 [==============================] - 1s 574us/step - loss: 0.4970 - accuracy: 0.8623\n",
      "Epoch 7/10\n",
      "1875/1875 [==============================] - 1s 526us/step - loss: 0.4060 - accuracy: 0.8890\n",
      "Epoch 8/10\n",
      "1875/1875 [==============================] - 1s 530us/step - loss: 0.3641 - accuracy: 0.9032\n",
      "Epoch 9/10\n",
      "1875/1875 [==============================] - 1s 541us/step - loss: 0.3362 - accuracy: 0.9099\n",
      "Epoch 10/10\n",
      "1875/1875 [==============================] - 1s 529us/step - loss: 0.3164 - accuracy: 0.9161\n",
      "1875/1875 [==============================] - 1s 408us/step - loss: 0.2963 - accuracy: 0.9184\n",
      "313/313 [==============================] - 0s 672us/step - loss: 0.3315 - accuracy: 0.9144\n",
      "Epoch 1/10\n",
      "1875/1875 [==============================] - 1s 560us/step - loss: 2.3940 - accuracy: 0.3948\n",
      "Epoch 2/10\n",
      "1875/1875 [==============================] - 1s 557us/step - loss: 0.8890 - accuracy: 0.7110\n",
      "Epoch 3/10\n",
      "1875/1875 [==============================] - 1s 546us/step - loss: 0.6360 - accuracy: 0.8009\n",
      "Epoch 4/10\n",
      "1875/1875 [==============================] - 1s 547us/step - loss: 0.4918 - accuracy: 0.8622\n",
      "Epoch 5/10\n",
      "1875/1875 [==============================] - 1s 555us/step - loss: 0.3994 - accuracy: 0.8936\n",
      "Epoch 6/10\n",
      "1875/1875 [==============================] - 1s 541us/step - loss: 0.3486 - accuracy: 0.9089\n",
      "Epoch 7/10\n",
      "1875/1875 [==============================] - 1s 554us/step - loss: 0.3126 - accuracy: 0.9179\n",
      "Epoch 8/10\n",
      "1875/1875 [==============================] - 1s 535us/step - loss: 0.2906 - accuracy: 0.9248\n",
      "Epoch 9/10\n",
      "1875/1875 [==============================] - 1s 532us/step - loss: 0.2839 - accuracy: 0.9264\n",
      "Epoch 10/10\n",
      "1875/1875 [==============================] - 1s 549us/step - loss: 0.2806 - accuracy: 0.9275\n",
      "1875/1875 [==============================] - 1s 424us/step - loss: 0.2485 - accuracy: 0.9357\n",
      "313/313 [==============================] - 0s 709us/step - loss: 0.3046 - accuracy: 0.9298\n",
      "Epoch 1/10\n",
      "1875/1875 [==============================] - 1s 605us/step - loss: 1.9947 - accuracy: 0.7652\n",
      "Epoch 2/10\n",
      "1875/1875 [==============================] - 1s 590us/step - loss: 0.4444 - accuracy: 0.8902\n",
      "Epoch 3/10\n",
      "1875/1875 [==============================] - 1s 590us/step - loss: 0.3361 - accuracy: 0.9127\n",
      "Epoch 4/10\n",
      "1875/1875 [==============================] - 1s 590us/step - loss: 0.2875 - accuracy: 0.9235\n",
      "Epoch 5/10\n",
      "1875/1875 [==============================] - 1s 591us/step - loss: 0.2711 - accuracy: 0.9288\n",
      "Epoch 6/10\n",
      "1875/1875 [==============================] - 1s 606us/step - loss: 0.2426 - accuracy: 0.9362\n",
      "Epoch 7/10\n",
      "1875/1875 [==============================] - 1s 603us/step - loss: 0.2397 - accuracy: 0.9383\n",
      "Epoch 8/10\n",
      "1875/1875 [==============================] - 1s 590us/step - loss: 0.2282 - accuracy: 0.9397\n",
      "Epoch 9/10\n",
      "1875/1875 [==============================] - 1s 609us/step - loss: 0.2212 - accuracy: 0.9422\n",
      "Epoch 10/10\n",
      "1875/1875 [==============================] - 1s 600us/step - loss: 0.2145 - accuracy: 0.9438\n",
      "1875/1875 [==============================] - 1s 449us/step - loss: 0.1991 - accuracy: 0.9491\n",
      "313/313 [==============================] - 0s 755us/step - loss: 0.3173 - accuracy: 0.9401\n",
      "Epoch 1/10\n",
      "1875/1875 [==============================] - 1s 670us/step - loss: 2.4654 - accuracy: 0.8511\n",
      "Epoch 2/10\n",
      "1875/1875 [==============================] - 1s 684us/step - loss: 0.3827 - accuracy: 0.9090\n",
      "Epoch 3/10\n",
      "1875/1875 [==============================] - 1s 698us/step - loss: 0.2814 - accuracy: 0.9292\n",
      "Epoch 4/10\n",
      "1875/1875 [==============================] - 1s 669us/step - loss: 0.2507 - accuracy: 0.9355\n",
      "Epoch 5/10\n",
      "1875/1875 [==============================] - 1s 675us/step - loss: 0.2263 - accuracy: 0.9433\n",
      "Epoch 6/10\n",
      "1875/1875 [==============================] - 1s 722us/step - loss: 0.2136 - accuracy: 0.9459\n",
      "Epoch 7/10\n",
      "1875/1875 [==============================] - 1s 662us/step - loss: 0.2061 - accuracy: 0.9499\n",
      "Epoch 8/10\n",
      "1875/1875 [==============================] - 1s 668us/step - loss: 0.1883 - accuracy: 0.9555\n",
      "Epoch 9/10\n",
      "1875/1875 [==============================] - 1s 683us/step - loss: 0.1820 - accuracy: 0.9555\n",
      "Epoch 10/10\n",
      "1875/1875 [==============================] - 1s 674us/step - loss: 0.1824 - accuracy: 0.9566\n",
      "1875/1875 [==============================] - 1s 482us/step - loss: 0.1536 - accuracy: 0.9623\n",
      "313/313 [==============================] - 0s 828us/step - loss: 0.2434 - accuracy: 0.9496\n",
      "Epoch 1/10\n",
      "1875/1875 [==============================] - 1s 742us/step - loss: 2.7011 - accuracy: 0.8939\n",
      "Epoch 2/10\n",
      "1875/1875 [==============================] - 1s 785us/step - loss: 0.3314 - accuracy: 0.9279\n",
      "Epoch 3/10\n",
      "1875/1875 [==============================] - 2s 850us/step - loss: 0.2796 - accuracy: 0.9354\n",
      "Epoch 4/10\n",
      "1875/1875 [==============================] - 1s 789us/step - loss: 0.2428 - accuracy: 0.9417\n",
      "Epoch 5/10\n",
      "1875/1875 [==============================] - 1s 767us/step - loss: 0.2326 - accuracy: 0.9459\n",
      "Epoch 6/10\n",
      "1875/1875 [==============================] - 1s 775us/step - loss: 0.2191 - accuracy: 0.9493\n",
      "Epoch 7/10\n",
      "1875/1875 [==============================] - 1s 779us/step - loss: 0.2015 - accuracy: 0.9542\n",
      "Epoch 8/10\n",
      "1875/1875 [==============================] - 1s 800us/step - loss: 0.1958 - accuracy: 0.9550\n",
      "Epoch 9/10\n",
      "1875/1875 [==============================] - 1s 787us/step - loss: 0.1888 - accuracy: 0.9568\n",
      "Epoch 10/10\n",
      "1875/1875 [==============================] - 1s 792us/step - loss: 0.1773 - accuracy: 0.9595\n",
      "   1/1875 [..............................] - ETA: 0s - loss: 0.1296 - accuracy: 0.9688WARNING:tensorflow:Callbacks method `on_test_batch_begin` is slow compared to the batch time (batch time: 0.0000s vs `on_test_batch_begin` time: 0.0010s). Check your callbacks.\n",
      "1875/1875 [==============================] - 1s 510us/step - loss: 0.1900 - accuracy: 0.9581\n",
      "313/313 [==============================] - 0s 830us/step - loss: 0.3248 - accuracy: 0.9468\n",
      "Epoch 1/10\n",
      "1875/1875 [==============================] - 3s 2ms/step - loss: 2.6389 - accuracy: 0.9053\n",
      "Epoch 2/10\n",
      "1875/1875 [==============================] - 3s 1ms/step - loss: 0.3537 - accuracy: 0.9329\n",
      "Epoch 3/10\n",
      "1875/1875 [==============================] - 3s 1ms/step - loss: 0.3281 - accuracy: 0.9381\n",
      "Epoch 4/10\n"
     ]
    },
    {
     "name": "stdout",
     "output_type": "stream",
     "text": [
      "1875/1875 [==============================] - 3s 2ms/step - loss: 0.2825 - accuracy: 0.9423\n",
      "Epoch 5/10\n",
      "1875/1875 [==============================] - 3s 1ms/step - loss: 0.2679 - accuracy: 0.9468\n",
      "Epoch 6/10\n",
      "1875/1875 [==============================] - 3s 1ms/step - loss: 0.2451 - accuracy: 0.9497\n",
      "Epoch 7/10\n",
      "1875/1875 [==============================] - 3s 2ms/step - loss: 0.2191 - accuracy: 0.9524\n",
      "Epoch 8/10\n",
      "1875/1875 [==============================] - 3s 1ms/step - loss: 0.2331 - accuracy: 0.9545\n",
      "Epoch 9/10\n",
      "1875/1875 [==============================] - 3s 2ms/step - loss: 0.1978 - accuracy: 0.9593\n",
      "Epoch 10/10\n",
      "1875/1875 [==============================] - 3s 2ms/step - loss: 0.2112 - accuracy: 0.9593\n",
      "   1/1875 [..............................] - ETA: 0s - loss: 0.0963 - accuracy: 0.9688WARNING:tensorflow:Callbacks method `on_test_batch_end` is slow compared to the batch time (batch time: 0.0000s vs `on_test_batch_end` time: 0.0010s). Check your callbacks.\n",
      "1875/1875 [==============================] - 1s 565us/step - loss: 0.1660 - accuracy: 0.9623\n",
      "313/313 [==============================] - 0s 1ms/step - loss: 0.3445 - accuracy: 0.9487\n",
      "Epoch 1/10\n",
      "1875/1875 [==============================] - 6s 3ms/step - loss: 2.5868 - accuracy: 0.9148\n",
      "Epoch 2/10\n",
      "1875/1875 [==============================] - 6s 3ms/step - loss: 0.3966 - accuracy: 0.9375\n",
      "Epoch 3/10\n",
      "1875/1875 [==============================] - 6s 3ms/step - loss: 0.3681 - accuracy: 0.9442\n",
      "Epoch 4/10\n",
      "1875/1875 [==============================] - 6s 3ms/step - loss: 0.3121 - accuracy: 0.9486\n",
      "Epoch 5/10\n",
      "1875/1875 [==============================] - 7s 4ms/step - loss: 0.2612 - accuracy: 0.9542\n",
      "Epoch 6/10\n",
      "1875/1875 [==============================] - 6s 3ms/step - loss: 0.2600 - accuracy: 0.9568\n",
      "Epoch 7/10\n",
      "1875/1875 [==============================] - 6s 3ms/step - loss: 0.2232 - accuracy: 0.9592\n",
      "Epoch 8/10\n",
      "1875/1875 [==============================] - 6s 3ms/step - loss: 0.2104 - accuracy: 0.9609\n",
      "Epoch 9/10\n",
      "1875/1875 [==============================] - 6s 3ms/step - loss: 0.2359 - accuracy: 0.9621\n",
      "Epoch 10/10\n",
      "1875/1875 [==============================] - 6s 3ms/step - loss: 0.1966 - accuracy: 0.9651\n",
      "1875/1875 [==============================] - 2s 1ms/step - loss: 0.1506 - accuracy: 0.9693\n",
      "313/313 [==============================] - 0s 2ms/step - loss: 0.3821 - accuracy: 0.9544\n"
     ]
    }
   ],
   "source": [
    "#with different number of nodes\n",
    "\n",
    "nodes=[8,16,32,64,128,256,512,1028]\n",
    "train_acc=[]\n",
    "test_acc=[]\n",
    "times=[]\n",
    "for i in nodes:\n",
    "    import time\n",
    "    model =tf.keras.models.Sequential()\n",
    "    model.add(tf.keras.layers.Flatten())\n",
    "    model.add(tf.keras.layers.Dense(i,activation=tf.nn.relu))#first hidden layer\n",
    "    model.add(tf.keras.layers.Dense(10,activation=tf.nn.softmax))\n",
    "    model.compile(optimizer='adam',\n",
    "              loss='sparse_categorical_crossentropy',\n",
    "             metrics=['accuracy'])\n",
    "    t_s=time.time()#calculate time\n",
    "    model.fit(x_train,y_train,epochs=10)\n",
    "    t_e=time.time()\n",
    "    times.append(t_e-t_s)\n",
    "    train_acc.append(model.evaluate(x_train,y_train)[1])\n",
    "    test_acc.append(model.evaluate(x_test,y_test)[1])\n",
    "    "
   ]
  },
  {
   "cell_type": "code",
   "execution_count": 33,
   "metadata": {},
   "outputs": [
    {
     "data": {
      "text/plain": [
       "[0.7360833287239075,\n",
       " 0.9184499979019165,\n",
       " 0.9356833100318909,\n",
       " 0.9491333365440369,\n",
       " 0.9623333215713501,\n",
       " 0.9580666422843933,\n",
       " 0.9623333215713501,\n",
       " 0.9693499803543091]"
      ]
     },
     "execution_count": 33,
     "metadata": {},
     "output_type": "execute_result"
    }
   ],
   "source": [
    "train_acc"
   ]
  },
  {
   "cell_type": "code",
   "execution_count": 34,
   "metadata": {},
   "outputs": [
    {
     "data": {
      "text/plain": [
       "[0.7339000105857849,\n",
       " 0.9143999814987183,\n",
       " 0.9297999739646912,\n",
       " 0.9401000142097473,\n",
       " 0.9495999813079834,\n",
       " 0.9467999935150146,\n",
       " 0.9487000107765198,\n",
       " 0.9544000029563904]"
      ]
     },
     "execution_count": 34,
     "metadata": {},
     "output_type": "execute_result"
    }
   ],
   "source": [
    "test_acc"
   ]
  },
  {
   "cell_type": "code",
   "execution_count": 35,
   "metadata": {},
   "outputs": [
    {
     "data": {
      "text/plain": [
       "[9.965795516967773,\n",
       " 10.541280269622803,\n",
       " 10.562035322189331,\n",
       " 11.504170179367065,\n",
       " 13.173128128051758,\n",
       " 15.045998334884644,\n",
       " 28.362415552139282,\n",
       " 64.18058776855469]"
      ]
     },
     "execution_count": 35,
     "metadata": {},
     "output_type": "execute_result"
    }
   ],
   "source": [
    "times"
   ]
  },
  {
   "cell_type": "code",
   "execution_count": 38,
   "metadata": {},
   "outputs": [
    {
     "data": {
      "image/png": "[encoded data removed]",
      "text/plain": [
       "<Figure size 432x288 with 1 Axes>"
      ]
     },
     "metadata": {
      "needs_background": "light"
     },
     "output_type": "display_data"
    }
   ],
   "source": [
    "import seaborn as sns\n",
    "import matplotlib.pyplot as plt\n",
    "sns.barplot(nodes,test_acc)\n",
    "plt.xlabel('Nodes')\n",
    "plt.ylabel('Test Accuracy')\n",
    "# Show the plot\n",
    "plt.show()"
   ]
  },
  {
   "cell_type": "code",
   "execution_count": 39,
   "metadata": {},
   "outputs": [
    {
     "data": {
      "image/png": "[encoded data removed]",
      "text/plain": [
       "<Figure size 432x288 with 1 Axes>"
      ]
     },
     "metadata": {
      "needs_background": "light"
     },
     "output_type": "display_data"
    }
   ],
   "source": [
    "import seaborn as sns\n",
    "import matplotlib.pyplot as plt\n",
    "sns.barplot(nodes,train_acc)\n",
    "plt.xlabel('Nodes')\n",
    "plt.ylabel('Train Accuracy')\n",
    "# Show the plot\n",
    "plt.show()"
   ]
  },
  {
   "cell_type": "code",
   "execution_count": 42,
   "metadata": {},
   "outputs": [
    {
     "data": {
      "image/png": "[encoded data removed]",
      "text/plain": [
       "<Figure size 432x288 with 1 Axes>"
      ]
     },
     "metadata": {
      "needs_background": "light"
     },
     "output_type": "display_data"
    }
   ],
   "source": [
    "import seaborn as sns\n",
    "import matplotlib.pyplot as plt\n",
    "\n",
    "\n",
    "sns.barplot(nodes,times)\n",
    "plt.xlabel('Nodes')\n",
    "plt.ylabel('Time')\n",
    "# Show the plot\n",
    "plt.show()"
   ]
  },
  {
   "cell_type": "code",
   "execution_count": 43,
   "metadata": {},
   "outputs": [
    {
     "name": "stdout",
     "output_type": "stream",
     "text": [
      "Epoch 1/10\n",
      "1875/1875 [==============================] - 1s 552us/step - loss: 2.0344 - accuracy: 0.6450\n",
      "Epoch 2/10\n",
      "1875/1875 [==============================] - 1s 542us/step - loss: 0.6141 - accuracy: 0.8427\n",
      "Epoch 3/10\n",
      "1875/1875 [==============================] - 1s 550us/step - loss: 0.4528 - accuracy: 0.8861\n",
      "Epoch 4/10\n",
      "1875/1875 [==============================] - 1s 568us/step - loss: 0.3715 - accuracy: 0.9049\n",
      "Epoch 5/10\n",
      "1875/1875 [==============================] - 1s 580us/step - loss: 0.3388 - accuracy: 0.9121\n",
      "Epoch 6/10\n",
      "1875/1875 [==============================] - 1s 565us/step - loss: 0.3173 - accuracy: 0.9179\n",
      "Epoch 7/10\n",
      "1875/1875 [==============================] - 1s 556us/step - loss: 0.2966 - accuracy: 0.9219\n",
      "Epoch 8/10\n",
      "1875/1875 [==============================] - 1s 539us/step - loss: 0.2920 - accuracy: 0.9224\n",
      "Epoch 9/10\n",
      "1875/1875 [==============================] - 1s 555us/step - loss: 0.2805 - accuracy: 0.9260\n",
      "Epoch 10/10\n",
      "1875/1875 [==============================] - 1s 560us/step - loss: 0.2772 - accuracy: 0.9271\n",
      "1875/1875 [==============================] - 1s 451us/step - loss: 0.2469 - accuracy: 0.9332\n",
      "313/313 [==============================] - 0s 705us/step - loss: 0.3125 - accuracy: 0.9257\n",
      "Epoch 1/10\n",
      "1875/1875 [==============================] - 1s 656us/step - loss: 0.5891 - accuracy: 0.8219\n",
      "Epoch 2/10\n",
      "1875/1875 [==============================] - 1s 694us/step - loss: 0.3838 - accuracy: 0.9159\n",
      "Epoch 3/10\n",
      "1875/1875 [==============================] - 1s 663us/step - loss: 0.3786 - accuracy: 0.9201\n",
      "Epoch 4/10\n",
      "1875/1875 [==============================] - 1s 699us/step - loss: 0.3706 - accuracy: 0.9228\n",
      "Epoch 5/10\n",
      "1875/1875 [==============================] - 1s 672us/step - loss: 0.3713 - accuracy: 0.9237\n",
      "Epoch 6/10\n",
      "1875/1875 [==============================] - 1s 669us/step - loss: 0.3708 - accuracy: 0.9240\n",
      "Epoch 7/10\n",
      "1875/1875 [==============================] - 1s 640us/step - loss: 0.3716 - accuracy: 0.9239\n",
      "Epoch 8/10\n",
      "1875/1875 [==============================] - 1s 648us/step - loss: 0.3650 - accuracy: 0.9254\n",
      "Epoch 9/10\n",
      "1875/1875 [==============================] - 1s 637us/step - loss: 0.3791 - accuracy: 0.9214\n",
      "Epoch 10/10\n",
      "1875/1875 [==============================] - 1s 646us/step - loss: 0.3708 - accuracy: 0.9252\n",
      "1875/1875 [==============================] - 1s 439us/step - loss: 0.3741 - accuracy: 0.9248\n",
      "313/313 [==============================] - 0s 751us/step - loss: 0.3953 - accuracy: 0.9210\n",
      "Epoch 1/10\n",
      "1875/1875 [==============================] - 1s 795us/step - loss: 0.5355 - accuracy: 0.8933\n",
      "Epoch 2/10\n",
      "1875/1875 [==============================] - 1s 789us/step - loss: 0.4306 - accuracy: 0.9101\n",
      "Epoch 3/10\n",
      "1875/1875 [==============================] - 1s 781us/step - loss: 0.4022 - accuracy: 0.9177\n",
      "Epoch 4/10\n",
      "1875/1875 [==============================] - 1s 799us/step - loss: 0.4085 - accuracy: 0.9143\n",
      "Epoch 5/10\n",
      "1875/1875 [==============================] - 2s 811us/step - loss: 0.3959 - accuracy: 0.9197\n",
      "Epoch 6/10\n",
      "1875/1875 [==============================] - 2s 854us/step - loss: 0.4143 - accuracy: 0.9099\n",
      "Epoch 7/10\n",
      "1875/1875 [==============================] - 2s 864us/step - loss: 0.3947 - accuracy: 0.9207\n",
      "Epoch 8/10\n",
      "1875/1875 [==============================] - 2s 833us/step - loss: 0.3858 - accuracy: 0.9208\n",
      "Epoch 9/10\n",
      "1875/1875 [==============================] - 1s 797us/step - loss: 0.3974 - accuracy: 0.9182\n",
      "Epoch 10/10\n",
      "1875/1875 [==============================] - 1s 783us/step - loss: 0.4066 - accuracy: 0.9170\n",
      "1875/1875 [==============================] - 1s 475us/step - loss: 0.4117 - accuracy: 0.9200\n",
      "313/313 [==============================] - 0s 817us/step - loss: 0.4232 - accuracy: 0.9179\n",
      "Epoch 1/10\n",
      "   1/1875 [..............................] - ETA: 0s - loss: 2.3001 - accuracy: 0.0938WARNING:tensorflow:Callbacks method `on_train_batch_end` is slow compared to the batch time (batch time: 0.0000s vs `on_train_batch_end` time: 0.0010s). Check your callbacks.\n",
      "1875/1875 [==============================] - 2s 937us/step - loss: 0.5387 - accuracy: 0.8950\n",
      "Epoch 2/10\n",
      "1875/1875 [==============================] - 2s 934us/step - loss: 0.4235 - accuracy: 0.9147\n",
      "Epoch 3/10\n",
      "1875/1875 [==============================] - 2s 905us/step - loss: 0.4360 - accuracy: 0.9107\n",
      "Epoch 4/10\n",
      "1875/1875 [==============================] - 2s 854us/step - loss: 0.4396 - accuracy: 0.9106\n",
      "Epoch 5/10\n",
      "1875/1875 [==============================] - 2s 886us/step - loss: 0.4234 - accuracy: 0.9136\n",
      "Epoch 6/10\n",
      "1875/1875 [==============================] - 2s 926us/step - loss: 0.4517 - accuracy: 0.9029\n",
      "Epoch 7/10\n",
      "1875/1875 [==============================] - 2s 920us/step - loss: 0.4336 - accuracy: 0.9108\n",
      "Epoch 8/10\n",
      "1875/1875 [==============================] - 2s 898us/step - loss: 0.4907 - accuracy: 0.8882\n",
      "Epoch 9/10\n",
      "1875/1875 [==============================] - 2s 935us/step - loss: 0.4499 - accuracy: 0.9003\n",
      "Epoch 10/10\n",
      "1875/1875 [==============================] - 2s 868us/step - loss: 0.4559 - accuracy: 0.8983\n",
      "1875/1875 [==============================] - 1s 500us/step - loss: 0.4679 - accuracy: 0.90200s - loss: 0.4712 - accuracy\n",
      "  1/313 [..............................] - ETA: 0s - loss: 0.2874 - accuracy: 0.9375WARNING:tensorflow:Callbacks method `on_test_batch_end` is slow compared to the batch time (batch time: 0.0000s vs `on_test_batch_end` time: 0.0010s). Check your callbacks.\n",
      "313/313 [==============================] - 0s 780us/step - loss: 0.4758 - accuracy: 0.8992\n",
      "Epoch 1/10\n",
      "1875/1875 [==============================] - 2s 1ms/step - loss: 0.7275 - accuracy: 0.7876\n",
      "Epoch 2/10\n",
      "1875/1875 [==============================] - 2s 1ms/step - loss: 0.6228 - accuracy: 0.8275\n",
      "Epoch 3/10\n",
      "1875/1875 [==============================] - 2s 1ms/step - loss: 0.5807 - accuracy: 0.8527\n",
      "Epoch 4/10\n",
      "1875/1875 [==============================] - 2s 1ms/step - loss: 0.5088 - accuracy: 0.8781\n",
      "Epoch 5/10\n",
      "1875/1875 [==============================] - 2s 1ms/step - loss: 0.6906 - accuracy: 0.7795\n",
      "Epoch 6/10\n",
      "1875/1875 [==============================] - 2s 1ms/step - loss: 0.6518 - accuracy: 0.8016\n",
      "Epoch 7/10\n",
      "1875/1875 [==============================] - 2s 1ms/step - loss: 0.7556 - accuracy: 0.7683\n",
      "Epoch 8/10\n",
      "1875/1875 [==============================] - 2s 1ms/step - loss: 0.8600 - accuracy: 0.7257\n",
      "Epoch 9/10\n",
      "1875/1875 [==============================] - 2s 1ms/step - loss: 0.6466 - accuracy: 0.7893\n",
      "Epoch 10/10\n",
      "1875/1875 [==============================] - 2s 1ms/step - loss: 0.7002 - accuracy: 0.7688\n",
      "1875/1875 [==============================] - 1s 523us/step - loss: 0.7112 - accuracy: 0.7622\n",
      "313/313 [==============================] - 0s 802us/step - loss: 0.7228 - accuracy: 0.7566\n"
     ]
    }
   ],
   "source": [
    "layers=[1,2,3,4,5]\n",
    "train_acc=[]\n",
    "test_acc=[]\n",
    "times=[]\n",
    "model =tf.keras.models.Sequential()\n",
    "model.add(tf.keras.layers.Flatten())\n",
    "for i in layers:\n",
    "    for j in range(i):\n",
    "        model.add(tf.keras.layers.Dense(32,activation=tf.nn.relu))\n",
    "    model.add(tf.keras.layers.Dense(10,activation=tf.nn.softmax))\n",
    "    model.compile(optimizer='adam',\n",
    "              loss='sparse_categorical_crossentropy',\n",
    "             metrics=['accuracy'])\n",
    "    t_s=time.time()#calculate time\n",
    "    model.fit(x_train,y_train,epochs=10)\n",
    "    t_e=time.time()\n",
    "    times.append(t_e-t_s)\n",
    "    train_acc.append(model.evaluate(x_train,y_train)[1])\n",
    "    test_acc.append(model.evaluate(x_test,y_test)[1]) \n"
   ]
  },
  {
   "cell_type": "code",
   "execution_count": 47,
   "metadata": {},
   "outputs": [
    {
     "data": {
      "image/png": "[encoded data removed]",
      "text/plain": [
       "<Figure size 432x288 with 1 Axes>"
      ]
     },
     "metadata": {
      "needs_background": "light"
     },
     "output_type": "display_data"
    }
   ],
   "source": [
    "import seaborn as sns\n",
    "import matplotlib.pyplot as plt\n",
    "sns.barplot(layers,test_acc)\n",
    "plt.xlabel('Layers')\n",
    "plt.ylabel('Test Accuracy')\n",
    "# Show the plot\n",
    "plt.show()"
   ]
  },
  {
   "cell_type": "code",
   "execution_count": 48,
   "metadata": {},
   "outputs": [
    {
     "data": {
      "image/png": "[encoded data removed]",
      "text/plain": [
       "<Figure size 432x288 with 1 Axes>"
      ]
     },
     "metadata": {
      "needs_background": "light"
     },
     "output_type": "display_data"
    }
   ],
   "source": [
    "import seaborn as sns\n",
    "import matplotlib.pyplot as plt\n",
    "sns.barplot(layers,train_acc)\n",
    "plt.xlabel('Layers')\n",
    "plt.ylabel('Training Accuracy')\n",
    "# Show the plot\n",
    "plt.show()"
   ]
  },
  {
   "cell_type": "code",
   "execution_count": 50,
   "metadata": {},
   "outputs": [
    {
     "data": {
      "image/png": "[encoded data removed]",
      "text/plain": [
       "<Figure size 432x288 with 1 Axes>"
      ]
     },
     "metadata": {
      "needs_background": "light"
     },
     "output_type": "display_data"
    }
   ],
   "source": [
    "import seaborn as sns\n",
    "import matplotlib.pyplot as plt\n",
    "sns.barplot(layers,times)\n",
    "plt.xlabel('Layers')\n",
    "plt.ylabel('Time')\n",
    "# Show the plot\n",
    "plt.show()"
   ]
  },
  {
   "cell_type": "code",
   "execution_count": null,
   "metadata": {},
   "outputs": [],
   "source": []
  }
 ],
 "metadata": {
  "kernelspec": {
   "display_name": "Python 3",
   "language": "python",
   "name": "python3"
  },
  "language_info": {
   "codemirror_mode": {
    "name": "ipython",
    "version": 3
   },
   "file_extension": ".py",
   "mimetype": "text/x-python",
   "name": "python",
   "nbconvert_exporter": "python",
   "pygments_lexer": "ipython3",
   "version": "3.8.3"
  }
 },
 "nbformat": 4,
 "nbformat_minor": 4
}
